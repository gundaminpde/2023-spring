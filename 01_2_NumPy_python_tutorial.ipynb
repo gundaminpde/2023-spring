{
  "nbformat": 4,
  "nbformat_minor": 0,
  "metadata": {
    "colab": {
      "provenance": [],
      "authorship_tag": "ABX9TyOpEhpg9mYeUdMiCQs8tX87",
      "include_colab_link": true
    },
    "kernelspec": {
      "name": "python3",
      "display_name": "Python 3"
    },
    "language_info": {
      "name": "python"
    }
  },
  "cells": [
    {
      "cell_type": "markdown",
      "metadata": {
        "id": "view-in-github",
        "colab_type": "text"
      },
      "source": [
        "<a href=\"https://colab.research.google.com/github/gundaminpde/2023-spring/blob/main/01_2_NumPy_python_tutorial.ipynb\" target=\"_parent\"><img src=\"https://colab.research.google.com/assets/colab-badge.svg\" alt=\"Open In Colab\"/></a>"
      ]
    },
    {
      "cell_type": "markdown",
      "source": [
        "This is a modification of a tutorial of Dr. Tirthajyoti Sarkar, Fremont, CA, 94536. You can find the original one at https://github.com/tirthajyoti/Machine-Learning-with-Python/blob/master/Pandas%20and%20Numpy/Numpy_operations.ipynb"
      ],
      "metadata": {
        "id": "M5EjF40xNdh8"
      }
    },
    {
      "cell_type": "markdown",
      "source": [
        "# **Vectors and matrices**"
      ],
      "metadata": {
        "id": "NL47rdCdOCWF"
      }
    },
    {
      "cell_type": "code",
      "execution_count": 1,
      "metadata": {
        "colab": {
          "base_uri": "https://localhost:8080/"
        },
        "id": "GHmf54J4M-53",
        "outputId": "b4acef94-e520-4566-d916-8609c64dbd37"
      },
      "outputs": [
        {
          "output_type": "stream",
          "name": "stdout",
          "text": [
            "Type/Class of this object: <class 'numpy.ndarray'>\n",
            "Here is the vector\n",
            "--------------------\n",
            " [1 2 3]\n"
          ]
        }
      ],
      "source": [
        "import numpy as np\n",
        "\n",
        "my_list = [1,2,3]\n",
        "\n",
        "arr = np.array(my_list)\n",
        "\n",
        "print(\"Type/Class of this object:\",type(arr))\n",
        "print(\"Here is the vector\\n--------------------\\n\",arr)"
      ]
    },
    {
      "cell_type": "code",
      "source": [
        "my_mat = [[1,2,3],[4,5,6],[7,8,9]]\n",
        "\n",
        "mat = np.array(my_mat)\n",
        "\n",
        "print(\"Type/Class of this object:\",type(mat))\n",
        "print(\"Here is the matrix\\n----------\\n\",mat,\"\\n----------\")\n",
        "print(\"Dimension of this matrix: \",mat.ndim,sep='') #ndim gives the dimensison, 2 for a matrix, 1 for a vector\n",
        "print(\"Size of this matrix: \", mat.size,sep='') #size gives the total number of elements\n",
        "print(\"Shape of this matrix: \", mat.shape,sep='') #shape gives the number of elements along each axes (dimension)\n",
        "print(\"Data type of this matrix: \", mat.dtype,sep='') #dtype gives the data type contained in the array\n",
        "\n",
        "my_mat = [[1.1,2,3],[4,5.2,6],[7,8.3,9]]  ### 정수가 아닌 숫자 사용\n",
        "\n",
        "mat = np.array(my_mat)\n",
        "\n",
        "print(\"Data type of the modified matrix: \", mat.dtype,sep='') #dtype gives the data type contained in the array\n",
        "print(\"\\n\\nEven tuples can be converted to ndarrays...\")\n",
        "\n",
        "b = np.array([(1.5,2,3), (4,5,6)])\n",
        "\n",
        "print(\"We write b = np.array([(1.5,2,3), (4,5,6)])\")\n",
        "print(\"Matrix made from tuples, not lists\\n---------------------------------------\")\n",
        "print(b)"
      ],
      "metadata": {
        "colab": {
          "base_uri": "https://localhost:8080/"
        },
        "id": "hOkI7haIOVxu",
        "outputId": "0fa04f65-ba5b-4e96-ba9f-0f521af336f8"
      },
      "execution_count": 2,
      "outputs": [
        {
          "output_type": "stream",
          "name": "stdout",
          "text": [
            "Type/Class of this object: <class 'numpy.ndarray'>\n",
            "Here is the matrix\n",
            "----------\n",
            " [[1 2 3]\n",
            " [4 5 6]\n",
            " [7 8 9]] \n",
            "----------\n",
            "Dimension of this matrix: 2\n",
            "Size of this matrix: 9\n",
            "Shape of this matrix: (3, 3)\n",
            "Data type of this matrix: int64\n",
            "Data type of the modified matrix: float64\n",
            "\n",
            "\n",
            "Even tuples can be converted to ndarrays...\n",
            "We write b = np.array([(1.5,2,3), (4,5,6)])\n",
            "Matrix made from tuples, not lists\n",
            "---------------------------------------\n",
            "[[1.5 2.  3. ]\n",
            " [4.  5.  6. ]]\n"
          ]
        }
      ]
    },
    {
      "cell_type": "markdown",
      "source": [
        "## 'arange' and 'linspace'"
      ],
      "metadata": {
        "id": "u4U0IaAiOo4i"
      }
    },
    {
      "cell_type": "code",
      "source": [
        "print(\"A series of numbers:\",np.arange(5,16)) # A series of numbers from low to high"
      ],
      "metadata": {
        "colab": {
          "base_uri": "https://localhost:8080/"
        },
        "id": "axBsYJ4nOkxD",
        "outputId": "e46c4675-d1ad-46ad-d48f-9ba12724bb3b"
      },
      "execution_count": 3,
      "outputs": [
        {
          "output_type": "stream",
          "name": "stdout",
          "text": [
            "A series of numbers: [ 5  6  7  8  9 10 11 12 13 14 15]\n"
          ]
        }
      ]
    },
    {
      "cell_type": "code",
      "source": [
        "## 소수간(마디)의 길이 지정\n",
        "\n",
        "print(\"Numbers spaced apart by 2:\",np.arange(0,11,2)) # Numbers spaced apart by 2"
      ],
      "metadata": {
        "colab": {
          "base_uri": "https://localhost:8080/"
        },
        "id": "VfphOg4pOwHo",
        "outputId": "ff707429-0010-4523-9889-21323eee31a2"
      },
      "execution_count": 4,
      "outputs": [
        {
          "output_type": "stream",
          "name": "stdout",
          "text": [
            "Numbers spaced apart by 2: [ 0  2  4  6  8 10]\n"
          ]
        }
      ]
    },
    {
      "cell_type": "code",
      "source": [
        "print(\"Numbers spaced apart by float:\",np.arange(0,11,2.5)) # Numbers spaced apart by 2.5"
      ],
      "metadata": {
        "colab": {
          "base_uri": "https://localhost:8080/"
        },
        "id": "1TS0kdUjOz7P",
        "outputId": "b4a2d866-b78c-48ce-a4dd-571bc3a5693b"
      },
      "execution_count": 6,
      "outputs": [
        {
          "output_type": "stream",
          "name": "stdout",
          "text": [
            "Numbers spaced apart by float: [ 0.   2.5  5.   7.5 10. ]\n"
          ]
        }
      ]
    },
    {
      "cell_type": "code",
      "source": [
        "### 역순이다.\n",
        "\n",
        "print(\"Every 5th number from 50 in reverse order\\n\",np.arange(50,-1,-5))"
      ],
      "metadata": {
        "colab": {
          "base_uri": "https://localhost:8080/"
        },
        "id": "tjPgrDGPO2As",
        "outputId": "f39d3c01-d02f-4a47-e751-0f84d76e648d"
      },
      "execution_count": 5,
      "outputs": [
        {
          "output_type": "stream",
          "name": "stdout",
          "text": [
            "Every 5th number from 50 in reverse order\n",
            " [50 45 40 35 30 25 20 15 10  5  0]\n"
          ]
        }
      ]
    },
    {
      "cell_type": "code",
      "source": [
        "### linspace 사용\n",
        "\n",
        "print(\"21 linearly spaced numbers between 1 and 5\\n--------------------------------------------\")\n",
        "print(np.linspace(1,5,21))"
      ],
      "metadata": {
        "colab": {
          "base_uri": "https://localhost:8080/"
        },
        "id": "TOhA4LpLPA_J",
        "outputId": "d1747c8c-744e-4fa9-bfe6-bc0cd58a4763"
      },
      "execution_count": 8,
      "outputs": [
        {
          "output_type": "stream",
          "name": "stdout",
          "text": [
            "21 linearly spaced numbers between 1 and 5\n",
            "--------------------------------------------\n",
            "[1.  1.2 1.4 1.6 1.8 2.  2.2 2.4 2.6 2.8 3.  3.2 3.4 3.6 3.8 4.  4.2 4.4\n",
            " 4.6 4.8 5. ]\n"
          ]
        }
      ]
    },
    {
      "cell_type": "markdown",
      "source": [
        "# Zeroes, Ones, empty, and Identity matrix\n"
      ],
      "metadata": {
        "id": "_WkwJ7AsPbSh"
      }
    },
    {
      "cell_type": "code",
      "source": [
        "print(\"Vector of zeroes\\n---------------------\")\n",
        "print(np.zeros(5))                # Tuple이 아니다.\n",
        "print(\"Matrix of zeroes\\n--------------------\")\n",
        "print(np.zeros((3,4)))            # Notice Tuples"
      ],
      "metadata": {
        "colab": {
          "base_uri": "https://localhost:8080/"
        },
        "id": "5V8We5pGPDa2",
        "outputId": "c8f83e7a-e764-4cdb-d647-b71257772310"
      },
      "execution_count": 9,
      "outputs": [
        {
          "output_type": "stream",
          "name": "stdout",
          "text": [
            "Vector of zeroes\n",
            "---------------------\n",
            "[0. 0. 0. 0. 0.]\n",
            "Matrix of zeroes\n",
            "--------------------\n",
            "[[0. 0. 0. 0.]\n",
            " [0. 0. 0. 0.]\n",
            " [0. 0. 0. 0.]]\n"
          ]
        }
      ]
    },
    {
      "cell_type": "code",
      "source": [
        "print(\"Matrix of ones\\n---------------------\")\n",
        "print(np.ones((5,2))) # Note matrix dimension specified by Tuples\n",
        "print(\"Matrix of 5's\\n---------------------\")\n",
        "print(5*np.ones((3,5))) ### 상수곱"
      ],
      "metadata": {
        "colab": {
          "base_uri": "https://localhost:8080/"
        },
        "id": "pNZOZSnxP4Wj",
        "outputId": "a2909c68-4d93-42f6-8c2d-9749f9f4232a"
      },
      "execution_count": 10,
      "outputs": [
        {
          "output_type": "stream",
          "name": "stdout",
          "text": [
            "Matrix of ones\n",
            "---------------------\n",
            "[[1. 1.]\n",
            " [1. 1.]\n",
            " [1. 1.]\n",
            " [1. 1.]\n",
            " [1. 1.]]\n",
            "Matrix of 5's\n",
            "---------------------\n",
            "[[5. 5. 5. 5. 5.]\n",
            " [5. 5. 5. 5. 5.]\n",
            " [5. 5. 5. 5. 5.]]\n"
          ]
        }
      ]
    },
    {
      "cell_type": "code",
      "source": [
        "print(\"Empty matrix\\n-------------\\n\", np.empty((3,5)))"
      ],
      "metadata": {
        "colab": {
          "base_uri": "https://localhost:8080/"
        },
        "id": "Z9cMve7aQKmV",
        "outputId": "7dd4eab1-a3fe-4663-c97b-64341e82ff34"
      },
      "execution_count": 11,
      "outputs": [
        {
          "output_type": "stream",
          "name": "stdout",
          "text": [
            "Empty matrix\n",
            "-------------\n",
            " [[5. 5. 5. 5. 5.]\n",
            " [5. 5. 5. 5. 5.]\n",
            " [5. 5. 5. 5. 5.]]\n"
          ]
        }
      ]
    },
    {
      "cell_type": "code",
      "source": [
        "\n",
        "mat1 = np.eye(4)    ### n x n 행렬이어야 하므로 n만 입력한다.\n",
        "print(\"Identity matrix of dimension\", mat1.shape)\n",
        "print(mat1)\n"
      ],
      "metadata": {
        "colab": {
          "base_uri": "https://localhost:8080/"
        },
        "id": "H2ZFi2nKQVsg",
        "outputId": "7ab65494-c7bd-4b20-8e27-54b2b1df22ea"
      },
      "execution_count": 12,
      "outputs": [
        {
          "output_type": "stream",
          "name": "stdout",
          "text": [
            "Identity matrix of dimension (4, 4)\n",
            "[[1. 0. 0. 0.]\n",
            " [0. 1. 0. 0.]\n",
            " [0. 0. 1. 0.]\n",
            " [0. 0. 0. 1.]]\n"
          ]
        }
      ]
    },
    {
      "cell_type": "markdown",
      "source": [
        "# Random number generation\n",
        "\n",
        "np.random. + rand, randn 그리고 randint"
      ],
      "metadata": {
        "id": "fo5b5C20QkAE"
      }
    },
    {
      "cell_type": "code",
      "source": [
        "print(\"Random number generation (from Uniform distribution)\")\n",
        "print(np.random.rand(2,3)) # 2 by 3 matrix with random numbers ranging from 0 to 1, Note no Tuple is necessary "
      ],
      "metadata": {
        "colab": {
          "base_uri": "https://localhost:8080/"
        },
        "id": "08J_SQNSQmH-",
        "outputId": "1091c6e6-3dac-473a-c180-47d58b662e82"
      },
      "execution_count": 13,
      "outputs": [
        {
          "output_type": "stream",
          "name": "stdout",
          "text": [
            "Random number generation (from Uniform distribution)\n",
            "[[0.35257858 0.98711411 0.28762008]\n",
            " [0.21608998 0.78025141 0.96654034]]\n"
          ]
        }
      ]
    },
    {
      "cell_type": "code",
      "source": [
        "print(\"Numbers from Normal distribution with zero mean and standard deviation 1 i.e. standard normal\")\n",
        "print(np.random.randn(4,3))\n",
        "\n",
        "### randn 과 rand가 차이가 있음."
      ],
      "metadata": {
        "colab": {
          "base_uri": "https://localhost:8080/"
        },
        "id": "2kZS6vW5Q4td",
        "outputId": "04e370d3-c754-4b26-8104-228fddf94f51"
      },
      "execution_count": 14,
      "outputs": [
        {
          "output_type": "stream",
          "name": "stdout",
          "text": [
            "Numbers from Normal distribution with zero mean and standard deviation 1 i.e. standard normal\n",
            "[[-0.74821886  0.89854182 -0.87425438]\n",
            " [-0.26550286  0.21046814  2.05643082]\n",
            " [-0.98498223  2.46840664  0.41212136]\n",
            " [ 0.40627106 -1.23666092  0.53814935]]\n"
          ]
        }
      ]
    },
    {
      "cell_type": "code",
      "source": [
        "### randint를 사용하였다.\n",
        "\n",
        "print(\"Random integer vector:\",np.random.randint(1,100,10)) #randint (low, high, # of samples to be drawn)\n",
        "print (\"\\nRandom integer matrix\")\n",
        "\n",
        "print(np.random.randint(1,100,(4,4))) #randint (low, high, # of samples to be drawn in a tuple to form a matrix)\n",
        "\n",
        "print(\"\\n20 samples drawn from a dice throw:\",np.random.randint(1,7,20)) # 20 samples drawn from a dice throw\n",
        "\n"
      ],
      "metadata": {
        "colab": {
          "base_uri": "https://localhost:8080/"
        },
        "id": "Xxl-s1O9RIIN",
        "outputId": "4b5824c5-f01a-49ef-a56f-dc6042a351a7"
      },
      "execution_count": 15,
      "outputs": [
        {
          "output_type": "stream",
          "name": "stdout",
          "text": [
            "Random integer vector: [37 15 66 39 57 55 39  9 24 55]\n",
            "\n",
            "Random integer matrix\n",
            "[[97 32 69 27]\n",
            " [47 48 70 14]\n",
            " [58  4  1 78]\n",
            " [82 90  8 90]]\n",
            "\n",
            "20 samples drawn from a dice throw: [5 3 1 2 1 6 6 1 3 5 5 2 4 3 5 3 3 4 5 2]\n"
          ]
        }
      ]
    },
    {
      "cell_type": "markdown",
      "source": [
        "# Reshaping, min, max, sort"
      ],
      "metadata": {
        "id": "ljJlsTT0Rtof"
      }
    },
    {
      "cell_type": "code",
      "source": [
        "from numpy.random import randint as ri\n",
        "\n",
        "a = ri(1,100,30)\n",
        "b = a.reshape(2,3,5)\n",
        "c = a.reshape(6,5)\n",
        "\n",
        "\n",
        "print (\"Shape of a:\", a.shape)\n",
        "print (\"Shape of b:\", b.shape)\n",
        "print (\"Shape of c:\", c.shape)\n",
        "\n",
        "print(\"\\na looks like\\n\",'-'*20,\"\\n\",a,\"\\n\",'-'*20)\n",
        "print(\"\\nb looks like\\n\",'-'*20,\"\\n\",b,\"\\n\",'-'*20)\n",
        "print(\"\\nc looks like\\n\",'-'*20,\"\\n\",c,\"\\n\",'-'*20)\n"
      ],
      "metadata": {
        "colab": {
          "base_uri": "https://localhost:8080/"
        },
        "id": "-5aZqqg_RxFN",
        "outputId": "aafce374-d4ed-4d03-e4b0-4eaad206f0e3"
      },
      "execution_count": 20,
      "outputs": [
        {
          "output_type": "stream",
          "name": "stdout",
          "text": [
            "Shape of a: (30,)\n",
            "Shape of b: (2, 3, 5)\n",
            "Shape of c: (6, 5)\n",
            "\n",
            "a looks like\n",
            " -------------------- \n",
            " [29 92 59 51 11 81 47 67 77 74 70 92 77  2 97 80 41 14  8 59  4 88 58  3\n",
            " 27 87 61 96 53  1] \n",
            " --------------------\n",
            "\n",
            "b looks like\n",
            " -------------------- \n",
            " [[[29 92 59 51 11]\n",
            "  [81 47 67 77 74]\n",
            "  [70 92 77  2 97]]\n",
            "\n",
            " [[80 41 14  8 59]\n",
            "  [ 4 88 58  3 27]\n",
            "  [87 61 96 53  1]]] \n",
            " --------------------\n",
            "\n",
            "c looks like\n",
            " -------------------- \n",
            " [[29 92 59 51 11]\n",
            " [81 47 67 77 74]\n",
            " [70 92 77  2 97]\n",
            " [80 41 14  8 59]\n",
            " [ 4 88 58  3 27]\n",
            " [87 61 96 53  1]] \n",
            " --------------------\n"
          ]
        }
      ]
    },
    {
      "cell_type": "code",
      "source": [
        "\n",
        "A = ri(1,100,10) # Vector of random interegrs\n",
        "print(\"\\nVector of random integers ri(1,100,10) \\n\",'-'*50,\"\\n\",A)\n",
        "print(\"\\nHere is the sorted vector by np.sort(A, kind='mergesort')) \\n\",'-'*50,\"\\n\",np.sort(A, kind='mergesort'))\n"
      ],
      "metadata": {
        "colab": {
          "base_uri": "https://localhost:8080/"
        },
        "id": "fnnGLKNnS2Wn",
        "outputId": "de749c39-5608-47eb-9f1e-3c7f5521b155"
      },
      "execution_count": 21,
      "outputs": [
        {
          "output_type": "stream",
          "name": "stdout",
          "text": [
            "\n",
            "Vector of random integers ri(1,100,10) \n",
            " -------------------------------------------------- \n",
            " [91 63 86 64 50 20 94 46 99 50]\n",
            "\n",
            "Here is the sorted vector by np.sort(A, kind='mergesort')) \n",
            " -------------------------------------------------- \n",
            " [20 46 50 50 63 64 86 91 94 99]\n"
          ]
        }
      ]
    },
    {
      "cell_type": "code",
      "source": [
        "\n",
        "M = ri(1,100,25).reshape(5,5) # Matrix of random interegrs\n",
        "print(\"\\n5x5 Matrix of random integers\\n\",'-'*50,\"\\n\",M)\n",
        "print(\"\\nHere is the sorted matrix along each row\\n\",'-'*50,\"\\n\",np.sort(M, kind='mergesort')) # Default axis =1\n",
        "print(\"\\nHere is the sorted matrix along each column\\n\",'-'*50,\"\\n\",np.sort(M, axis=0, kind='mergesort'))"
      ],
      "metadata": {
        "colab": {
          "base_uri": "https://localhost:8080/"
        },
        "id": "E5O-5kHUS5Ks",
        "outputId": "9e53bba4-2355-4f15-bd02-d2af9ebc3217"
      },
      "execution_count": 22,
      "outputs": [
        {
          "output_type": "stream",
          "name": "stdout",
          "text": [
            "\n",
            "5x5 Matrix of random integers\n",
            " -------------------------------------------------- \n",
            " [[69 49 97 32 52]\n",
            " [88 39 21 14 60]\n",
            " [99 74 69 40 51]\n",
            " [96 12 82 10 67]\n",
            " [81 16 96 69 56]]\n",
            "\n",
            "Here is the sorted matrix along each row\n",
            " -------------------------------------------------- \n",
            " [[32 49 52 69 97]\n",
            " [14 21 39 60 88]\n",
            " [40 51 69 74 99]\n",
            " [10 12 67 82 96]\n",
            " [16 56 69 81 96]]\n",
            "\n",
            "Here is the sorted matrix along each column\n",
            " -------------------------------------------------- \n",
            " [[69 12 21 10 51]\n",
            " [81 16 69 14 52]\n",
            " [88 39 82 32 56]\n",
            " [96 49 96 40 60]\n",
            " [99 74 97 69 67]]\n"
          ]
        }
      ]
    },
    {
      "cell_type": "code",
      "source": [
        "a = ri(1,100,30)\n",
        "b = a.reshape(2,3,5)\n",
        "c = a.reshape(6,5)\n",
        "print(\"\\na looks like\\n\",'-'*20,\"\\n\",a,\"\\n\",'-'*20)\n",
        "print(\"\\nb looks like\\n\",'-'*20,\"\\n\",b,\"\\n\",'-'*20)\n",
        "print(\"\\nc looks like\\n\",'-'*20,\"\\n\",c,\"\\n\",'-'*20)\n",
        "print(\"Max of a:\", a.max())\n",
        "print(\"Min of b:\", b.min())\n",
        "print(\"Max of a location:\", a.argmax())\n",
        "print(\"Max of b location:\", b.argmax())\n",
        "print(\"Max of c location:\", c.argmax())"
      ],
      "metadata": {
        "colab": {
          "base_uri": "https://localhost:8080/"
        },
        "id": "yhHfqjNpTFGw",
        "outputId": "11930dc4-55e9-4a56-b868-4a50ddacb52c"
      },
      "execution_count": 25,
      "outputs": [
        {
          "output_type": "stream",
          "name": "stdout",
          "text": [
            "\n",
            "a looks like\n",
            " -------------------- \n",
            " [96 44 49 20 22 96 93 37 89 71 58 86  3 12 93 60 45 53 42 18 68 64 23 26\n",
            " 77  5 31 71 89 94] \n",
            " --------------------\n",
            "\n",
            "b looks like\n",
            " -------------------- \n",
            " [[[96 44 49 20 22]\n",
            "  [96 93 37 89 71]\n",
            "  [58 86  3 12 93]]\n",
            "\n",
            " [[60 45 53 42 18]\n",
            "  [68 64 23 26 77]\n",
            "  [ 5 31 71 89 94]]] \n",
            " --------------------\n",
            "\n",
            "c looks like\n",
            " -------------------- \n",
            " [[96 44 49 20 22]\n",
            " [96 93 37 89 71]\n",
            " [58 86  3 12 93]\n",
            " [60 45 53 42 18]\n",
            " [68 64 23 26 77]\n",
            " [ 5 31 71 89 94]] \n",
            " --------------------\n",
            "Max of a: 96\n",
            "Min of b: 3\n",
            "Max of a location: 0\n",
            "Max of b location: 0\n",
            "Max of c location: 0\n"
          ]
        }
      ]
    },
    {
      "cell_type": "markdown",
      "source": [
        "# Indexing and slicing"
      ],
      "metadata": {
        "id": "hA3P2tx2TzzS"
      }
    },
    {
      "cell_type": "code",
      "source": [
        "arr = np.arange(0,11)\n",
        "print(\"Array:\",arr)\n",
        "print(\"Type:\",type(arr))\n",
        "print(\"Element at 7th index is:\", arr[7])\n",
        "print(\"Elements from 3rd to 5th index are:\", arr[3:6])\n",
        "print(\"Elements up to 4th index are:\", arr[:4])\n",
        "print(\"Elements from last backwards are:\", arr[-1::-1])\n",
        "print(\"3 Elements from last backwards are:\", arr[-1:-6:-2])\n",
        "\n",
        "arr = np.arange(0,21,2)\n",
        "print(\"New array:\",arr)\n",
        "print(\"Elements at 2nd, 4th, and 9th index are:\", arr[[2,4,9]]) # Pass a list as a index to subset"
      ],
      "metadata": {
        "colab": {
          "base_uri": "https://localhost:8080/"
        },
        "id": "5-3jTbVLT4FO",
        "outputId": "04b446d2-2a82-4f95-f0f1-94da70c67262"
      },
      "execution_count": 28,
      "outputs": [
        {
          "output_type": "stream",
          "name": "stdout",
          "text": [
            "Array: [ 0  1  2  3  4  5  6  7  8  9 10]\n",
            "Type: <class 'numpy.ndarray'>\n",
            "Element at 7th index is: 7\n",
            "Elements from 3rd to 5th index are: [3 4 5]\n",
            "Elements up to 4th index are: [0 1 2 3]\n",
            "Elements from last backwards are: [10  9  8  7  6  5  4  3  2  1  0]\n",
            "3 Elements from last backwards are: [10  8  6]\n",
            "New array: [ 0  2  4  6  8 10 12 14 16 18 20]\n",
            "Elements at 2nd, 4th, and 9th index are: [ 4  8 18]\n"
          ]
        }
      ]
    },
    {
      "cell_type": "code",
      "source": [
        "mat = np.array(ri(10,100,15)).reshape(3,5)\n",
        "print(\"Matrix of random 2-digit numbers\\n--------------------------------\\n\",mat)\n",
        "\n",
        "print(\"\\nDouble bracket indexing\\n------------------------\")\n",
        "print(\"Element in row index 1 and column index 2:\", mat[1][2])\n",
        "\n",
        "print(\"\\nSingle bracket with comma indexing\\n----------------------------------\")\n",
        "print(\"Element in row index 1 and column index 2:\", mat[1,2])\n",
        "print(\"\\nRow or column extract\\n----------------------\")\n",
        "\n",
        "print(\"Entire row at index 2:\", mat[2])\n",
        "print(\"Entire column at index 3:\", mat[:,3])\n",
        "\n",
        "print(\"\\nSubsetting sub-matrices\\n--------------------------\")\n",
        "print(\"Matrix with row indices 1 and 2 and column indices 3 and 4\\n\", mat[1:3,3:5])\n",
        "print(\"Matrix with row indices 0 and 1 and column indices 1 and 3\\n\", mat[0:2,[1,3]])"
      ],
      "metadata": {
        "colab": {
          "base_uri": "https://localhost:8080/"
        },
        "id": "mLQEbH_vUQmz",
        "outputId": "b78fbc21-4e97-4843-9ed6-547a1b59a69f"
      },
      "execution_count": 29,
      "outputs": [
        {
          "output_type": "stream",
          "name": "stdout",
          "text": [
            "Matrix of random 2-digit numbers\n",
            "--------------------------------\n",
            " [[48 22 55 14 67]\n",
            " [40 14 68 32 90]\n",
            " [93 25 11 42 41]]\n",
            "\n",
            "Double bracket indexing\n",
            "------------------------\n",
            "Element in row index 1 and column index 2: 68\n",
            "\n",
            "Single bracket with comma indexing\n",
            "----------------------------------\n",
            "Element in row index 1 and column index 2: 68\n",
            "\n",
            "Row or column extract\n",
            "----------------------\n",
            "Entire row at index 2: [93 25 11 42 41]\n",
            "Entire column at index 3: [14 32 42]\n",
            "\n",
            "Subsetting sub-matrices\n",
            "--------------------------\n",
            "Matrix with row indices 1 and 2 and column indices 3 and 4\n",
            " [[32 90]\n",
            " [42 41]]\n",
            "Matrix with row indices 0 and 1 and column indices 1 and 3\n",
            " [[22 14]\n",
            " [14 32]]\n"
          ]
        }
      ]
    },
    {
      "cell_type": "code",
      "source": [
        "print(\"Matrix of random 2-digit numbers\\n--------------------------------\\n\",mat)\n",
        "\n",
        "print(\"\\nDouble bracket indexing\\n------------------------\")\n",
        "print(\"Element in (1,3) and (2,4):\", mat[[1,2],[3,4]])\n"
      ],
      "metadata": {
        "colab": {
          "base_uri": "https://localhost:8080/"
        },
        "id": "BCBB2vPRUuW2",
        "outputId": "d2a54663-925f-4289-96ff-6bee647870a4"
      },
      "execution_count": 34,
      "outputs": [
        {
          "output_type": "stream",
          "name": "stdout",
          "text": [
            "Matrix of random 2-digit numbers\n",
            "--------------------------------\n",
            " [[48 22 55 14 67]\n",
            " [40 14 68 32 90]\n",
            " [93 25 11 42 41]]\n",
            "\n",
            "Double bracket indexing\n",
            "------------------------\n",
            "Element in (1,3) and (2,4): [32 41]\n"
          ]
        }
      ]
    },
    {
      "cell_type": "markdown",
      "source": [
        "# **Broadcasting (super cool feature)**"
      ],
      "metadata": {
        "id": "RwqCCxjlWw0y"
      }
    },
    {
      "cell_type": "code",
      "source": [
        "start = np.zeros((4,3))\n",
        "print(start)\n"
      ],
      "metadata": {
        "colab": {
          "base_uri": "https://localhost:8080/"
        },
        "id": "OAJtcWngW02G",
        "outputId": "c7966019-5f4b-4936-da30-2a275a05c03e"
      },
      "execution_count": 35,
      "outputs": [
        {
          "output_type": "stream",
          "name": "stdout",
          "text": [
            "[[0. 0. 0.]\n",
            " [0. 0. 0.]\n",
            " [0. 0. 0.]\n",
            " [0. 0. 0.]]\n"
          ]
        }
      ]
    },
    {
      "cell_type": "code",
      "source": [
        "# create a rank 1 ndarray with 3 values\n",
        "add_rows = np.array([1, 0, 2])\n",
        "print(add_rows)"
      ],
      "metadata": {
        "colab": {
          "base_uri": "https://localhost:8080/"
        },
        "id": "S3dLvmAwW6Bk",
        "outputId": "e10686fa-3a79-497f-9b3f-f56266ee6be4"
      },
      "execution_count": 36,
      "outputs": [
        {
          "output_type": "stream",
          "name": "stdout",
          "text": [
            "[1 0 2]\n"
          ]
        }
      ]
    },
    {
      "cell_type": "code",
      "source": [
        "y = start + add_rows  # add to each row of 'start' using broadcasting\n",
        "print(y)"
      ],
      "metadata": {
        "colab": {
          "base_uri": "https://localhost:8080/"
        },
        "id": "_aKv_yFyW9Ja",
        "outputId": "b280f2f1-34cc-478c-9172-38f5c61b37c3"
      },
      "execution_count": 37,
      "outputs": [
        {
          "output_type": "stream",
          "name": "stdout",
          "text": [
            "[[1. 0. 2.]\n",
            " [1. 0. 2.]\n",
            " [1. 0. 2.]\n",
            " [1. 0. 2.]]\n"
          ]
        }
      ]
    },
    {
      "cell_type": "code",
      "source": [
        "# create an ndarray which is 4 x 1 to broadcast across columns\n",
        "add_cols = np.array([[0,1,2,3]])\n",
        "add_cols = add_cols.T\n",
        "print(add_cols)"
      ],
      "metadata": {
        "colab": {
          "base_uri": "https://localhost:8080/"
        },
        "id": "YZ7FyRKkW_t9",
        "outputId": "aefdfdab-b602-4e8e-fa0f-a116551bff56"
      },
      "execution_count": 38,
      "outputs": [
        {
          "output_type": "stream",
          "name": "stdout",
          "text": [
            "[[0]\n",
            " [1]\n",
            " [2]\n",
            " [3]]\n"
          ]
        }
      ]
    },
    {
      "cell_type": "code",
      "source": [
        "# add to each column of 'start' using broadcasting\n",
        "y = start + add_cols \n",
        "print(y)"
      ],
      "metadata": {
        "colab": {
          "base_uri": "https://localhost:8080/"
        },
        "id": "jHfP6ryhXEBd",
        "outputId": "51d15773-45d8-4d8a-ec02-2bd03b7e9562"
      },
      "execution_count": 39,
      "outputs": [
        {
          "output_type": "stream",
          "name": "stdout",
          "text": [
            "[[0. 0. 0.]\n",
            " [1. 1. 1.]\n",
            " [2. 2. 2.]\n",
            " [3. 3. 3.]]\n"
          ]
        }
      ]
    },
    {
      "cell_type": "code",
      "source": [
        "# this will just broadcast in both dimensions\n",
        "add_scalar = np.array([100])  \n",
        "print(start+add_scalar)"
      ],
      "metadata": {
        "colab": {
          "base_uri": "https://localhost:8080/"
        },
        "id": "-I8q_YFOXGaZ",
        "outputId": "8cef9323-52e6-4842-feb2-73f3b12a8931"
      },
      "execution_count": 40,
      "outputs": [
        {
          "output_type": "stream",
          "name": "stdout",
          "text": [
            "[[100. 100. 100.]\n",
            " [100. 100. 100.]\n",
            " [100. 100. 100.]\n",
            " [100. 100. 100.]]\n"
          ]
        }
      ]
    },
    {
      "cell_type": "markdown",
      "source": [
        "\n",
        "# **NumPy mathematical functions on array**"
      ],
      "metadata": {
        "id": "acDmsL7AXQDx"
      }
    },
    {
      "cell_type": "code",
      "source": [
        "mat1 = np.array(ri(1,10,9)).reshape(3,3)\n",
        "mat2 = np.array(ri(1,10,9)).reshape(3,3)\n",
        "print(\"\\n1st Matrix of random single-digit numbers\\n----------------------------------------\\n\",mat1)\n",
        "print(\"\\n2nd Matrix of random single-digit numbers\\n----------------------------------------\\n\",mat2)\n",
        "\n",
        "print(\"\\nSq-root of 1st matrix using np\\n------------------\\n\", np.sqrt(mat1))\n",
        "print(\"\\nExponential power of 1st matrix using np\\n\",'-'*50,\"\\n\", np.exp(mat1))\n",
        "print(\"\\n10-base logarithm on 1st matrix using np\\n\",'-'*50,\"\\n\", np.log10(mat1))\n",
        "print(\"\\nModulo reminder using np\\n\",'-'*50,\"\\n\", np.fmod(mat1,mat2))\n",
        "\n",
        "print(\"\\nCombination of functions by shwoing exponetial decay of a sine wave\\n\",'-'*70)\n",
        "A = np.linspace(0,12*np.pi,1001)\n",
        "import matplotlib.pyplot as plt\n",
        "plt.scatter(x=A,y=100*np.exp(-A/10)*(np.sin(A)))\n",
        "plt.title(\"Exponential decay of sine wave: exp(-x)*sin(x)\")\n",
        "plt.show()"
      ],
      "metadata": {
        "colab": {
          "base_uri": "https://localhost:8080/",
          "height": 976
        },
        "id": "-MCsG_DkXQvd",
        "outputId": "8792bfcf-d374-4bf0-f9d7-c51302452538"
      },
      "execution_count": 41,
      "outputs": [
        {
          "output_type": "stream",
          "name": "stdout",
          "text": [
            "\n",
            "1st Matrix of random single-digit numbers\n",
            "----------------------------------------\n",
            " [[4 7 5]\n",
            " [8 6 6]\n",
            " [7 1 9]]\n",
            "\n",
            "2nd Matrix of random single-digit numbers\n",
            "----------------------------------------\n",
            " [[7 5 5]\n",
            " [8 3 2]\n",
            " [7 4 9]]\n",
            "\n",
            "Sq-root of 1st matrix using np\n",
            "------------------\n",
            " [[2.         2.64575131 2.23606798]\n",
            " [2.82842712 2.44948974 2.44948974]\n",
            " [2.64575131 1.         3.        ]]\n",
            "\n",
            "Exponential power of 1st matrix using np\n",
            " -------------------------------------------------- \n",
            " [[5.45981500e+01 1.09663316e+03 1.48413159e+02]\n",
            " [2.98095799e+03 4.03428793e+02 4.03428793e+02]\n",
            " [1.09663316e+03 2.71828183e+00 8.10308393e+03]]\n",
            "\n",
            "10-base logarithm on 1st matrix using np\n",
            " -------------------------------------------------- \n",
            " [[0.60205999 0.84509804 0.69897   ]\n",
            " [0.90308999 0.77815125 0.77815125]\n",
            " [0.84509804 0.         0.95424251]]\n",
            "\n",
            "Modulo reminder using np\n",
            " -------------------------------------------------- \n",
            " [[4 2 0]\n",
            " [0 0 0]\n",
            " [0 1 0]]\n",
            "\n",
            "Combination of functions by shwoing exponetial decay of a sine wave\n",
            " ----------------------------------------------------------------------\n"
          ]
        },
        {
          "output_type": "display_data",
          "data": {
            "text/plain": [
              "<Figure size 432x288 with 1 Axes>"
            ],
            "image/png": "[encoded data removed]"
          },
          "metadata": {
            "needs_background": "light"
          }
        }
      ]
    },
    {
      "cell_type": "markdown",
      "source": [
        "# **NumPy basic statistics on array**"
      ],
      "metadata": {
        "id": "LEwyJObmXzDb"
      }
    },
    {
      "cell_type": "code",
      "source": [
        "mat1 = np.array(ri(1,10,9)).reshape(3,3)\n",
        "mat2 = np.array(ri(1,10,9)).reshape(3,3)\n",
        "print(\"\\n1st Matrix of random single-digit numbers\\n\",\"-\"*50,\"\\n\",mat1)\n",
        "print(\"\\n2nd Matrix of random single-digit numbers\\n\",\"-\"*50,\"\\n\",mat2)\n",
        "\n",
        "print(\"\\nSum of all numbers in 1st matrix\\n\",\"-\"*50,\"\\n\",np.sum(mat1))\n",
        "print(\"\\nSum of all numbers in columns of 1st matrix\\n\",\"-\"*50,\"\\n\",np.sum(mat1,axis=0)) \n",
        "### axis를 확인하여야 한다. \n",
        "print(\"\\nSum of all numbers in rows of 1st matrix\\n\",\"-\"*50,\"\\n\",np.sum(mat1,axis=1))\n",
        "print(\"\\nProduct of all numbers in rows of 1st matrix\\n\",\"-\"*50,\"\\n\",np.prod(mat1,axis=1))\n",
        "print(\"\\nProduct of all numbers in columns of 2nd matrix\\n\",\"-\"*50,\"\\n\",np.prod(mat2,axis=0))\n",
        "print(\"\\nMean of all numbers in 1st matrix\\n\",\"-\"*50,\"\\n\",np.mean(mat1))\n",
        "print(\"\\nStandard deviation of all numbers in 1st matrix\\n\",\"-\"*50,\"\\n\",np.std(mat1))\n"
      ],
      "metadata": {
        "colab": {
          "base_uri": "https://localhost:8080/"
        },
        "id": "PkKMIfoVX4hG",
        "outputId": "288d6600-6063-40b7-d3b1-ac31ac7aa6fb"
      },
      "execution_count": 47,
      "outputs": [
        {
          "output_type": "stream",
          "name": "stdout",
          "text": [
            "\n",
            "1st Matrix of random single-digit numbers\n",
            " -------------------------------------------------- \n",
            " [[8 9 9]\n",
            " [1 2 9]\n",
            " [9 5 2]]\n",
            "\n",
            "2nd Matrix of random single-digit numbers\n",
            " -------------------------------------------------- \n",
            " [[5 2 6]\n",
            " [2 8 2]\n",
            " [5 8 4]]\n",
            "\n",
            "Sum of all numbers in 1st matrix\n",
            " -------------------------------------------------- \n",
            " 54\n",
            "\n",
            "Sum of all numbers in columns of 1st matrix\n",
            " -------------------------------------------------- \n",
            " [18 16 20]\n",
            "\n",
            "Sum of all numbers in rows of 1st matrix\n",
            " -------------------------------------------------- \n",
            " [26 12 16]\n",
            "\n",
            "Product of all numbers in rows of 1st matrix\n",
            " -------------------------------------------------- \n",
            " [648  18  90]\n",
            "\n",
            "Product of all numbers in columns of 2nd matrix\n",
            " -------------------------------------------------- \n",
            " [ 50 128  48]\n",
            "\n",
            "Mean of all numbers in 1st matrix\n",
            " -------------------------------------------------- \n",
            " 6.0\n",
            "\n",
            "Standard deviation of all numbers in 1st matrix\n",
            " -------------------------------------------------- \n",
            " 3.2998316455372216\n"
          ]
        }
      ]
    },
    {
      "cell_type": "code",
      "source": [
        "\n",
        "mat1 = np.array(ri(1,100,9)).reshape(3,3)\n",
        "print(\"\\nModified matrix of random numbers from 1 to 99\\n\",\"-\"*50,\"\\n\",mat1)\n",
        "print(\"\\nStandard deviation of all numbers in the modified matrix, a larger number\\n\",\"-\"*80,\"\\n\",np.std(mat1))\n",
        "print(\"\\nVariance of all numbers in the modified matrix, a larger number\\n\",\"-\"*80,\"\\n\",np.var(mat1))\n",
        "print(\"\\nMedian of all numbers in the modified matrix\\n\",\"-\"*60,\"\\n\",np.median(mat1))\n"
      ],
      "metadata": {
        "colab": {
          "base_uri": "https://localhost:8080/"
        },
        "id": "6_TT9YGJYLUM",
        "outputId": "3213443e-94d4-4269-d316-7c349351421b"
      },
      "execution_count": 44,
      "outputs": [
        {
          "output_type": "stream",
          "name": "stdout",
          "text": [
            "\n",
            "Modified matrix of random numbers from 1 to 99\n",
            " -------------------------------------------------- \n",
            " [[66 96 68]\n",
            " [16 90 51]\n",
            " [54 15 30]]\n",
            "\n",
            "Standard deviation of all numbers in the modified matrix, a larger number\n",
            " -------------------------------------------------------------------------------- \n",
            " 27.78888666755511\n",
            "\n",
            "Variance of all numbers in the modified matrix, a larger number\n",
            " -------------------------------------------------------------------------------- \n",
            " 772.2222222222222\n",
            "\n",
            "Median of all numbers in the modified matrix\n",
            " ------------------------------------------------------------ \n",
            " 54.0\n"
          ]
        }
      ]
    },
    {
      "cell_type": "code",
      "source": [
        "\n",
        "mat2 = np.array(ri(1,100,50)).reshape(10,5)\n",
        "print(\"\\nModified matrix of 50 random numbers from 1 to 99\\n\",\"-\"*50,\"\\n\",mat2)\n",
        "print(\"\\nStandard deviation along the columns in the modified matrix\\n\",\"-\"*60,\"\\n\",np.std(mat2,axis=0))\n",
        "\n",
        "mat1 = np.array(ri(1,100,20)).reshape(4,5)\n",
        "print(\"\\nModified matrix of random numbers from 1 to 49\\n\",\"-\"*50,\"\\n\",mat1)\n",
        "print(\"\\nFlattened and sorted matrix (as vector)\\n\",\"-\"*50,\"\\n\",np.sort(mat1.reshape(1,20)))\n",
        "print(\"\\n50th percentile of all numbers in the modified matrix\\n\",\"-\"*60,\"\\n\",np.percentile(mat1,50))\n",
        "print(\"\\n90th percentile of all numbers in the modified matrix\\n\",\"-\"*60,\"\\n\",np.percentile(mat1,90))"
      ],
      "metadata": {
        "colab": {
          "base_uri": "https://localhost:8080/"
        },
        "id": "bgYBygbZYN-3",
        "outputId": "c0f6f669-a83d-4615-db85-e744d308d8d7"
      },
      "execution_count": 45,
      "outputs": [
        {
          "output_type": "stream",
          "name": "stdout",
          "text": [
            "\n",
            "Modified matrix of 50 random numbers from 1 to 99\n",
            " -------------------------------------------------- \n",
            " [[57 47 38 76 19]\n",
            " [19  7 84 83 67]\n",
            " [21 42 18 28 92]\n",
            " [60 98 58 69 67]\n",
            " [55 54 82  7 11]\n",
            " [83 27 56 39 25]\n",
            " [49 84 75  4 38]\n",
            " [64  9 87 55  9]\n",
            " [76 79 56 53 58]\n",
            " [65 96 32 38 61]]\n",
            "\n",
            "Standard deviation along the columns in the modified matrix\n",
            " ------------------------------------------------------------ \n",
            " [19.80631213 32.21816258 22.49977778 25.77518186 26.79197641]\n",
            "\n",
            "Modified matrix of random numbers from 1 to 49\n",
            " -------------------------------------------------- \n",
            " [[ 2 78 91 66 27]\n",
            " [26 33 12 72  1]\n",
            " [91 85 34 48 44]\n",
            " [96 25 97 49 70]]\n",
            "\n",
            "Flattened and sorted matrix (as vector)\n",
            " -------------------------------------------------- \n",
            " [[ 1  2 12 25 26 27 33 34 44 48 49 66 70 72 78 85 91 91 96 97]]\n",
            "\n",
            "50th percentile of all numbers in the modified matrix\n",
            " ------------------------------------------------------------ \n",
            " 48.5\n",
            "\n",
            "90th percentile of all numbers in the modified matrix\n",
            " ------------------------------------------------------------ \n",
            " 91.5\n"
          ]
        }
      ]
    },
    {
      "cell_type": "markdown",
      "source": [
        "# Correlation and covariance"
      ],
      "metadata": {
        "id": "HlzQskB9YshL"
      }
    },
    {
      "cell_type": "code",
      "source": [
        "\n",
        "A = ri(1,5,20) # 20 random integeres from a small range (1-10)\n",
        "B = 2*A+5*np.random.randn(20) # B is twice that of A plus some random noise\n",
        "print(\"\\nB is twice that of A plus some random noise\")\n",
        "plt.scatter(A,B) # Scatter plot of B\n",
        "plt.title(\"Scatter plot of A vs. B, expect a small positive correlation\")\n",
        "plt.show()\n",
        "print(np.corrcoef(A,B)) # Correleation coefficient matrix between A and B\n",
        "\n",
        "A = ri(1,50,20) # 20 random integeres from a larger range (1-50)\n",
        "B = 100-2*A+10*np.random.randn(20) # B is 100 minus twice that of A plus some random noise\n",
        "print(\"\\nB is 100 minus twice that of A plus some random noise\")\n",
        "plt.scatter(A,B) # Scatter plot of B\n",
        "plt.title(\"Scatter plot of A vs. B, expect a large negative correlation\")\n",
        "plt.show()\n",
        "print(\"\")\n",
        "print(np.corrcoef(A,B)) # Correleation coefficient matrix between A and B"
      ],
      "metadata": {
        "colab": {
          "base_uri": "https://localhost:8080/",
          "height": 705
        },
        "id": "QEcoOJ85YrXY",
        "outputId": "2bd77d64-858c-4eee-dd12-af5a56fee5ed"
      },
      "execution_count": 48,
      "outputs": [
        {
          "output_type": "stream",
          "name": "stdout",
          "text": [
            "\n",
            "B is twice that of A plus some random noise\n"
          ]
        },
        {
          "output_type": "display_data",
          "data": {
            "text/plain": [
              "<Figure size 432x288 with 1 Axes>"
            ],
            "image/png": "[encoded data removed]"
          },
          "metadata": {
            "needs_background": "light"
          }
        },
        {
          "output_type": "stream",
          "name": "stdout",
          "text": [
            "[[1.         0.03110273]\n",
            " [0.03110273 1.        ]]\n",
            "\n",
            "B is 100 minus twice that of A plus some random noise\n"
          ]
        },
        {
          "output_type": "display_data",
          "data": {
            "text/plain": [
              "<Figure size 432x288 with 1 Axes>"
            ],
            "image/png": "[encoded data removed]"
          },
          "metadata": {
            "needs_background": "light"
          }
        },
        {
          "output_type": "stream",
          "name": "stdout",
          "text": [
            "\n",
            "[[ 1.         -0.96246034]\n",
            " [-0.96246034  1.        ]]\n"
          ]
        }
      ]
    },
    {
      "cell_type": "markdown",
      "source": [
        "#**Linear Algebra Operations**\n",
        "\n",
        "# Dot/Inner/Outer products"
      ],
      "metadata": {
        "id": "q9SLb5auYxr0"
      }
    },
    {
      "cell_type": "code",
      "source": [
        "A = np.arange(1,10).reshape(3,3)\n",
        "B = ri(1,10,9).reshape(3,3)\n",
        "print(\"\\n1st Matrix of 1-9 single-digit numbers (A)\\n\",\"-\"*50,\"\\n\",A)\n",
        "print(\"\\n2nd Matrix of random single-digit numbers (B)\\n\",\"-\"*50,\"\\n\",B)\n",
        "\n",
        "print(\"\\nDot product of A and B (for 2D arrays it is equivalent to matrix multiplication) \\n\",\"-\"*80,\"\\n\",np.dot(A,B))\n",
        "\n",
        "A = np.arange(1,6)\n",
        "B = ri(1,10,5)\n",
        "print(\"\\n1st Vector of 1-5 numbers (A)\\n\",\"-\"*50,\"\\n\",A)\n",
        "print(\"\\n2nd Vector of 5 random single-digit numbers (B)\\n\",\"-\"*50,\"\\n\",B)\n",
        "\n",
        "print(\"\\nInner product of vectors A and B \\n\",\"-\"*50,\"\\n\",np.inner(A,B), \"(sum of all pairwise elements)\")\n",
        "print(\"\\nOuter product of vectors A and B \\n\",\"-\"*50,\"\\n\",np.outer(A,B))"
      ],
      "metadata": {
        "colab": {
          "base_uri": "https://localhost:8080/"
        },
        "id": "ahFGvtt3Y0AV",
        "outputId": "b51deb16-698a-4c16-84b5-01b61e3d47a2"
      },
      "execution_count": 49,
      "outputs": [
        {
          "output_type": "stream",
          "name": "stdout",
          "text": [
            "\n",
            "1st Matrix of 1-9 single-digit numbers (A)\n",
            " -------------------------------------------------- \n",
            " [[1 2 3]\n",
            " [4 5 6]\n",
            " [7 8 9]]\n",
            "\n",
            "2nd Matrix of random single-digit numbers (B)\n",
            " -------------------------------------------------- \n",
            " [[3 5 4]\n",
            " [7 6 8]\n",
            " [9 7 9]]\n",
            "\n",
            "Dot product of A and B (for 2D arrays it is equivalent to matrix multiplication) \n",
            " -------------------------------------------------------------------------------- \n",
            " [[ 44  38  47]\n",
            " [101  92 110]\n",
            " [158 146 173]]\n",
            "\n",
            "1st Vector of 1-5 numbers (A)\n",
            " -------------------------------------------------- \n",
            " [1 2 3 4 5]\n",
            "\n",
            "2nd Vector of 5 random single-digit numbers (B)\n",
            " -------------------------------------------------- \n",
            " [4 2 6 8 7]\n",
            "\n",
            "Inner product of vectors A and B \n",
            " -------------------------------------------------- \n",
            " 93 (sum of all pairwise elements)\n",
            "\n",
            "Outer product of vectors A and B \n",
            " -------------------------------------------------- \n",
            " [[ 4  2  6  8  7]\n",
            " [ 8  4 12 16 14]\n",
            " [12  6 18 24 21]\n",
            " [16  8 24 32 28]\n",
            " [20 10 30 40 35]]\n"
          ]
        }
      ]
    },
    {
      "cell_type": "markdown",
      "source": [
        "# Trace"
      ],
      "metadata": {
        "id": "kJ1obXzuZEZ4"
      }
    },
    {
      "cell_type": "code",
      "source": [
        "A = ri(1,10,9).reshape(3,3)\n",
        "print(\"\\n3x3 Matrix of random single-digit numbers\\n\",\"-\"*50,\"\\n\",A)\n",
        "print(\"\\nMatrix transpose\\n\",\"-\"*50,\"\\n\",np.transpose(A))\n",
        "\n",
        "B = ri(1,10,6).reshape(3,2)\n",
        "print(\"\\n3x2 Matrix of random single-digit numbers\\n\",\"-\"*50,\"\\n\",B)\n",
        "print(\"\\n2x3 Matrix transpose\\n\",\"-\"*50,\"\\n\",np.transpose(B))\n",
        "print(\"\\nMatrix multiplication of B and B-transpose\\n\",\"-\"*50,\"\\n\",np.dot(B, np.transpose(B)))\n"
      ],
      "metadata": {
        "colab": {
          "base_uri": "https://localhost:8080/"
        },
        "id": "qvM3RFtsZAD5",
        "outputId": "64e9478f-65b1-4888-e969-3e7b9893966b"
      },
      "execution_count": 50,
      "outputs": [
        {
          "output_type": "stream",
          "name": "stdout",
          "text": [
            "\n",
            "3x3 Matrix of random single-digit numbers\n",
            " -------------------------------------------------- \n",
            " [[5 7 1]\n",
            " [7 3 5]\n",
            " [8 2 4]]\n",
            "\n",
            "Matrix transpose\n",
            " -------------------------------------------------- \n",
            " [[5 7 8]\n",
            " [7 3 2]\n",
            " [1 5 4]]\n",
            "\n",
            "3x2 Matrix of random single-digit numbers\n",
            " -------------------------------------------------- \n",
            " [[8 6]\n",
            " [8 2]\n",
            " [1 4]]\n",
            "\n",
            "2x3 Matrix transpose\n",
            " -------------------------------------------------- \n",
            " [[8 8 1]\n",
            " [6 2 4]]\n",
            "\n",
            "Matrix multiplication of B and B-transpose\n",
            " -------------------------------------------------- \n",
            " [[100  76  32]\n",
            " [ 76  68  16]\n",
            " [ 32  16  17]]\n"
          ]
        }
      ]
    },
    {
      "cell_type": "markdown",
      "source": [
        "## Singular value decomposition (SVD)"
      ],
      "metadata": {
        "id": "6W2x_v0TZQlI"
      }
    },
    {
      "cell_type": "code",
      "source": [
        "A = np.random.randint(1,10,9).reshape(3,3)\n",
        "print(\"Original matrix\\n\",A)\n",
        "print(\"\\n\")\n",
        "u,s,v=np.linalg.svd(A,compute_uv=1,full_matrices=True)\n",
        "print(\"u:\",u)\n",
        "print(\"\\n\")\n",
        "print(\"Singular values, s:\",s)\n",
        "print(\"\\n\")\n",
        "print(\"v:\",v)\n",
        "print(\"\\n\")\n",
        "print (\"Reconstruction of A, u*s*v\\n\",np.dot(u,np.dot(np.diag(s),v)))"
      ],
      "metadata": {
        "colab": {
          "base_uri": "https://localhost:8080/"
        },
        "id": "mXFDwESdZLqY",
        "outputId": "edb2dca1-7d89-494f-c635-247c2538b5f9"
      },
      "execution_count": 51,
      "outputs": [
        {
          "output_type": "stream",
          "name": "stdout",
          "text": [
            "Original matrix\n",
            " [[7 2 5]\n",
            " [7 2 1]\n",
            " [7 6 6]]\n",
            "\n",
            "\n",
            "u: [[-0.56381096 -0.11771764 -0.81747156]\n",
            " [-0.43740986 -0.79701843  0.41645437]\n",
            " [-0.70056393  0.59237166  0.39787687]]\n",
            "\n",
            "\n",
            "Singular values, s: [15.36454024  3.57347708  2.0398933 ]\n",
            "\n",
            "\n",
            "v: [[-0.77532377 -0.40390569 -0.48552369]\n",
            " [-0.63147203  0.48265535  0.60686645]\n",
            " [-0.0107762   0.77711261 -0.62926931]]\n",
            "\n",
            "\n",
            "Reconstruction of A, u*s*v\n",
            " [[7. 2. 5.]\n",
            " [7. 2. 1.]\n",
            " [7. 6. 6.]]\n"
          ]
        }
      ]
    },
    {
      "cell_type": "code",
      "source": [
        "A = np.random.randint(1,10,9).reshape(3,3)\n",
        "print(\"Original matrix\\n\",A)\n",
        "print(\"\\n\")\n",
        "q,r=np.linalg.qr(A)\n",
        "print(\"Q:\",q)\n",
        "print(\"\\n\")\n",
        "print(\"R:\",r)\n",
        "print(\"\\n\")\n",
        "print (\"Reconstruction of A, Q*R\\n\",np.dot(q,r))"
      ],
      "metadata": {
        "id": "M0x6lXfEZZE0"
      },
      "execution_count": null,
      "outputs": []
    },
    {
      "cell_type": "markdown",
      "source": [
        "# QR decomposition/factorization"
      ],
      "metadata": {
        "id": "71wxf1bqZgsg"
      }
    },
    {
      "cell_type": "code",
      "source": [
        "A = np.random.randint(1,10,9).reshape(3,3)\n",
        "print(\"Original matrix\\n\",A)\n",
        "print(\"\\n\")\n",
        "q,r=np.linalg.qr(A)\n",
        "print(\"Q:\",q)\n",
        "print(\"\\n\")\n",
        "print(\"R:\",r)\n",
        "print(\"\\n\")\n",
        "print (\"Reconstruction of A, Q*R\\n\",np.dot(q,r))"
      ],
      "metadata": {
        "colab": {
          "base_uri": "https://localhost:8080/"
        },
        "id": "DXHd_DPLZjl9",
        "outputId": "b7eb1603-364e-4c4b-d2c4-7a7dfac5d7c3"
      },
      "execution_count": 52,
      "outputs": [
        {
          "output_type": "stream",
          "name": "stdout",
          "text": [
            "Original matrix\n",
            " [[2 3 6]\n",
            " [6 8 8]\n",
            " [5 1 6]]\n",
            "\n",
            "\n",
            "Q: [[-0.24806947 -0.26198206 -0.93264513]\n",
            " [-0.74420841 -0.5647925   0.35659961]\n",
            " [-0.62017367  0.78254382 -0.05486148]]\n",
            "\n",
            "\n",
            "R: [[ -8.06225775  -7.31804934 -11.16312611]\n",
            " [  0.          -4.52174235  -1.39496942]\n",
            " [  0.           0.          -3.07224278]]\n",
            "\n",
            "\n",
            "Reconstruction of A, Q*R\n",
            " [[2. 3. 6.]\n",
            " [6. 8. 8.]\n",
            " [5. 1. 6.]]\n"
          ]
        }
      ]
    },
    {
      "cell_type": "markdown",
      "source": [
        "## Eigenvalues and eigenvectors"
      ],
      "metadata": {
        "id": "4B2P_ZPJZwPm"
      }
    },
    {
      "cell_type": "code",
      "source": [
        "A = np.random.randn(9).reshape(3,3)\n",
        "print(\"Original matrix\\n\",A)\n",
        "print(\"\\n\")\n",
        "w,v=np.linalg.eig(A)\n",
        "print(\"Eigenvalues:\\n\",w)\n",
        "print(\"\\n\")\n",
        "print(\"Eigenvectors:\\n\",v)"
      ],
      "metadata": {
        "colab": {
          "base_uri": "https://localhost:8080/"
        },
        "id": "jz4Oy0buZsiw",
        "outputId": "2213453b-e59e-4e4e-b251-bcfc3e0e0995"
      },
      "execution_count": 53,
      "outputs": [
        {
          "output_type": "stream",
          "name": "stdout",
          "text": [
            "Original matrix\n",
            " [[-1.28227448 -0.72913569 -0.57380149]\n",
            " [ 0.7344198  -1.62819103 -0.61084165]\n",
            " [ 0.20427715  0.07501253  0.13319524]]\n",
            "\n",
            "\n",
            "Eigenvalues:\n",
            " [-1.41955277+0.74771748j -1.41955277-0.74771748j  0.06183526+0.j        ]\n",
            "\n",
            "\n",
            "Eigenvectors:\n",
            " [[ 0.19264126+0.65739319j  0.19264126-0.65739319j -0.16837456+0.j        ]\n",
            " [ 0.72229235+0.j          0.72229235-0.j         -0.39896177+0.j        ]\n",
            " [-0.0150911 -0.09375268j -0.0150911 +0.09375268j  0.90137645+0.j        ]]\n"
          ]
        }
      ]
    },
    {
      "cell_type": "markdown",
      "source": [
        "# Linear equation solving, matrix inverse, linear least suqare"
      ],
      "metadata": {
        "id": "luPruzbSZ1tX"
      }
    },
    {
      "cell_type": "code",
      "source": [
        "A = np.array([[2,5,1],[3,-2,-1],[1,-3,1]])\n",
        "B = np.array([14,-1,4])\n",
        "x = np.linalg.solve(A,B)\n",
        "\n",
        "print(\"The solutions are:\",x)"
      ],
      "metadata": {
        "colab": {
          "base_uri": "https://localhost:8080/"
        },
        "id": "-SEdTMG_Z1Pf",
        "outputId": "d91354b7-bbf5-45cb-aff0-03eadf88b314"
      },
      "execution_count": 54,
      "outputs": [
        {
          "output_type": "stream",
          "name": "stdout",
          "text": [
            "The solutions are: [2. 1. 5.]\n"
          ]
        }
      ]
    },
    {
      "cell_type": "code",
      "source": [
        "x = np.arange(1,11,1)\n",
        "y = 2*x+np.random.randn(10)-1\n",
        "print(x)\n",
        "print(y)"
      ],
      "metadata": {
        "colab": {
          "base_uri": "https://localhost:8080/"
        },
        "id": "zOPCzdBQZ-83",
        "outputId": "0878c6bc-536d-41ab-d4fd-aee2b1fc7773"
      },
      "execution_count": 55,
      "outputs": [
        {
          "output_type": "stream",
          "name": "stdout",
          "text": [
            "[ 1  2  3  4  5  6  7  8  9 10]\n",
            "[ 0.3887839   4.58823347  5.27904253  4.71734359  8.46366007 11.20099094\n",
            " 13.67022855 15.3058931  18.01009939 20.55134618]\n"
          ]
        }
      ]
    },
    {
      "cell_type": "code",
      "source": [
        "A = np.vstack([x, np.ones(len(x))]).T\n",
        "print(A)"
      ],
      "metadata": {
        "colab": {
          "base_uri": "https://localhost:8080/"
        },
        "id": "uTt8hzWiaCMT",
        "outputId": "e73745b0-f61a-499e-b12e-11819e0d3fc3"
      },
      "execution_count": 56,
      "outputs": [
        {
          "output_type": "stream",
          "name": "stdout",
          "text": [
            "[[ 1.  1.]\n",
            " [ 2.  1.]\n",
            " [ 3.  1.]\n",
            " [ 4.  1.]\n",
            " [ 5.  1.]\n",
            " [ 6.  1.]\n",
            " [ 7.  1.]\n",
            " [ 8.  1.]\n",
            " [ 9.  1.]\n",
            " [10.  1.]]\n"
          ]
        }
      ]
    },
    {
      "cell_type": "code",
      "source": [
        "m, c = np.linalg.lstsq(A, y)[0]\n",
        "print (\"Coefficient:\"+str(m)+ \"\\n\"+\"intercept:\"+str(c))\n",
        "\n",
        "# Plot the fitteed line\n",
        "import matplotlib.pyplot as plt\n",
        "%matplotlib inline\n",
        "plt.plot(x, y, 'o', label='Original data', markersize=10)\n",
        "plt.plot(x, m*x + c, 'r', label='Fitted line')\n",
        "plt.legend()\n",
        "plt.show()"
      ],
      "metadata": {
        "colab": {
          "base_uri": "https://localhost:8080/",
          "height": 374
        },
        "id": "39WbFW6xaGEp",
        "outputId": "f2779393-69a3-44d3-e525-cf45c4ea23a1"
      },
      "execution_count": 57,
      "outputs": [
        {
          "output_type": "stream",
          "name": "stderr",
          "text": [
            "<ipython-input-57-dfe71a5a5edd>:1: FutureWarning: `rcond` parameter will change to the default of machine precision times ``max(M, N)`` where M and N are the input matrix dimensions.\n",
            "To use the future default and silence this warning we advise to pass `rcond=None`, to keep using the old, explicitly pass `rcond=-1`.\n",
            "  m, c = np.linalg.lstsq(A, y)[0]\n"
          ]
        },
        {
          "output_type": "stream",
          "name": "stdout",
          "text": [
            "Coefficient:2.152402185281679\n",
            "intercept:-1.6206498463529562\n"
          ]
        },
        {
          "output_type": "display_data",
          "data": {
            "text/plain": [
              "<Figure size 432x288 with 1 Axes>"
            ],
            "image/png": "[encoded data removed]"
          },
          "metadata": {
            "needs_background": "light"
          }
        }
      ]
    },
    {
      "cell_type": "code",
      "source": [
        "\n",
        "A = 0.1*np.random.randint(1,20,16).reshape(4,4)\n",
        "print (\"A:\\n\",A)\n",
        "print (\"Inverse of A:\\n\",np.linalg.inv(A))"
      ],
      "metadata": {
        "colab": {
          "base_uri": "https://localhost:8080/"
        },
        "id": "3qBNsO8ycHHg",
        "outputId": "f4de2481-ed9a-4b03-fc07-3dcdfe755b11"
      },
      "execution_count": 58,
      "outputs": [
        {
          "output_type": "stream",
          "name": "stdout",
          "text": [
            "A:\n",
            " [[0.9 1.8 0.8 1.1]\n",
            " [1.6 0.5 1.5 0.5]\n",
            " [0.1 1.3 1.8 0.5]\n",
            " [1.3 1.1 1.2 1.4]]\n",
            "Inverse of A:\n",
            " [[ 4.39949720e-01  7.53437702e-01 -5.42795109e-01 -4.20904278e-01]\n",
            " [ 1.03873843e+00  1.16558108e-01  1.71408982e-02 -8.63901268e-01]\n",
            " [-5.70220546e-01  1.23033558e-01  5.73648726e-01  1.99215328e-01]\n",
            " [-7.35915895e-01 -8.96659429e-01 -1.14272655e-03  1.61314897e+00]]\n"
          ]
        }
      ]
    },
    {
      "cell_type": "code",
      "source": [
        "A = 0.1*np.random.randint(1,20,15).reshape(5,3)\n",
        "print (\"A:\\n\",A)\n",
        "print (\"Pseudo-inverse of A:\\n\",np.linalg.pinv(A))\n",
        "print (\"Matrix product of A and pseudo inverse:\\n\", np.dot(np.linalg.pinv(A),A))"
      ],
      "metadata": {
        "id": "JzHAQaKPcSt4",
        "outputId": "6ef3dcac-d529-45ba-9ec5-046c0fb6de07",
        "colab": {
          "base_uri": "https://localhost:8080/"
        }
      },
      "execution_count": 59,
      "outputs": [
        {
          "output_type": "stream",
          "name": "stdout",
          "text": [
            "A:\n",
            " [[1.9 1.1 0.4]\n",
            " [1.7 1.1 1.4]\n",
            " [0.9 0.8 0.8]\n",
            " [1.3 1.6 0.1]\n",
            " [0.5 1.4 1.6]]\n",
            "Pseudo-inverse of A:\n",
            " [[ 0.41794413  0.3520758   0.07008915 -0.18278184 -0.43617306]\n",
            " [-0.17850206 -0.44064359 -0.05614901  0.71696595  0.41345279]\n",
            " [-0.13243377  0.3612735   0.13998893 -0.49224091  0.30276472]]\n",
            "Matrix product of A and pseudo inverse:\n",
            " [[ 1.00000000e+00 -8.03143855e-17  9.44868129e-17]\n",
            " [ 4.44089210e-16  1.00000000e+00  1.25539826e-16]\n",
            " [ 3.88578059e-16  9.58475151e-17  1.00000000e+00]]\n"
          ]
        }
      ]
    }
  ]
}