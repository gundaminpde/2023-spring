{
  "nbformat": 4,
  "nbformat_minor": 0,
  "metadata": {
    "colab": {
      "provenance": [],
      "authorship_tag": "ABX9TyPrQkL0zlA+xKoA1Mok8oA6",
      "include_colab_link": true
    },
    "kernelspec": {
      "name": "python3",
      "display_name": "Python 3"
    },
    "language_info": {
      "name": "python"
    }
  },
  "cells": [
    {
      "cell_type": "markdown",
      "metadata": {
        "id": "view-in-github",
        "colab_type": "text"
      },
      "source": [
        "<a href=\"https://colab.research.google.com/github/gundaminpde/2023-spring/blob/main/01_2_NumPy_python_tutorial.ipynb\" target=\"_parent\"><img src=\"https://colab.research.google.com/assets/colab-badge.svg\" alt=\"Open In Colab\"/></a>"
      ]
    },
    {
      "cell_type": "markdown",
      "source": [
        "This is a modification of a tutorial of Dr. Tirthajyoti Sarkar, Fremont, CA, 94536. You can find the original one at https://github.com/tirthajyoti/Machine-Learning-with-Python/blob/master/Pandas%20and%20Numpy/Numpy_operations.ipynb"
      ],
      "metadata": {
        "id": "M5EjF40xNdh8"
      }
    },
    {
      "cell_type": "markdown",
      "source": [
        "# **Vectors and matrices**"
      ],
      "metadata": {
        "id": "NL47rdCdOCWF"
      }
    },
    {
      "cell_type": "code",
      "execution_count": 1,
      "metadata": {
        "colab": {
          "base_uri": "https://localhost:8080/"
        },
        "id": "GHmf54J4M-53",
        "outputId": "b4acef94-e520-4566-d916-8609c64dbd37"
      },
      "outputs": [
        {
          "output_type": "stream",
          "name": "stdout",
          "text": [
            "Type/Class of this object: <class 'numpy.ndarray'>\n",
            "Here is the vector\n",
            "--------------------\n",
            " [1 2 3]\n"
          ]
        }
      ],
      "source": [
        "import numpy as np\n",
        "\n",
        "my_list = [1,2,3]\n",
        "\n",
        "arr = np.array(my_list)\n",
        "\n",
        "print(\"Type/Class of this object:\",type(arr))\n",
        "print(\"Here is the vector\\n--------------------\\n\",arr)"
      ]
    },
    {
      "cell_type": "code",
      "source": [
        "my_mat = [[1,2,3],[4,5,6],[7,8,9]]\n",
        "\n",
        "mat = np.array(my_mat)\n",
        "\n",
        "print(\"Type/Class of this object:\",type(mat))\n",
        "print(\"Here is the matrix\\n----------\\n\",mat,\"\\n----------\")\n",
        "print(\"Dimension of this matrix: \",mat.ndim,sep='') #ndim gives the dimensison, 2 for a matrix, 1 for a vector\n",
        "print(\"Size of this matrix: \", mat.size,sep='') #size gives the total number of elements\n",
        "print(\"Shape of this matrix: \", mat.shape,sep='') #shape gives the number of elements along each axes (dimension)\n",
        "print(\"Data type of this matrix: \", mat.dtype,sep='') #dtype gives the data type contained in the array\n",
        "\n",
        "my_mat = [[1.1,2,3],[4,5.2,6],[7,8.3,9]]  ### 정수가 아닌 숫자 사용\n",
        "\n",
        "mat = np.array(my_mat)\n",
        "\n",
        "print(\"Data type of the modified matrix: \", mat.dtype,sep='') #dtype gives the data type contained in the array\n",
        "print(\"\\n\\nEven tuples can be converted to ndarrays...\")\n",
        "\n",
        "b = np.array([(1.5,2,3), (4,5,6)])\n",
        "\n",
        "print(\"We write b = np.array([(1.5,2,3), (4,5,6)])\")\n",
        "print(\"Matrix made from tuples, not lists\\n---------------------------------------\")\n",
        "print(b)"
      ],
      "metadata": {
        "colab": {
          "base_uri": "https://localhost:8080/"
        },
        "id": "hOkI7haIOVxu",
        "outputId": "0fa04f65-ba5b-4e96-ba9f-0f521af336f8"
      },
      "execution_count": 2,
      "outputs": [
        {
          "output_type": "stream",
          "name": "stdout",
          "text": [
            "Type/Class of this object: <class 'numpy.ndarray'>\n",
            "Here is the matrix\n",
            "----------\n",
            " [[1 2 3]\n",
            " [4 5 6]\n",
            " [7 8 9]] \n",
            "----------\n",
            "Dimension of this matrix: 2\n",
            "Size of this matrix: 9\n",
            "Shape of this matrix: (3, 3)\n",
            "Data type of this matrix: int64\n",
            "Data type of the modified matrix: float64\n",
            "\n",
            "\n",
            "Even tuples can be converted to ndarrays...\n",
            "We write b = np.array([(1.5,2,3), (4,5,6)])\n",
            "Matrix made from tuples, not lists\n",
            "---------------------------------------\n",
            "[[1.5 2.  3. ]\n",
            " [4.  5.  6. ]]\n"
          ]
        }
      ]
    },
    {
      "cell_type": "markdown",
      "source": [
        "## 'arange' and 'linspace'"
      ],
      "metadata": {
        "id": "u4U0IaAiOo4i"
      }
    },
    {
      "cell_type": "code",
      "source": [
        "print(\"A series of numbers:\",np.arange(5,16)) # A series of numbers from low to high"
      ],
      "metadata": {
        "colab": {
          "base_uri": "https://localhost:8080/"
        },
        "id": "axBsYJ4nOkxD",
        "outputId": "e46c4675-d1ad-46ad-d48f-9ba12724bb3b"
      },
      "execution_count": 3,
      "outputs": [
        {
          "output_type": "stream",
          "name": "stdout",
          "text": [
            "A series of numbers: [ 5  6  7  8  9 10 11 12 13 14 15]\n"
          ]
        }
      ]
    },
    {
      "cell_type": "code",
      "source": [
        "## 소수간(마디)의 길이 지정\n",
        "\n",
        "print(\"Numbers spaced apart by 2:\",np.arange(0,11,2)) # Numbers spaced apart by 2"
      ],
      "metadata": {
        "colab": {
          "base_uri": "https://localhost:8080/"
        },
        "id": "VfphOg4pOwHo",
        "outputId": "ff707429-0010-4523-9889-21323eee31a2"
      },
      "execution_count": 4,
      "outputs": [
        {
          "output_type": "stream",
          "name": "stdout",
          "text": [
            "Numbers spaced apart by 2: [ 0  2  4  6  8 10]\n"
          ]
        }
      ]
    },
    {
      "cell_type": "code",
      "source": [
        "print(\"Numbers spaced apart by float:\",np.arange(0,11,2.5)) # Numbers spaced apart by 2.5"
      ],
      "metadata": {
        "colab": {
          "base_uri": "https://localhost:8080/"
        },
        "id": "1TS0kdUjOz7P",
        "outputId": "b4a2d866-b78c-48ce-a4dd-571bc3a5693b"
      },
      "execution_count": 6,
      "outputs": [
        {
          "output_type": "stream",
          "name": "stdout",
          "text": [
            "Numbers spaced apart by float: [ 0.   2.5  5.   7.5 10. ]\n"
          ]
        }
      ]
    },
    {
      "cell_type": "code",
      "source": [
        "### 역순이다.\n",
        "\n",
        "print(\"Every 5th number from 50 in reverse order\\n\",np.arange(50,-1,-5))"
      ],
      "metadata": {
        "colab": {
          "base_uri": "https://localhost:8080/"
        },
        "id": "tjPgrDGPO2As",
        "outputId": "f39d3c01-d02f-4a47-e751-0f84d76e648d"
      },
      "execution_count": 5,
      "outputs": [
        {
          "output_type": "stream",
          "name": "stdout",
          "text": [
            "Every 5th number from 50 in reverse order\n",
            " [50 45 40 35 30 25 20 15 10  5  0]\n"
          ]
        }
      ]
    },
    {
      "cell_type": "code",
      "source": [
        "### linspace 사용\n",
        "\n",
        "print(\"21 linearly spaced numbers between 1 and 5\\n--------------------------------------------\")\n",
        "print(np.linspace(1,5,21))"
      ],
      "metadata": {
        "colab": {
          "base_uri": "https://localhost:8080/"
        },
        "id": "TOhA4LpLPA_J",
        "outputId": "d1747c8c-744e-4fa9-bfe6-bc0cd58a4763"
      },
      "execution_count": 8,
      "outputs": [
        {
          "output_type": "stream",
          "name": "stdout",
          "text": [
            "21 linearly spaced numbers between 1 and 5\n",
            "--------------------------------------------\n",
            "[1.  1.2 1.4 1.6 1.8 2.  2.2 2.4 2.6 2.8 3.  3.2 3.4 3.6 3.8 4.  4.2 4.4\n",
            " 4.6 4.8 5. ]\n"
          ]
        }
      ]
    },
    {
      "cell_type": "markdown",
      "source": [
        "# Zeroes, Ones, empty, and Identity matrix\n"
      ],
      "metadata": {
        "id": "_WkwJ7AsPbSh"
      }
    },
    {
      "cell_type": "code",
      "source": [
        "print(\"Vector of zeroes\\n---------------------\")\n",
        "print(np.zeros(5))                # Tuple이 아니다.\n",
        "print(\"Matrix of zeroes\\n--------------------\")\n",
        "print(np.zeros((3,4)))            # Notice Tuples"
      ],
      "metadata": {
        "colab": {
          "base_uri": "https://localhost:8080/"
        },
        "id": "5V8We5pGPDa2",
        "outputId": "c8f83e7a-e764-4cdb-d647-b71257772310"
      },
      "execution_count": 9,
      "outputs": [
        {
          "output_type": "stream",
          "name": "stdout",
          "text": [
            "Vector of zeroes\n",
            "---------------------\n",
            "[0. 0. 0. 0. 0.]\n",
            "Matrix of zeroes\n",
            "--------------------\n",
            "[[0. 0. 0. 0.]\n",
            " [0. 0. 0. 0.]\n",
            " [0. 0. 0. 0.]]\n"
          ]
        }
      ]
    },
    {
      "cell_type": "code",
      "source": [
        "print(\"Matrix of ones\\n---------------------\")\n",
        "print(np.ones((5,2))) # Note matrix dimension specified by Tuples\n",
        "print(\"Matrix of 5's\\n---------------------\")\n",
        "print(5*np.ones((3,5))) ### 상수곱"
      ],
      "metadata": {
        "colab": {
          "base_uri": "https://localhost:8080/"
        },
        "id": "pNZOZSnxP4Wj",
        "outputId": "a2909c68-4d93-42f6-8c2d-9749f9f4232a"
      },
      "execution_count": 10,
      "outputs": [
        {
          "output_type": "stream",
          "name": "stdout",
          "text": [
            "Matrix of ones\n",
            "---------------------\n",
            "[[1. 1.]\n",
            " [1. 1.]\n",
            " [1. 1.]\n",
            " [1. 1.]\n",
            " [1. 1.]]\n",
            "Matrix of 5's\n",
            "---------------------\n",
            "[[5. 5. 5. 5. 5.]\n",
            " [5. 5. 5. 5. 5.]\n",
            " [5. 5. 5. 5. 5.]]\n"
          ]
        }
      ]
    },
    {
      "cell_type": "code",
      "source": [
        "print(\"Empty matrix\\n-------------\\n\", np.empty((3,5)))"
      ],
      "metadata": {
        "colab": {
          "base_uri": "https://localhost:8080/"
        },
        "id": "Z9cMve7aQKmV",
        "outputId": "7dd4eab1-a3fe-4663-c97b-64341e82ff34"
      },
      "execution_count": 11,
      "outputs": [
        {
          "output_type": "stream",
          "name": "stdout",
          "text": [
            "Empty matrix\n",
            "-------------\n",
            " [[5. 5. 5. 5. 5.]\n",
            " [5. 5. 5. 5. 5.]\n",
            " [5. 5. 5. 5. 5.]]\n"
          ]
        }
      ]
    },
    {
      "cell_type": "code",
      "source": [
        "\n",
        "mat1 = np.eye(4)    ### n x n 행렬이어야 하므로 n만 입력한다.\n",
        "print(\"Identity matrix of dimension\", mat1.shape)\n",
        "print(mat1)\n"
      ],
      "metadata": {
        "colab": {
          "base_uri": "https://localhost:8080/"
        },
        "id": "H2ZFi2nKQVsg",
        "outputId": "7ab65494-c7bd-4b20-8e27-54b2b1df22ea"
      },
      "execution_count": 12,
      "outputs": [
        {
          "output_type": "stream",
          "name": "stdout",
          "text": [
            "Identity matrix of dimension (4, 4)\n",
            "[[1. 0. 0. 0.]\n",
            " [0. 1. 0. 0.]\n",
            " [0. 0. 1. 0.]\n",
            " [0. 0. 0. 1.]]\n"
          ]
        }
      ]
    },
    {
      "cell_type": "markdown",
      "source": [
        "# Random number generation\n",
        "\n",
        "np.random. + rand, randn 그리고 randint"
      ],
      "metadata": {
        "id": "fo5b5C20QkAE"
      }
    },
    {
      "cell_type": "code",
      "source": [
        "print(\"Random number generation (from Uniform distribution)\")\n",
        "print(np.random.rand(2,3)) # 2 by 3 matrix with random numbers ranging from 0 to 1, Note no Tuple is necessary "
      ],
      "metadata": {
        "colab": {
          "base_uri": "https://localhost:8080/"
        },
        "id": "08J_SQNSQmH-",
        "outputId": "1091c6e6-3dac-473a-c180-47d58b662e82"
      },
      "execution_count": 13,
      "outputs": [
        {
          "output_type": "stream",
          "name": "stdout",
          "text": [
            "Random number generation (from Uniform distribution)\n",
            "[[0.35257858 0.98711411 0.28762008]\n",
            " [0.21608998 0.78025141 0.96654034]]\n"
          ]
        }
      ]
    },
    {
      "cell_type": "code",
      "source": [
        "print(\"Numbers from Normal distribution with zero mean and standard deviation 1 i.e. standard normal\")\n",
        "print(np.random.randn(4,3))\n",
        "\n",
        "### randn 과 rand가 차이가 있음."
      ],
      "metadata": {
        "colab": {
          "base_uri": "https://localhost:8080/"
        },
        "id": "2kZS6vW5Q4td",
        "outputId": "04e370d3-c754-4b26-8104-228fddf94f51"
      },
      "execution_count": 14,
      "outputs": [
        {
          "output_type": "stream",
          "name": "stdout",
          "text": [
            "Numbers from Normal distribution with zero mean and standard deviation 1 i.e. standard normal\n",
            "[[-0.74821886  0.89854182 -0.87425438]\n",
            " [-0.26550286  0.21046814  2.05643082]\n",
            " [-0.98498223  2.46840664  0.41212136]\n",
            " [ 0.40627106 -1.23666092  0.53814935]]\n"
          ]
        }
      ]
    },
    {
      "cell_type": "code",
      "source": [
        "### randint를 사용하였다.\n",
        "\n",
        "print(\"Random integer vector:\",np.random.randint(1,100,10)) #randint (low, high, # of samples to be drawn)\n",
        "print (\"\\nRandom integer matrix\")\n",
        "\n",
        "print(np.random.randint(1,100,(4,4))) #randint (low, high, # of samples to be drawn in a tuple to form a matrix)\n",
        "\n",
        "print(\"\\n20 samples drawn from a dice throw:\",np.random.randint(1,7,20)) # 20 samples drawn from a dice throw\n",
        "\n"
      ],
      "metadata": {
        "colab": {
          "base_uri": "https://localhost:8080/"
        },
        "id": "Xxl-s1O9RIIN",
        "outputId": "4b5824c5-f01a-49ef-a56f-dc6042a351a7"
      },
      "execution_count": 15,
      "outputs": [
        {
          "output_type": "stream",
          "name": "stdout",
          "text": [
            "Random integer vector: [37 15 66 39 57 55 39  9 24 55]\n",
            "\n",
            "Random integer matrix\n",
            "[[97 32 69 27]\n",
            " [47 48 70 14]\n",
            " [58  4  1 78]\n",
            " [82 90  8 90]]\n",
            "\n",
            "20 samples drawn from a dice throw: [5 3 1 2 1 6 6 1 3 5 5 2 4 3 5 3 3 4 5 2]\n"
          ]
        }
      ]
    },
    {
      "cell_type": "markdown",
      "source": [
        "# Reshaping, min, max, sort"
      ],
      "metadata": {
        "id": "ljJlsTT0Rtof"
      }
    },
    {
      "cell_type": "code",
      "source": [
        "from numpy.random import randint as ri\n",
        "\n",
        "a = ri(1,100,30)\n",
        "b = a.reshape(2,3,5)\n",
        "c = a.reshape(6,5)\n",
        "\n",
        "\n",
        "print (\"Shape of a:\", a.shape)\n",
        "print (\"Shape of b:\", b.shape)\n",
        "print (\"Shape of c:\", c.shape)\n",
        "\n",
        "print(\"\\na looks like\\n\",'-'*20,\"\\n\",a,\"\\n\",'-'*20)\n",
        "print(\"\\nb looks like\\n\",'-'*20,\"\\n\",b,\"\\n\",'-'*20)\n",
        "print(\"\\nc looks like\\n\",'-'*20,\"\\n\",c,\"\\n\",'-'*20)\n"
      ],
      "metadata": {
        "colab": {
          "base_uri": "https://localhost:8080/"
        },
        "id": "-5aZqqg_RxFN",
        "outputId": "aafce374-d4ed-4d03-e4b0-4eaad206f0e3"
      },
      "execution_count": 20,
      "outputs": [
        {
          "output_type": "stream",
          "name": "stdout",
          "text": [
            "Shape of a: (30,)\n",
            "Shape of b: (2, 3, 5)\n",
            "Shape of c: (6, 5)\n",
            "\n",
            "a looks like\n",
            " -------------------- \n",
            " [29 92 59 51 11 81 47 67 77 74 70 92 77  2 97 80 41 14  8 59  4 88 58  3\n",
            " 27 87 61 96 53  1] \n",
            " --------------------\n",
            "\n",
            "b looks like\n",
            " -------------------- \n",
            " [[[29 92 59 51 11]\n",
            "  [81 47 67 77 74]\n",
            "  [70 92 77  2 97]]\n",
            "\n",
            " [[80 41 14  8 59]\n",
            "  [ 4 88 58  3 27]\n",
            "  [87 61 96 53  1]]] \n",
            " --------------------\n",
            "\n",
            "c looks like\n",
            " -------------------- \n",
            " [[29 92 59 51 11]\n",
            " [81 47 67 77 74]\n",
            " [70 92 77  2 97]\n",
            " [80 41 14  8 59]\n",
            " [ 4 88 58  3 27]\n",
            " [87 61 96 53  1]] \n",
            " --------------------\n"
          ]
        }
      ]
    },
    {
      "cell_type": "code",
      "source": [
        "\n",
        "A = ri(1,100,10) # Vector of random interegrs\n",
        "print(\"\\nVector of random integers ri(1,100,10) \\n\",'-'*50,\"\\n\",A)\n",
        "print(\"\\nHere is the sorted vector by np.sort(A, kind='mergesort')) \\n\",'-'*50,\"\\n\",np.sort(A, kind='mergesort'))\n"
      ],
      "metadata": {
        "colab": {
          "base_uri": "https://localhost:8080/"
        },
        "id": "fnnGLKNnS2Wn",
        "outputId": "de749c39-5608-47eb-9f1e-3c7f5521b155"
      },
      "execution_count": 21,
      "outputs": [
        {
          "output_type": "stream",
          "name": "stdout",
          "text": [
            "\n",
            "Vector of random integers ri(1,100,10) \n",
            " -------------------------------------------------- \n",
            " [91 63 86 64 50 20 94 46 99 50]\n",
            "\n",
            "Here is the sorted vector by np.sort(A, kind='mergesort')) \n",
            " -------------------------------------------------- \n",
            " [20 46 50 50 63 64 86 91 94 99]\n"
          ]
        }
      ]
    },
    {
      "cell_type": "code",
      "source": [
        "\n",
        "M = ri(1,100,25).reshape(5,5) # Matrix of random interegrs\n",
        "print(\"\\n5x5 Matrix of random integers\\n\",'-'*50,\"\\n\",M)\n",
        "print(\"\\nHere is the sorted matrix along each row\\n\",'-'*50,\"\\n\",np.sort(M, kind='mergesort')) # Default axis =1\n",
        "print(\"\\nHere is the sorted matrix along each column\\n\",'-'*50,\"\\n\",np.sort(M, axis=0, kind='mergesort'))"
      ],
      "metadata": {
        "colab": {
          "base_uri": "https://localhost:8080/"
        },
        "id": "E5O-5kHUS5Ks",
        "outputId": "9e53bba4-2355-4f15-bd02-d2af9ebc3217"
      },
      "execution_count": 22,
      "outputs": [
        {
          "output_type": "stream",
          "name": "stdout",
          "text": [
            "\n",
            "5x5 Matrix of random integers\n",
            " -------------------------------------------------- \n",
            " [[69 49 97 32 52]\n",
            " [88 39 21 14 60]\n",
            " [99 74 69 40 51]\n",
            " [96 12 82 10 67]\n",
            " [81 16 96 69 56]]\n",
            "\n",
            "Here is the sorted matrix along each row\n",
            " -------------------------------------------------- \n",
            " [[32 49 52 69 97]\n",
            " [14 21 39 60 88]\n",
            " [40 51 69 74 99]\n",
            " [10 12 67 82 96]\n",
            " [16 56 69 81 96]]\n",
            "\n",
            "Here is the sorted matrix along each column\n",
            " -------------------------------------------------- \n",
            " [[69 12 21 10 51]\n",
            " [81 16 69 14 52]\n",
            " [88 39 82 32 56]\n",
            " [96 49 96 40 60]\n",
            " [99 74 97 69 67]]\n"
          ]
        }
      ]
    },
    {
      "cell_type": "code",
      "source": [
        "a = ri(1,100,30)\n",
        "b = a.reshape(2,3,5)\n",
        "c = a.reshape(6,5)\n",
        "print(\"\\na looks like\\n\",'-'*20,\"\\n\",a,\"\\n\",'-'*20)\n",
        "print(\"\\nb looks like\\n\",'-'*20,\"\\n\",b,\"\\n\",'-'*20)\n",
        "print(\"\\nc looks like\\n\",'-'*20,\"\\n\",c,\"\\n\",'-'*20)\n",
        "print(\"Max of a:\", a.max())\n",
        "print(\"Min of b:\", b.min())\n",
        "print(\"Max of a location:\", a.argmax())\n",
        "print(\"Max of b location:\", b.argmax())\n",
        "print(\"Max of c location:\", c.argmax())"
      ],
      "metadata": {
        "colab": {
          "base_uri": "https://localhost:8080/"
        },
        "id": "yhHfqjNpTFGw",
        "outputId": "11930dc4-55e9-4a56-b868-4a50ddacb52c"
      },
      "execution_count": 25,
      "outputs": [
        {
          "output_type": "stream",
          "name": "stdout",
          "text": [
            "\n",
            "a looks like\n",
            " -------------------- \n",
            " [96 44 49 20 22 96 93 37 89 71 58 86  3 12 93 60 45 53 42 18 68 64 23 26\n",
            " 77  5 31 71 89 94] \n",
            " --------------------\n",
            "\n",
            "b looks like\n",
            " -------------------- \n",
            " [[[96 44 49 20 22]\n",
            "  [96 93 37 89 71]\n",
            "  [58 86  3 12 93]]\n",
            "\n",
            " [[60 45 53 42 18]\n",
            "  [68 64 23 26 77]\n",
            "  [ 5 31 71 89 94]]] \n",
            " --------------------\n",
            "\n",
            "c looks like\n",
            " -------------------- \n",
            " [[96 44 49 20 22]\n",
            " [96 93 37 89 71]\n",
            " [58 86  3 12 93]\n",
            " [60 45 53 42 18]\n",
            " [68 64 23 26 77]\n",
            " [ 5 31 71 89 94]] \n",
            " --------------------\n",
            "Max of a: 96\n",
            "Min of b: 3\n",
            "Max of a location: 0\n",
            "Max of b location: 0\n",
            "Max of c location: 0\n"
          ]
        }
      ]
    },
    {
      "cell_type": "markdown",
      "source": [
        "# Indexing and slicing"
      ],
      "metadata": {
        "id": "hA3P2tx2TzzS"
      }
    },
    {
      "cell_type": "code",
      "source": [
        "arr = np.arange(0,11)\n",
        "print(\"Array:\",arr)\n",
        "print(\"Type:\",type(arr))\n",
        "print(\"Element at 7th index is:\", arr[7])\n",
        "print(\"Elements from 3rd to 5th index are:\", arr[3:6])\n",
        "print(\"Elements up to 4th index are:\", arr[:4])\n",
        "print(\"Elements from last backwards are:\", arr[-1::-1])\n",
        "print(\"3 Elements from last backwards are:\", arr[-1:-6:-2])\n",
        "\n",
        "arr = np.arange(0,21,2)\n",
        "print(\"New array:\",arr)\n",
        "print(\"Elements at 2nd, 4th, and 9th index are:\", arr[[2,4,9]]) # Pass a list as a index to subset"
      ],
      "metadata": {
        "colab": {
          "base_uri": "https://localhost:8080/"
        },
        "id": "5-3jTbVLT4FO",
        "outputId": "04b446d2-2a82-4f95-f0f1-94da70c67262"
      },
      "execution_count": 28,
      "outputs": [
        {
          "output_type": "stream",
          "name": "stdout",
          "text": [
            "Array: [ 0  1  2  3  4  5  6  7  8  9 10]\n",
            "Type: <class 'numpy.ndarray'>\n",
            "Element at 7th index is: 7\n",
            "Elements from 3rd to 5th index are: [3 4 5]\n",
            "Elements up to 4th index are: [0 1 2 3]\n",
            "Elements from last backwards are: [10  9  8  7  6  5  4  3  2  1  0]\n",
            "3 Elements from last backwards are: [10  8  6]\n",
            "New array: [ 0  2  4  6  8 10 12 14 16 18 20]\n",
            "Elements at 2nd, 4th, and 9th index are: [ 4  8 18]\n"
          ]
        }
      ]
    },
    {
      "cell_type": "code",
      "source": [
        "mat = np.array(ri(10,100,15)).reshape(3,5)\n",
        "print(\"Matrix of random 2-digit numbers\\n--------------------------------\\n\",mat)\n",
        "\n",
        "print(\"\\nDouble bracket indexing\\n------------------------\")\n",
        "print(\"Element in row index 1 and column index 2:\", mat[1][2])\n",
        "\n",
        "print(\"\\nSingle bracket with comma indexing\\n----------------------------------\")\n",
        "print(\"Element in row index 1 and column index 2:\", mat[1,2])\n",
        "print(\"\\nRow or column extract\\n----------------------\")\n",
        "\n",
        "print(\"Entire row at index 2:\", mat[2])\n",
        "print(\"Entire column at index 3:\", mat[:,3])\n",
        "\n",
        "print(\"\\nSubsetting sub-matrices\\n--------------------------\")\n",
        "print(\"Matrix with row indices 1 and 2 and column indices 3 and 4\\n\", mat[1:3,3:5])\n",
        "print(\"Matrix with row indices 0 and 1 and column indices 1 and 3\\n\", mat[0:2,[1,3]])"
      ],
      "metadata": {
        "colab": {
          "base_uri": "https://localhost:8080/"
        },
        "id": "mLQEbH_vUQmz",
        "outputId": "b78fbc21-4e97-4843-9ed6-547a1b59a69f"
      },
      "execution_count": 29,
      "outputs": [
        {
          "output_type": "stream",
          "name": "stdout",
          "text": [
            "Matrix of random 2-digit numbers\n",
            "--------------------------------\n",
            " [[48 22 55 14 67]\n",
            " [40 14 68 32 90]\n",
            " [93 25 11 42 41]]\n",
            "\n",
            "Double bracket indexing\n",
            "------------------------\n",
            "Element in row index 1 and column index 2: 68\n",
            "\n",
            "Single bracket with comma indexing\n",
            "----------------------------------\n",
            "Element in row index 1 and column index 2: 68\n",
            "\n",
            "Row or column extract\n",
            "----------------------\n",
            "Entire row at index 2: [93 25 11 42 41]\n",
            "Entire column at index 3: [14 32 42]\n",
            "\n",
            "Subsetting sub-matrices\n",
            "--------------------------\n",
            "Matrix with row indices 1 and 2 and column indices 3 and 4\n",
            " [[32 90]\n",
            " [42 41]]\n",
            "Matrix with row indices 0 and 1 and column indices 1 and 3\n",
            " [[22 14]\n",
            " [14 32]]\n"
          ]
        }
      ]
    },
    {
      "cell_type": "code",
      "source": [
        "print(\"Matrix of random 2-digit numbers\\n--------------------------------\\n\",mat)\n",
        "\n",
        "print(\"\\nDouble bracket indexing\\n------------------------\")\n",
        "print(\"Element in (1,3) and (2,4):\", mat[[1,2],[3,4]])\n"
      ],
      "metadata": {
        "colab": {
          "base_uri": "https://localhost:8080/"
        },
        "id": "BCBB2vPRUuW2",
        "outputId": "d2a54663-925f-4289-96ff-6bee647870a4"
      },
      "execution_count": 34,
      "outputs": [
        {
          "output_type": "stream",
          "name": "stdout",
          "text": [
            "Matrix of random 2-digit numbers\n",
            "--------------------------------\n",
            " [[48 22 55 14 67]\n",
            " [40 14 68 32 90]\n",
            " [93 25 11 42 41]]\n",
            "\n",
            "Double bracket indexing\n",
            "------------------------\n",
            "Element in (1,3) and (2,4): [32 41]\n"
          ]
        }
      ]
    }
  ]
}