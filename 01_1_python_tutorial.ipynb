{
  "nbformat": 4,
  "nbformat_minor": 0,
  "metadata": {
    "colab": {
      "provenance": [],
      "authorship_tag": "ABX9TyMT68KKV9FTyYN4aIXAWkwJ",
      "include_colab_link": true
    },
    "kernelspec": {
      "name": "python3",
      "display_name": "Python 3"
    },
    "language_info": {
      "name": "python"
    }
  },
  "cells": [
    {
      "cell_type": "markdown",
      "metadata": {
        "id": "view-in-github",
        "colab_type": "text"
      },
      "source": [
        "<a href=\"https://colab.research.google.com/github/gundaminpde/2023-spring/blob/main/01_1_python_tutorial.ipynb\" target=\"_parent\"><img src=\"https://colab.research.google.com/assets/colab-badge.svg\" alt=\"Open In Colab\"/></a>"
      ]
    },
    {
      "cell_type": "markdown",
      "source": [
        "This is a modifiction of the CS231n Python tutorial by Justin Johnson (http://cs231n.github.io/python-numpy-tutorial/)."
      ],
      "metadata": {
        "id": "30RC3pSMcmuD"
      }
    },
    {
      "cell_type": "markdown",
      "source": [
        "# **Basic data types**\n",
        "\n",
        "\n",
        "Like most languages, Python has a number of basic types including integers, floats, booleans, and strings. These data types behave in ways that are familiar from other programming languages.\n",
        "\n",
        "\n",
        "\n",
        "# Numbers\n",
        "Integers and floats work as you would expect from other languages:"
      ],
      "metadata": {
        "id": "wJqhdP7Gc7Bs"
      }
    },
    {
      "cell_type": "code",
      "execution_count": null,
      "metadata": {
        "colab": {
          "base_uri": "https://localhost:8080/"
        },
        "id": "NT10XVSQcKOT",
        "outputId": "97d8ac51-c33f-4c16-9485-cf283dbb9952"
      },
      "outputs": [
        {
          "output_type": "stream",
          "name": "stdout",
          "text": [
            "3 <class 'int'>\n"
          ]
        }
      ],
      "source": [
        "x = 3\n",
        "print (x, type(x))"
      ]
    },
    {
      "cell_type": "code",
      "source": [
        "print (x + 1)   # Addition;\n",
        "print (x - 1)   # Subtraction;\n",
        "print (x * 2)   # Multiplication;\n",
        "print (x ** 2)  # Exponentiation;"
      ],
      "metadata": {
        "colab": {
          "base_uri": "https://localhost:8080/"
        },
        "id": "rcpRFSKFcZSA",
        "outputId": "72c3f67a-7b55-49a4-e016-1476e99288fe"
      },
      "execution_count": null,
      "outputs": [
        {
          "output_type": "stream",
          "name": "stdout",
          "text": [
            "4\n",
            "2\n",
            "6\n",
            "9\n"
          ]
        }
      ]
    },
    {
      "cell_type": "code",
      "source": [
        "## 복합연산자\n",
        "\n",
        "x += 1\n",
        "print (x)  # Prints \"4\"\n",
        "x *= 2\n",
        "print (x)  # Prints \"8\""
      ],
      "metadata": {
        "colab": {
          "base_uri": "https://localhost:8080/"
        },
        "id": "Ic4lPT1YdmVY",
        "outputId": "9266f8ac-c046-4fe9-81a1-d25500268e0a"
      },
      "execution_count": null,
      "outputs": [
        {
          "output_type": "stream",
          "name": "stdout",
          "text": [
            "4\n",
            "8\n"
          ]
        }
      ]
    },
    {
      "cell_type": "code",
      "source": [
        "y = 2.5\n",
        "print (type(y))\n",
        "print (y, y + 1, y * 2, y ** 2) # Prints \"2.5 3.5 5.0 6.25\""
      ],
      "metadata": {
        "colab": {
          "base_uri": "https://localhost:8080/"
        },
        "id": "h7j93LkVdt_G",
        "outputId": "7bf0ce3e-1ee8-46d0-8d92-0345a495c07d"
      },
      "execution_count": null,
      "outputs": [
        {
          "output_type": "stream",
          "name": "stdout",
          "text": [
            "<class 'float'>\n",
            "2.5 3.5 5.0 6.25\n"
          ]
        }
      ]
    },
    {
      "cell_type": "code",
      "source": [
        "print(round(123/45,1))\n",
        "print(round(123/45,2))\n",
        "print(round(123/45,3))"
      ],
      "metadata": {
        "colab": {
          "base_uri": "https://localhost:8080/"
        },
        "id": "vpM-9eSrePWq",
        "outputId": "fcf3cea2-ebfb-4a27-9543-01ac401fb2a2"
      },
      "execution_count": null,
      "outputs": [
        {
          "output_type": "stream",
          "name": "stdout",
          "text": [
            "2.7\n",
            "2.73\n",
            "2.733\n"
          ]
        }
      ]
    },
    {
      "cell_type": "code",
      "source": [
        "100+int('100')"
      ],
      "metadata": {
        "colab": {
          "base_uri": "https://localhost:8080/"
        },
        "id": "iuKu3bLQekP_",
        "outputId": "a4545ff6-7cf4-4f43-ec12-d71b91f81112"
      },
      "execution_count": null,
      "outputs": [
        {
          "output_type": "execute_result",
          "data": {
            "text/plain": [
              "200"
            ]
          },
          "metadata": {},
          "execution_count": 7
        }
      ]
    },
    {
      "cell_type": "markdown",
      "source": [
        "# Booleans\n",
        "\n",
        "Python implements all of the usual operators for Boolean logic, but uses English words rather than symbols (&&, ||, etc.):"
      ],
      "metadata": {
        "id": "RJPLaea7d2bl"
      }
    },
    {
      "cell_type": "code",
      "source": [
        "t, f = True, False\n",
        "print (type(t)) # Prints \"\"\n",
        "print (type(f))"
      ],
      "metadata": {
        "colab": {
          "base_uri": "https://localhost:8080/"
        },
        "id": "owGWy0aaj-Pm",
        "outputId": "b6ace052-5e97-4a0f-a0d6-b15a4b12cb70"
      },
      "execution_count": null,
      "outputs": [
        {
          "output_type": "stream",
          "name": "stdout",
          "text": [
            "<class 'bool'>\n",
            "<class 'bool'>\n"
          ]
        }
      ]
    },
    {
      "cell_type": "code",
      "source": [
        "print (t and f) # Logical AND;\n",
        "print (t or f)  # Logical OR;\n",
        "print (not t)   # Logical NOT;\n",
        "print (t != f)  # Logical XOR;\n",
        "     "
      ],
      "metadata": {
        "colab": {
          "base_uri": "https://localhost:8080/"
        },
        "id": "52w9-2TUkHlF",
        "outputId": "7b756675-f962-49fd-f769-f1efc1598dab"
      },
      "execution_count": null,
      "outputs": [
        {
          "output_type": "stream",
          "name": "stdout",
          "text": [
            "False\n",
            "True\n",
            "False\n",
            "True\n"
          ]
        }
      ]
    },
    {
      "cell_type": "code",
      "source": [
        "print(bool(1))\n",
        "print(bool(0))"
      ],
      "metadata": {
        "colab": {
          "base_uri": "https://localhost:8080/"
        },
        "id": "KySswT2he-eF",
        "outputId": "a30f4dcc-5bae-4bf2-ba36-6e5451455931"
      },
      "execution_count": null,
      "outputs": [
        {
          "output_type": "stream",
          "name": "stdout",
          "text": [
            "True\n",
            "False\n"
          ]
        }
      ]
    },
    {
      "cell_type": "code",
      "source": [
        "100<200"
      ],
      "metadata": {
        "colab": {
          "base_uri": "https://localhost:8080/"
        },
        "id": "9bTKwJGyfB97",
        "outputId": "2432daad-da95-47ef-9e01-85f31550329b"
      },
      "execution_count": null,
      "outputs": [
        {
          "output_type": "execute_result",
          "data": {
            "text/plain": [
              "True"
            ]
          },
          "metadata": {},
          "execution_count": 9
        }
      ]
    },
    {
      "cell_type": "markdown",
      "source": [
        "# Strings"
      ],
      "metadata": {
        "id": "2DyZHn22khOG"
      }
    },
    {
      "cell_type": "code",
      "source": [
        "\n",
        "hello = 'hello'   # String literals can use single quotes\n",
        "world = \"world\"   # or double quotes; it does not matter.\n",
        "print (hello, len(hello))"
      ],
      "metadata": {
        "colab": {
          "base_uri": "https://localhost:8080/"
        },
        "id": "7vDQFbNMkY_1",
        "outputId": "eb480839-5f43-4acf-87f5-72d1024b1b85"
      },
      "execution_count": null,
      "outputs": [
        {
          "output_type": "stream",
          "name": "stdout",
          "text": [
            "hello 5\n"
          ]
        }
      ]
    },
    {
      "cell_type": "code",
      "source": [
        "hw = hello + ' ' + world  # String concatenation\n",
        "print (hw)  # prints \"hello world\""
      ],
      "metadata": {
        "colab": {
          "base_uri": "https://localhost:8080/"
        },
        "id": "-sezHDoykyej",
        "outputId": "cf01f7ca-a0d5-4e54-c6b1-bfa60225ff76"
      },
      "execution_count": null,
      "outputs": [
        {
          "output_type": "stream",
          "name": "stdout",
          "text": [
            "hello world\n"
          ]
        }
      ]
    },
    {
      "cell_type": "code",
      "source": [
        "hw12 = '%s %s %d' % (hello, world, 12)  # sprintf style string formatting\n",
        "print (hw12)  # prints \"hello world 12\""
      ],
      "metadata": {
        "colab": {
          "base_uri": "https://localhost:8080/"
        },
        "id": "f6bpHwxZk5Xg",
        "outputId": "12f06170-c8f0-4ee8-9956-cf1de27438c2"
      },
      "execution_count": null,
      "outputs": [
        {
          "output_type": "stream",
          "name": "stdout",
          "text": [
            "hello world 12\n"
          ]
        }
      ]
    },
    {
      "cell_type": "code",
      "source": [
        "## 상황에 맞게 처리해 준다.\n",
        "a=1\n",
        "b=2\n",
        "c=1.5\n",
        "d=\"Hello World\"\n",
        "\n",
        "print(a+b)\n",
        "print(b+c)\n",
        "print(d)\n",
        "\n",
        "print(type(b))\n",
        "print(type(c))\n",
        "print(type(d))"
      ],
      "metadata": {
        "colab": {
          "base_uri": "https://localhost:8080/"
        },
        "id": "1WaJSaoJdUfJ",
        "outputId": "d3624637-cb3c-4361-bb8c-172d001e8d04"
      },
      "execution_count": null,
      "outputs": [
        {
          "output_type": "stream",
          "name": "stdout",
          "text": [
            "3\n",
            "3.5\n",
            "Hello World\n",
            "<class 'int'>\n",
            "<class 'float'>\n",
            "<class 'str'>\n"
          ]
        }
      ]
    },
    {
      "cell_type": "markdown",
      "source": [
        "String objects have a bunch of useful methods; for example:"
      ],
      "metadata": {
        "id": "kL05xfrrlYRg"
      }
    },
    {
      "cell_type": "code",
      "source": [
        "\n",
        "s = \"hello\"\n",
        "print (s.capitalize())  # Capitalize a string; prints \"Hello\"\n",
        "print (s.upper())       # Convert a string to uppercase; prints \"HELLO\"\n",
        "print (s.rjust(7))      # Right-justify a string, padding with spaces; prints \"  hello\"\n",
        "print (s.center(7) )    # Center a string, padding with spaces; prints \" hello \"\n",
        "print (s.replace('l', '(ell)'))  # Replace all instances of one substring with another;\n",
        "                               # prints \"he(ell)(ell)o\"\n",
        "print ('  world '.strip())  # Remove leading and trailing whitespace; prints \"world\""
      ],
      "metadata": {
        "colab": {
          "base_uri": "https://localhost:8080/"
        },
        "id": "N7RaOKZwlK_W",
        "outputId": "6ecae612-5fb7-493f-cce8-c9d59d5de5f0"
      },
      "execution_count": null,
      "outputs": [
        {
          "output_type": "stream",
          "name": "stdout",
          "text": [
            "Hello\n",
            "HELLO\n",
            "  hello\n",
            " hello \n",
            "he(ell)(ell)o\n",
            "world\n"
          ]
        }
      ]
    },
    {
      "cell_type": "markdown",
      "source": [
        "You can find a list of all string methods in the documentation.\n",
        "https://docs.python.org/3.5/library/stdtypes.html#string-methods"
      ],
      "metadata": {
        "id": "22z7bYfgNQu-"
      }
    },
    {
      "cell_type": "code",
      "source": [
        "\n",
        "your_name = input('이름이 뭔데?')\n",
        "print(\"너의 이름은\",your_name)\n"
      ],
      "metadata": {
        "colab": {
          "base_uri": "https://localhost:8080/"
        },
        "id": "bwfx7Q06dxrw",
        "outputId": "bc89d35b-ed75-4b3b-f091-2ee5d0b845c7"
      },
      "execution_count": null,
      "outputs": [
        {
          "output_type": "stream",
          "name": "stdout",
          "text": [
            "이름이 뭔데?주성치\n",
            "너의 이름은 주성치\n"
          ]
        }
      ]
    },
    {
      "cell_type": "markdown",
      "source": [
        "# **if and while : conditional sentences**"
      ],
      "metadata": {
        "id": "ffGiD1JIfPrw"
      }
    },
    {
      "cell_type": "code",
      "source": [
        "## if 문\n",
        "\n",
        "answer = input(\"주성치 영화를 본 적이 있나요? (예/아니요):\")\n",
        "\n",
        "if answer == \"예\":\n",
        "    print(\"진정한 영화를 보았군요.\")\n",
        "elif answer == \"아니요\":\n",
        "    print(\"아쉽군요.\")\n",
        "else:\n",
        "    print(\"예/아니오로 대답하시라.\")"
      ],
      "metadata": {
        "colab": {
          "base_uri": "https://localhost:8080/"
        },
        "id": "St0XQgsdfNJJ",
        "outputId": "f66f4558-cd47-4b1a-90b7-51e9baaba6ed"
      },
      "execution_count": null,
      "outputs": [
        {
          "output_type": "stream",
          "name": "stdout",
          "text": [
            "주성치 영화를 본 적이 있나요? (예/아니요):뭐라구요?\n",
            "예/아니오로 대답하시라.\n"
          ]
        }
      ]
    },
    {
      "cell_type": "code",
      "source": [
        "hungry = True\n",
        "\n",
        "if hungry:\n",
        "    print(\"배고파요\")\n",
        "     "
      ],
      "metadata": {
        "colab": {
          "base_uri": "https://localhost:8080/"
        },
        "id": "3u87IIeFfl0m",
        "outputId": "9e518212-3249-43ef-a326-1ff2ce6e3a91"
      },
      "execution_count": null,
      "outputs": [
        {
          "output_type": "stream",
          "name": "stdout",
          "text": [
            "배고파요\n"
          ]
        }
      ]
    },
    {
      "cell_type": "code",
      "source": [
        "aaa = 1\n",
        "\n",
        "while aaa <= 5:\n",
        "  aaa+=1\n",
        "  print(aaa)\n",
        "\n",
        "#print(aaa)\n",
        "\n",
        "print(\"끝\")"
      ],
      "metadata": {
        "colab": {
          "base_uri": "https://localhost:8080/"
        },
        "id": "i419Oq7mf0cx",
        "outputId": "c77c4ddd-5888-4452-a5c0-eb2f317dac10"
      },
      "execution_count": null,
      "outputs": [
        {
          "output_type": "stream",
          "name": "stdout",
          "text": [
            "2\n",
            "3\n",
            "4\n",
            "5\n",
            "6\n",
            "끝\n"
          ]
        }
      ]
    },
    {
      "cell_type": "markdown",
      "source": [
        "# **Containers**\n",
        "Python includes several built-in container types: lists, dictionaries, sets, and tuples.\n",
        "\n",
        "# Lists\n",
        "\n",
        "A list is the Python equivalent of an array, but is resizeable and can contain elements of different types:"
      ],
      "metadata": {
        "id": "mc4T0G7kmOwH"
      }
    },
    {
      "cell_type": "code",
      "source": [
        "xs = [3, 1, 2]   # Create a list\n",
        "print(xs, xs[2])\n",
        "print(xs[-1])     # Negative indices count from the end of the list; prints \"2\"\n",
        "len(xs)"
      ],
      "metadata": {
        "colab": {
          "base_uri": "https://localhost:8080/"
        },
        "id": "bXDMDIDMmSY9",
        "outputId": "da888df2-c219-4a54-82db-7fa48b8df447"
      },
      "execution_count": null,
      "outputs": [
        {
          "output_type": "stream",
          "name": "stdout",
          "text": [
            "[3, 1, 2] 2\n",
            "2\n"
          ]
        },
        {
          "output_type": "execute_result",
          "data": {
            "text/plain": [
              "3"
            ]
          },
          "metadata": {},
          "execution_count": 14
        }
      ]
    },
    {
      "cell_type": "code",
      "source": [
        "xs[2] = 'foo'    # Lists can contain elements of different types\n",
        "print (xs)"
      ],
      "metadata": {
        "colab": {
          "base_uri": "https://localhost:8080/"
        },
        "id": "PzU3Msgmm_q7",
        "outputId": "ff5d3929-9d62-4066-f789-9459b8bba3db"
      },
      "execution_count": null,
      "outputs": [
        {
          "output_type": "stream",
          "name": "stdout",
          "text": [
            "[3, 1, 'foo']\n"
          ]
        }
      ]
    },
    {
      "cell_type": "code",
      "source": [
        "xs.append('bar') # Add a new element to the end of the list\n",
        "print(xs) "
      ],
      "metadata": {
        "colab": {
          "base_uri": "https://localhost:8080/"
        },
        "id": "qHYInK4PnMME",
        "outputId": "a063fe6d-93c2-4fdf-9c5d-b18c4ded3b70"
      },
      "execution_count": null,
      "outputs": [
        {
          "output_type": "stream",
          "name": "stdout",
          "text": [
            "[3, 1, 'foo', 'bar']\n"
          ]
        }
      ]
    },
    {
      "cell_type": "code",
      "source": [
        "x = xs.pop()     # Remove and return the last element of the list\n",
        "print (x, xs)"
      ],
      "metadata": {
        "colab": {
          "base_uri": "https://localhost:8080/"
        },
        "id": "7nvZb2fwnQjH",
        "outputId": "5a30c346-63a8-458d-8ea9-c0350ac69a57"
      },
      "execution_count": null,
      "outputs": [
        {
          "output_type": "stream",
          "name": "stdout",
          "text": [
            "bar [3, 1, 'foo']\n"
          ]
        }
      ]
    },
    {
      "cell_type": "code",
      "source": [
        "## 문자열의 경우\n",
        "\n",
        "s = 'DaDsasdfAAAghj'\n",
        "\n",
        "print(s[0])\n",
        "print(s[3])\n",
        "print(s[-3])\n"
      ],
      "metadata": {
        "colab": {
          "base_uri": "https://localhost:8080/"
        },
        "id": "p3ymwRUDhLOa",
        "outputId": "9c7d2289-88e0-48c5-c250-ef89b2c2ab43"
      },
      "execution_count": null,
      "outputs": [
        {
          "output_type": "stream",
          "name": "stdout",
          "text": [
            "D\n",
            "s\n",
            "g\n"
          ]
        }
      ]
    },
    {
      "cell_type": "code",
      "source": [
        "aaa=[12,6,3,4,5,34,6,6,5]\n",
        "\n",
        "print(aaa[1:5])\n",
        "\n",
        "aaa.append(20)\n",
        "print(aaa)\n",
        "\n",
        "aaa+=[30]\n",
        "print(aaa)\n",
        "\n",
        "bbb=aaa\n",
        "print(bbb)\n",
        "\n",
        "del bbb[2:8]\n",
        "print(bbb)\n",
        "print(aaa) ## 같은 실체\n",
        "\n",
        "aaa=aaa+[2,3]\n",
        "print(aaa)"
      ],
      "metadata": {
        "colab": {
          "base_uri": "https://localhost:8080/"
        },
        "id": "3_Bu85BchvuP",
        "outputId": "3fb05ffc-6f84-486a-a367-61346e978385"
      },
      "execution_count": null,
      "outputs": [
        {
          "output_type": "stream",
          "name": "stdout",
          "text": [
            "[6, 3, 4, 5]\n",
            "[12, 6, 3, 4, 5, 34, 6, 6, 5, 20]\n",
            "[12, 6, 3, 4, 5, 34, 6, 6, 5, 20, 30]\n",
            "[12, 6, 3, 4, 5, 34, 6, 6, 5, 20, 30]\n",
            "[12, 6, 5, 20, 30]\n",
            "[12, 6, 5, 20, 30]\n",
            "[12, 6, 5, 20, 30, 2, 3]\n"
          ]
        }
      ]
    },
    {
      "cell_type": "code",
      "source": [
        "\n",
        "ccc= [[1,2,3],[2,2,3],[1,1]]\n",
        "print(ccc)\n",
        "\n",
        "threeby3= [[1,2,3],[2,2,3],[1,1,2]]\n",
        "print(threeby3)\n",
        "\n",
        "ccc[1][0]\n",
        "\n",
        "empty=[]\n",
        "\n",
        "empty2=list()\n",
        "\n",
        "print(empty)\n",
        "print(empty2)"
      ],
      "metadata": {
        "colab": {
          "base_uri": "https://localhost:8080/"
        },
        "id": "aoxQe4miiUMq",
        "outputId": "760ad734-2ab3-4769-8165-3895b5d527a3"
      },
      "execution_count": null,
      "outputs": [
        {
          "output_type": "stream",
          "name": "stdout",
          "text": [
            "[[1, 2, 3], [2, 2, 3], [1, 1]]\n",
            "[[1, 2, 3], [2, 2, 3], [1, 1, 2]]\n",
            "[]\n",
            "[]\n"
          ]
        }
      ]
    },
    {
      "cell_type": "code",
      "source": [
        "## 행렬\n",
        "\n",
        "import numpy as np\n",
        "\n",
        "A = np.array([[1,2,3],[4,5,6],[7,8,9]])\n",
        "\n",
        "X = np.array([[1],[4],[7]])\n",
        "\n",
        "print(A)\n",
        "print(X)\n",
        "print(len(A))\n",
        "print(\"행렬크기 = \", np.shape(X))  ## 매우 중요\n",
        "\n",
        "print('행렬곱 AX = ', A@X, sep ='\\n')\n",
        "\n",
        "print('matmul 사용',np.matmul(A, X), sep ='\\n')\n",
        "\n",
        "print('dot 사용',np.dot(A, X), sep ='\\n')\n",
        "print(A+X)\n"
      ],
      "metadata": {
        "colab": {
          "base_uri": "https://localhost:8080/"
        },
        "id": "XJicx18Giyj5",
        "outputId": "5e4a7c56-b124-467a-e3ff-5efdcab3e9f2"
      },
      "execution_count": null,
      "outputs": [
        {
          "output_type": "stream",
          "name": "stdout",
          "text": [
            "[[1 2 3]\n",
            " [4 5 6]\n",
            " [7 8 9]]\n",
            "[[1]\n",
            " [4]\n",
            " [7]]\n",
            "3\n",
            "행렬크기 =  (3, 1)\n",
            "행렬곱 AX = \n",
            "[[ 30]\n",
            " [ 66]\n",
            " [102]]\n",
            "matmul 사용\n",
            "[[ 30]\n",
            " [ 66]\n",
            " [102]]\n",
            "dot 사용\n",
            "[[ 30]\n",
            " [ 66]\n",
            " [102]]\n",
            "[[ 2  3  4]\n",
            " [ 8  9 10]\n",
            " [14 15 16]]\n"
          ]
        }
      ]
    },
    {
      "cell_type": "markdown",
      "source": [
        "# Slicing\n",
        "\n",
        "\n",
        "In addition to accessing list elements one at a time, Python provides concise syntax to access sublists; this is known as slicing:\n",
        "\n"
      ],
      "metadata": {
        "id": "8K5_iLjPnn1E"
      }
    },
    {
      "cell_type": "code",
      "source": [
        "\n",
        "nums = list(range(0,10,2)) # range is a built-in function that can creates a list of integers\n",
        "\n",
        "print(nums)         # Prints \"[0, 1, 2, 3, 4]\"\n",
        "print(nums[2:4])    # Get a slice from index 2 to 4 (exclusive); prints \"[2, 3]\"\n",
        "print(nums[2:])     # Get a slice from index 2 to the end; prints \"[2, 3, 4]\"\n",
        "print(nums[:2])     # Get a slice from the start to index 2 (exclusive); prints \"[0, 1]\"\n",
        "print(nums[:])      # Get a slice of the whole list; prints [\"0, 1, 2, 3, 4]\"\n",
        "print(nums[:-1])    # Slice indices can be negative; prints [\"0, 1, 2, 3]\"\n",
        "nums[2:4]=[8,9] # Assign a new sublist to a slice\n",
        "print(nums )        # Prints \"[0, 1, 8, 9, 4]\""
      ],
      "metadata": {
        "colab": {
          "base_uri": "https://localhost:8080/"
        },
        "id": "yg-zbET5niwX",
        "outputId": "036274dd-6ff6-41fc-ec71-10dfae9239a2"
      },
      "execution_count": null,
      "outputs": [
        {
          "output_type": "stream",
          "name": "stdout",
          "text": [
            "[0, 2, 4, 6, 8]\n",
            "[4, 6]\n",
            "[4, 6, 8]\n",
            "[0, 2]\n",
            "[0, 2, 4, 6, 8]\n",
            "[0, 2, 4, 6]\n",
            "[0, 2, 8, 9, 8]\n"
          ]
        }
      ]
    },
    {
      "cell_type": "markdown",
      "source": [
        "## **Loops**\n",
        "\n",
        "You can loop over the elements of a list like this:"
      ],
      "metadata": {
        "id": "3IUaQptnpd2N"
      }
    },
    {
      "cell_type": "code",
      "source": [
        "animals = ['cat', 'dog', 'monkey']\n",
        "for animal in animals:\n",
        "    print (animal)"
      ],
      "metadata": {
        "colab": {
          "base_uri": "https://localhost:8080/"
        },
        "id": "VkmA4r82pZME",
        "outputId": "3a060855-0dd3-48ec-c4c6-29f7d77a58da"
      },
      "execution_count": null,
      "outputs": [
        {
          "output_type": "stream",
          "name": "stdout",
          "text": [
            "cat\n",
            "dog\n",
            "monkey\n"
          ]
        }
      ]
    },
    {
      "cell_type": "markdown",
      "source": [
        "If you want access to the index of each element within the body of a loop, use the built-in enumerate function:"
      ],
      "metadata": {
        "id": "2F32lo14qL5Y"
      }
    },
    {
      "cell_type": "code",
      "source": [
        "animals = ['cat', 'dog', 'monkey']\n",
        "for idx, animal in enumerate(animals):\n",
        "    print ('#%d: %s' % (idx + 1, animal))"
      ],
      "metadata": {
        "colab": {
          "base_uri": "https://localhost:8080/"
        },
        "id": "22drYUo9p9Vy",
        "outputId": "9cee0f8f-ceb7-4787-db57-106a9c9ba649"
      },
      "execution_count": null,
      "outputs": [
        {
          "output_type": "stream",
          "name": "stdout",
          "text": [
            "#1: cat\n",
            "#2: dog\n",
            "#3: monkey\n"
          ]
        }
      ]
    },
    {
      "cell_type": "code",
      "source": [
        "numbers = [1, 2, 3]\n",
        "letters = [\"A\", \"B\", \"C\"]\n",
        "for i in range(3):\n",
        "  pair = (numbers[i], letters[i])\n",
        "  print(pair)"
      ],
      "metadata": {
        "colab": {
          "base_uri": "https://localhost:8080/"
        },
        "id": "R7my2lEyvEWJ",
        "outputId": "548ff4e1-a4d5-4160-9b93-6256c4880fb7"
      },
      "execution_count": null,
      "outputs": [
        {
          "output_type": "stream",
          "name": "stdout",
          "text": [
            "(1, 'A')\n",
            "(2, 'B')\n",
            "(3, 'C')\n"
          ]
        }
      ]
    },
    {
      "cell_type": "markdown",
      "source": [
        "# List comprehensions:\n",
        "\n",
        "When programming, frequently we want to transform one type of data into another. As a simple example, consider the following code that computes square numbers:"
      ],
      "metadata": {
        "id": "Guj5nx1uqVe_"
      }
    },
    {
      "cell_type": "code",
      "source": [
        "\n",
        "nums = [0, 1, 2, 3, 4]\n",
        "squares = []\n",
        "for x in nums:\n",
        "    squares.append(x ** 2)\n",
        "print(squares)\n",
        "     "
      ],
      "metadata": {
        "colab": {
          "base_uri": "https://localhost:8080/"
        },
        "id": "D_daj9ZJqRcQ",
        "outputId": "2ca18a47-c27d-44f4-9f07-b8bad045b21f"
      },
      "execution_count": null,
      "outputs": [
        {
          "output_type": "stream",
          "name": "stdout",
          "text": [
            "[0, 1, 4, 9, 16]\n"
          ]
        }
      ]
    },
    {
      "cell_type": "markdown",
      "source": [
        "You can make this code simpler using a list comprehension:"
      ],
      "metadata": {
        "id": "eRqpDwOIq0_m"
      }
    },
    {
      "cell_type": "code",
      "source": [
        "\n",
        "nums = [0, 1, 2, 3, 4]\n",
        "squares = [x ** 2 for x in nums]\n",
        "print (squares)"
      ],
      "metadata": {
        "colab": {
          "base_uri": "https://localhost:8080/"
        },
        "id": "CTTJ_z4mqxL7",
        "outputId": "16582a18-885f-4869-9249-a4e2ed41d017"
      },
      "execution_count": null,
      "outputs": [
        {
          "output_type": "stream",
          "name": "stdout",
          "text": [
            "[0, 1, 4, 9, 16]\n"
          ]
        }
      ]
    },
    {
      "cell_type": "code",
      "source": [
        "nums = [0, 1, 2, 3, 4]\n",
        "even_squares = [x ** 2 for x in nums if x % 2 == 0]\n",
        "print (even_squares)\n",
        "     "
      ],
      "metadata": {
        "colab": {
          "base_uri": "https://localhost:8080/"
        },
        "id": "gAbtXKGZrCQ5",
        "outputId": "cf785a8c-daed-449e-c6cd-6b80fa1daa45"
      },
      "execution_count": null,
      "outputs": [
        {
          "output_type": "stream",
          "name": "stdout",
          "text": [
            "[0, 4, 16]\n"
          ]
        }
      ]
    },
    {
      "cell_type": "code",
      "source": [
        "numbers = [1, 2, 3]\n",
        "letters = [\"A\", \"B\", \"C\"]\n",
        "for pair in zip(numbers, letters):\n",
        "  print(pair)"
      ],
      "metadata": {
        "colab": {
          "base_uri": "https://localhost:8080/"
        },
        "id": "lAT15k6XumJs",
        "outputId": "d1ca59a1-c775-42fb-929f-8b86ae6e3453"
      },
      "execution_count": null,
      "outputs": [
        {
          "output_type": "stream",
          "name": "stdout",
          "text": [
            "(1, 'A')\n",
            "(2, 'B')\n",
            "(3, 'C')\n"
          ]
        }
      ]
    },
    {
      "cell_type": "code",
      "source": [
        "\n",
        "fish_length = [25.4, 26.3, 26.5, 29.0, 29.0, 29.7, 29.7, 30.0, 30.0, 30.7, 31.0, 31.0, \n",
        "                31.5, 32.0, 32.0, 32.0, 33.0, 33.0, 33.5, 33.5, 34.0, 34.0, 34.5, 35.0, \n",
        "                35.0, 35.0, 35.0, 36.0, 36.0, 37.0, 38.5, 38.5, 39.5, 41.0, 41.0, 9.8, \n",
        "                10.5, 10.6, 11.0, 11.2, 11.3, 11.8, 11.8, 12.0, 12.2, 12.4, 13.0, 14.3, 15.0]\n",
        "fish_weight = [242.0, 290.0, 340.0, 363.0, 430.0, 450.0, 500.0, 390.0, 450.0, 500.0, 475.0, 500.0, \n",
        "                500.0, 340.0, 600.0, 600.0, 700.0, 700.0, 610.0, 650.0, 575.0, 685.0, 620.0, 680.0, \n",
        "                700.0, 725.0, 720.0, 714.0, 850.0, 1000.0, 920.0, 955.0, 925.0, 975.0, 950.0, 6.7, \n",
        "                7.5, 7.0, 9.7, 9.8, 8.7, 10.0, 9.9, 9.8, 12.2, 13.4, 12.2, 19.7, 19.9]\n",
        "\n",
        "fish_data = [[l,w] for l, w in zip(fish_length,fish_weight)]\n",
        "\n",
        "print(fish_data[0:5])\n"
      ],
      "metadata": {
        "colab": {
          "base_uri": "https://localhost:8080/"
        },
        "id": "ddk_LWFpt-NZ",
        "outputId": "867c8155-9c12-4a21-d3dc-ef3f5ae292a0"
      },
      "execution_count": null,
      "outputs": [
        {
          "output_type": "stream",
          "name": "stdout",
          "text": [
            "[[25.4, 242.0], [26.3, 290.0], [26.5, 340.0], [29.0, 363.0], [29.0, 430.0]]\n"
          ]
        }
      ]
    },
    {
      "cell_type": "markdown",
      "source": [
        "# Dictionaries\n",
        "\n",
        "A dictionary stores (key, value) pairs, similar to a Map in Java or an object in Javascript. You can use it like this:"
      ],
      "metadata": {
        "id": "36mk-dOTrQyd"
      }
    },
    {
      "cell_type": "code",
      "source": [
        "d = {'cat': 'cute', 'dog': 'furry'}  # Create a new dictionary with some data\n",
        "print (d['cat'])      # Get an entry from a dictionary; prints \"cute\"\n",
        "print ('cat' in d)    # Check if a dictionary has a given key; prints \"True\""
      ],
      "metadata": {
        "colab": {
          "base_uri": "https://localhost:8080/"
        },
        "id": "FYyypTu_rTOA",
        "outputId": "0dd60d1b-d048-4167-c61d-a7ceccbb111c"
      },
      "execution_count": null,
      "outputs": [
        {
          "output_type": "stream",
          "name": "stdout",
          "text": [
            "cute\n",
            "True\n"
          ]
        }
      ]
    },
    {
      "cell_type": "code",
      "source": [
        "\n",
        "d['fish'] = 'wet'    # Set an entry in a dictionary\n",
        "print (d['fish'])      # Prints \"wet\"\n",
        "     "
      ],
      "metadata": {
        "colab": {
          "base_uri": "https://localhost:8080/"
        },
        "id": "uBGrefb2rqJ9",
        "outputId": "5927ded4-8c7d-40a8-c842-e1e56a8d1dc5"
      },
      "execution_count": null,
      "outputs": [
        {
          "output_type": "stream",
          "name": "stdout",
          "text": [
            "wet\n"
          ]
        }
      ]
    },
    {
      "cell_type": "code",
      "source": [
        "print (d['monkey'])  # KeyError: 'monkey' not a key of d"
      ],
      "metadata": {
        "colab": {
          "base_uri": "https://localhost:8080/",
          "height": 169
        },
        "id": "IE2DD_fdrunA",
        "outputId": "02a35ca0-282f-47c7-8e14-cc35ef305b1c"
      },
      "execution_count": null,
      "outputs": [
        {
          "output_type": "error",
          "ename": "KeyError",
          "evalue": "ignored",
          "traceback": [
            "\u001b[0;31m---------------------------------------------------------------------------\u001b[0m",
            "\u001b[0;31mKeyError\u001b[0m                                  Traceback (most recent call last)",
            "\u001b[0;32m<ipython-input-59-2de793f9c766>\u001b[0m in \u001b[0;36m<module>\u001b[0;34m\u001b[0m\n\u001b[0;32m----> 1\u001b[0;31m \u001b[0mprint\u001b[0m \u001b[0;34m(\u001b[0m\u001b[0md\u001b[0m\u001b[0;34m[\u001b[0m\u001b[0;34m'monkey'\u001b[0m\u001b[0;34m]\u001b[0m\u001b[0;34m)\u001b[0m  \u001b[0;31m# KeyError: 'monkey' not a key of d\u001b[0m\u001b[0;34m\u001b[0m\u001b[0;34m\u001b[0m\u001b[0m\n\u001b[0m",
            "\u001b[0;31mKeyError\u001b[0m: 'monkey'"
          ]
        }
      ]
    },
    {
      "cell_type": "code",
      "source": [
        "\n",
        "print (d.get('monkey', '없다')) # Get an element with a default; prints \"없다\", monkey의 값을 찾고, monkey가 없다면 '없다'라고 말하라.\n",
        "print (d.get('fish', '없다'))   # Get an element with a default; prints \"wet\""
      ],
      "metadata": {
        "colab": {
          "base_uri": "https://localhost:8080/"
        },
        "id": "cg09_-ajr1ue",
        "outputId": "8b9af101-0fb2-4514-e7fe-1b08d37a0542"
      },
      "execution_count": null,
      "outputs": [
        {
          "output_type": "stream",
          "name": "stdout",
          "text": [
            "없다\n",
            "wet\n"
          ]
        }
      ]
    },
    {
      "cell_type": "code",
      "source": [
        "del d['fish']        # Remove an element from a dictionary\n",
        "print (d)\n",
        "print (d.get('fish', '없다')) # \"fish\" is no longer a key; prints \"N/A\""
      ],
      "metadata": {
        "colab": {
          "base_uri": "https://localhost:8080/"
        },
        "id": "-Rtkn-Zzshyt",
        "outputId": "6cebe39d-a5b2-4062-927a-6140fc334feb"
      },
      "execution_count": null,
      "outputs": [
        {
          "output_type": "stream",
          "name": "stdout",
          "text": [
            "{'cat': 'cute', 'dog': 'furry'}\n",
            "없다\n"
          ]
        }
      ]
    },
    {
      "cell_type": "code",
      "source": [
        "d = {'person': 2, 'cat': 4, 'spider': 8}\n",
        "for animal in d:\n",
        "    legs = d[animal]\n",
        "    print ('A %s has %d legs' % (animal, legs))"
      ],
      "metadata": {
        "colab": {
          "base_uri": "https://localhost:8080/"
        },
        "id": "tHIE_R52t0Ec",
        "outputId": "41e5791f-e502-4679-a0b0-9e7285140382"
      },
      "execution_count": null,
      "outputs": [
        {
          "output_type": "stream",
          "name": "stdout",
          "text": [
            "A person has 2 legs\n",
            "A cat has 4 legs\n",
            "A spider has 8 legs\n"
          ]
        }
      ]
    },
    {
      "cell_type": "markdown",
      "source": [
        "If you want access to keys and their corresponding values, use the iteritems method:"
      ],
      "metadata": {
        "id": "_uGcYCy7ucXK"
      }
    },
    {
      "cell_type": "code",
      "source": [
        "d = {'person': 2, 'cat': 4, 'spider': 8}\n",
        "for animal in d.items(): \n",
        "    print ('A %s has  %d legs ' % animal)"
      ],
      "metadata": {
        "colab": {
          "base_uri": "https://localhost:8080/"
        },
        "id": "D1v8bHnSudVP",
        "outputId": "57a43aba-ddd5-4258-81ab-ff5a5449e205"
      },
      "execution_count": null,
      "outputs": [
        {
          "output_type": "stream",
          "name": "stdout",
          "text": [
            "A person has  2 legs \n",
            "A cat has  4 legs \n",
            "A spider has  8 legs \n"
          ]
        }
      ]
    },
    {
      "cell_type": "markdown",
      "source": [
        "Dictionary comprehensions: These are similar to list comprehensions, but allow you to easily construct dictionaries. For example:"
      ],
      "metadata": {
        "id": "h2t95TNhwyib"
      }
    },
    {
      "cell_type": "code",
      "source": [
        "nums = [0, 1, 2, 3, 4]\n",
        "even_num_to_square = {x: x ** 2 for x in nums if x % 2 == 0}\n",
        "print (even_num_to_square)"
      ],
      "metadata": {
        "colab": {
          "base_uri": "https://localhost:8080/"
        },
        "id": "jnFUlUUDwlAZ",
        "outputId": "85b54294-32c7-42e1-98d8-df7b03a5552f"
      },
      "execution_count": null,
      "outputs": [
        {
          "output_type": "stream",
          "name": "stdout",
          "text": [
            "{0: 0, 2: 4, 4: 16}\n"
          ]
        }
      ]
    },
    {
      "cell_type": "markdown",
      "source": [
        "# Sets\n",
        "\n",
        "A set is an unordered collection of distinct elements. As a simple example, consider the following:"
      ],
      "metadata": {
        "id": "4s14a9_qxA2F"
      }
    },
    {
      "cell_type": "code",
      "source": [
        "\n",
        "animals = {'cat', 'dog'}\n",
        "print ('cat' in animals)   # Check if an element is in a set; prints \"True\"\n",
        "print ('fish' in animals)  # prints \"False\""
      ],
      "metadata": {
        "colab": {
          "base_uri": "https://localhost:8080/"
        },
        "id": "4M6cKCCtw9H_",
        "outputId": "c781a2b6-d60e-4ade-ee68-dc9b0600d240"
      },
      "execution_count": null,
      "outputs": [
        {
          "output_type": "stream",
          "name": "stdout",
          "text": [
            "True\n",
            "False\n"
          ]
        }
      ]
    },
    {
      "cell_type": "code",
      "source": [
        "animals.add('fish')      # Add an element to a set\n",
        "print ('fish' in animals)\n",
        "print (len(animals) )      # Number of elements in a set;"
      ],
      "metadata": {
        "colab": {
          "base_uri": "https://localhost:8080/"
        },
        "id": "eAjDYjBsxLtC",
        "outputId": "92fd2c7b-30e3-4744-ea1d-31f3dfb0a858"
      },
      "execution_count": null,
      "outputs": [
        {
          "output_type": "stream",
          "name": "stdout",
          "text": [
            "True\n",
            "3\n"
          ]
        }
      ]
    },
    {
      "cell_type": "code",
      "source": [
        "animals.add('cat')       # Adding an element that is already in the set does nothing\n",
        "print (len(animals) )      \n",
        "animals.remove('cat')    # Remove an element from a set\n",
        "print (len(animals) )"
      ],
      "metadata": {
        "colab": {
          "base_uri": "https://localhost:8080/"
        },
        "id": "N7HSfTstxS3C",
        "outputId": "297d6a8f-5c1d-427b-8383-3ec3e46d6206"
      },
      "execution_count": null,
      "outputs": [
        {
          "output_type": "stream",
          "name": "stdout",
          "text": [
            "3\n",
            "2\n"
          ]
        }
      ]
    },
    {
      "cell_type": "code",
      "source": [
        "\n",
        "animals = {'cat', 'dog', 'fish'}\n",
        "for idx, animal in enumerate(animals):\n",
        "    print ('#%d: %s' % (idx + 1, animal))\n",
        "# Prints \"#1: fish\", \"#2: dog\", \"#3: cat\""
      ],
      "metadata": {
        "colab": {
          "base_uri": "https://localhost:8080/"
        },
        "id": "wIdPQ8QuxbsE",
        "outputId": "602d3bb7-ae8b-45c2-de42-2fec9cd130c8"
      },
      "execution_count": null,
      "outputs": [
        {
          "output_type": "stream",
          "name": "stdout",
          "text": [
            "#1: fish\n",
            "#2: dog\n",
            "#3: cat\n"
          ]
        }
      ]
    },
    {
      "cell_type": "code",
      "source": [
        "from math import sqrt\n",
        "\n",
        "print ({int(sqrt(x)) for x in range(30)})"
      ],
      "metadata": {
        "colab": {
          "base_uri": "https://localhost:8080/"
        },
        "id": "DAmXGWLMxlkY",
        "outputId": "c84fb45a-8099-4358-bbed-5268b9233228"
      },
      "execution_count": null,
      "outputs": [
        {
          "output_type": "stream",
          "name": "stdout",
          "text": [
            "{0, 1, 2, 3, 4, 5}\n"
          ]
        }
      ]
    },
    {
      "cell_type": "markdown",
      "source": [
        "# Tuples\n",
        "\n",
        "A tuple is an (immutable) ordered list of values. A tuple is in many ways similar to a list; one of the most important differences is that tuples can be used as keys in dictionaries and as elements of sets, while lists cannot. Here is a trivial example:"
      ],
      "metadata": {
        "id": "c5RLNVedx1qO"
      }
    },
    {
      "cell_type": "code",
      "source": [
        "\n",
        "d = {(x, x + 1): x for x in range(10)}  # Create a dictionary with tuple keys\n",
        "t = (5, 6)       # Create a tuple\n",
        "print (type(t))\n",
        "print (d[t])       \n",
        "print (d[(1, 2)])"
      ],
      "metadata": {
        "colab": {
          "base_uri": "https://localhost:8080/"
        },
        "id": "0UOpoFQxxuyC",
        "outputId": "27eb4ed9-712f-4fc4-c4a4-e74ce5eb0103"
      },
      "execution_count": null,
      "outputs": [
        {
          "output_type": "stream",
          "name": "stdout",
          "text": [
            "<class 'tuple'>\n",
            "5\n",
            "1\n"
          ]
        }
      ]
    },
    {
      "cell_type": "code",
      "source": [
        "\n",
        "t[0] = 1"
      ],
      "metadata": {
        "colab": {
          "base_uri": "https://localhost:8080/",
          "height": 169
        },
        "id": "VoyU1zqiyPa-",
        "outputId": "6a066c73-faa5-4e12-8874-afe0c47f4c7b"
      },
      "execution_count": null,
      "outputs": [
        {
          "output_type": "error",
          "ename": "TypeError",
          "evalue": "ignored",
          "traceback": [
            "\u001b[0;31m---------------------------------------------------------------------------\u001b[0m",
            "\u001b[0;31mTypeError\u001b[0m                                 Traceback (most recent call last)",
            "\u001b[0;32m<ipython-input-83-c8aeb8cd20ae>\u001b[0m in \u001b[0;36m<module>\u001b[0;34m\u001b[0m\n\u001b[0;32m----> 1\u001b[0;31m \u001b[0mt\u001b[0m\u001b[0;34m[\u001b[0m\u001b[0;36m0\u001b[0m\u001b[0;34m]\u001b[0m \u001b[0;34m=\u001b[0m \u001b[0;36m1\u001b[0m\u001b[0;34m\u001b[0m\u001b[0;34m\u001b[0m\u001b[0m\n\u001b[0m",
            "\u001b[0;31mTypeError\u001b[0m: 'tuple' object does not support item assignment"
          ]
        }
      ]
    },
    {
      "cell_type": "code",
      "source": [
        "aaa=tuple()\n",
        "aaa=1,2,3,4\n",
        "print(aaa)\n",
        "aaa=5,6,7,8\n",
        "print(aaa)\n",
        "bbb=()\n",
        "print(bbb)\n",
        "aaa[2]=100"
      ],
      "metadata": {
        "colab": {
          "base_uri": "https://localhost:8080/",
          "height": 258
        },
        "id": "4YgWOhSbkYra",
        "outputId": "79b6d6ac-b691-4157-ef96-c44678e3eca8"
      },
      "execution_count": null,
      "outputs": [
        {
          "output_type": "stream",
          "name": "stdout",
          "text": [
            "(1, 2, 3, 4)\n",
            "(5, 6, 7, 8)\n",
            "()\n"
          ]
        },
        {
          "output_type": "error",
          "ename": "TypeError",
          "evalue": "ignored",
          "traceback": [
            "\u001b[0;31m---------------------------------------------------------------------------\u001b[0m",
            "\u001b[0;31mTypeError\u001b[0m                                 Traceback (most recent call last)",
            "\u001b[0;32m<ipython-input-23-e9eedd51e8f6>\u001b[0m in \u001b[0;36m<module>\u001b[0;34m\u001b[0m\n\u001b[1;32m      6\u001b[0m \u001b[0mbbb\u001b[0m\u001b[0;34m=\u001b[0m\u001b[0;34m(\u001b[0m\u001b[0;34m)\u001b[0m\u001b[0;34m\u001b[0m\u001b[0;34m\u001b[0m\u001b[0m\n\u001b[1;32m      7\u001b[0m \u001b[0mprint\u001b[0m\u001b[0;34m(\u001b[0m\u001b[0mbbb\u001b[0m\u001b[0;34m)\u001b[0m\u001b[0;34m\u001b[0m\u001b[0;34m\u001b[0m\u001b[0m\n\u001b[0;32m----> 8\u001b[0;31m \u001b[0maaa\u001b[0m\u001b[0;34m[\u001b[0m\u001b[0;36m2\u001b[0m\u001b[0;34m]\u001b[0m\u001b[0;34m=\u001b[0m\u001b[0;36m100\u001b[0m\u001b[0;34m\u001b[0m\u001b[0;34m\u001b[0m\u001b[0m\n\u001b[0m",
            "\u001b[0;31mTypeError\u001b[0m: 'tuple' object does not support item assignment"
          ]
        }
      ]
    },
    {
      "cell_type": "code",
      "source": [
        "### unpacking\n",
        "\n",
        "aaa = '바', '다', '에', '왕', '자'\n",
        "q,w,r,t,y=aaa\n",
        "print(w)\n",
        "\n",
        "## 리스트도 가능\n",
        "\n",
        "bbb=[1,2,3,4]\n",
        "x,y,z,w = bbb \n",
        "print(x)\n",
        "\n",
        "## x,y,z,w,l = bbb "
      ],
      "metadata": {
        "colab": {
          "base_uri": "https://localhost:8080/"
        },
        "id": "GjhyK-ZgkuBt",
        "outputId": "1e461672-d083-49ec-cba6-889131cee2b9"
      },
      "execution_count": null,
      "outputs": [
        {
          "output_type": "stream",
          "name": "stdout",
          "text": [
            "다\n",
            "1\n"
          ]
        }
      ]
    },
    {
      "cell_type": "code",
      "source": [
        "\n",
        "# tuple => dictionary\n",
        "\n",
        "exmpl = [('a', '벰'), ('b', '베라'), ('c', '베로')]\n",
        "\n",
        "print(exmpl)\n",
        "\n",
        "dic_exmpl = dict(exmpl)\n",
        "\n",
        "print(dic_exmpl)\n",
        "\n",
        "print(type(dic_exmpl))\n",
        "\n",
        "print(dic_exmpl['b'])"
      ],
      "metadata": {
        "colab": {
          "base_uri": "https://localhost:8080/"
        },
        "id": "uusrLb2BmivS",
        "outputId": "66f1cc3c-462b-4937-c8e7-d677090aab7b"
      },
      "execution_count": null,
      "outputs": [
        {
          "output_type": "stream",
          "name": "stdout",
          "text": [
            "[('a', '벰'), ('b', '베라'), ('c', '베로')]\n",
            "{'a': '벰', 'b': '베라', 'c': '베로'}\n",
            "<class 'dict'>\n",
            "베라\n"
          ]
        }
      ]
    },
    {
      "cell_type": "code",
      "source": [
        "## enumerate() : 일회용\n",
        "\n",
        "AAA = ['AAA는', '자동차', '협회']\n",
        "\n",
        "BBB = enumerate(AAA)\n",
        "\n",
        "print(BBB)\n",
        "\n",
        "for i in BBB:\n",
        "   print(i)\n",
        "\n",
        "for j, k in BBB:\n",
        "    print(\"이건 작동안해요\",j, k)"
      ],
      "metadata": {
        "colab": {
          "base_uri": "https://localhost:8080/"
        },
        "id": "3k8GNFQBm7-X",
        "outputId": "91c3ea4e-7554-45ba-c499-0b45070a0950"
      },
      "execution_count": null,
      "outputs": [
        {
          "output_type": "stream",
          "name": "stdout",
          "text": [
            "<enumerate object at 0x7fa28acb6980>\n",
            "(0, 'AAA는')\n",
            "(1, '자동차')\n",
            "(2, '협회')\n"
          ]
        }
      ]
    },
    {
      "cell_type": "code",
      "source": [
        "## enumerate()\n",
        "\n",
        "AAA = ['AAA는', '자동차', '협회']\n",
        "\n",
        "BBB = enumerate(AAA)\n",
        "\n",
        "print(BBB)\n",
        "\n",
        "for j, k in BBB:\n",
        "    print(\"이건 작동해요\",j, k)\n",
        "\n",
        "for i in BBB:\n",
        "   print(i)\n"
      ],
      "metadata": {
        "colab": {
          "base_uri": "https://localhost:8080/"
        },
        "id": "CFS-G0HvnQbK",
        "outputId": "b57ec7fb-1cac-4c91-f818-04fc56532bf9"
      },
      "execution_count": null,
      "outputs": [
        {
          "output_type": "stream",
          "name": "stdout",
          "text": [
            "<enumerate object at 0x7fa28ac3b500>\n",
            "이건 작동해요 0 AAA는\n",
            "이건 작동해요 1 자동차\n",
            "이건 작동해요 2 협회\n"
          ]
        }
      ]
    },
    {
      "cell_type": "markdown",
      "source": [
        "# **Functions**\n",
        "\n",
        "Python functions are defined using the def keyword. For example:"
      ],
      "metadata": {
        "id": "9lK9L1SmyV9e"
      }
    },
    {
      "cell_type": "code",
      "source": [
        "\n",
        "def baboya():\n",
        "  print(\"바보야\")\n",
        "\n",
        "baboya()"
      ],
      "metadata": {
        "colab": {
          "base_uri": "https://localhost:8080/"
        },
        "id": "P0_cghw5nonc",
        "outputId": "f9254626-1149-40d9-8fd7-54658f38dd7c"
      },
      "execution_count": null,
      "outputs": [
        {
          "output_type": "stream",
          "name": "stdout",
          "text": [
            "바보야\n"
          ]
        }
      ]
    },
    {
      "cell_type": "code",
      "source": [
        "# 기본적인 함수 반사\n",
        "\n",
        "def BanSa(word):\n",
        "  return word\n",
        "\n",
        "BanSa('펭수')"
      ],
      "metadata": {
        "colab": {
          "base_uri": "https://localhost:8080/",
          "height": 36
        },
        "id": "GBFDxbpkpNkR",
        "outputId": "e8f09533-a547-4fde-f66a-ab725d5223dd"
      },
      "execution_count": null,
      "outputs": [
        {
          "output_type": "execute_result",
          "data": {
            "text/plain": [
              "'펭수'"
            ],
            "application/vnd.google.colaboratory.intrinsic+json": {
              "type": "string"
            }
          },
          "metadata": {},
          "execution_count": 33
        }
      ]
    },
    {
      "cell_type": "code",
      "source": [
        "\n",
        "# 학생들이 좋아하는 range() 함수와 인수\n",
        "\n",
        "\n",
        "A1= list (range(10)) # 인수 한 개\n",
        "\n",
        "A2= list (range(2,10)) # 인수 한 개\n",
        "\n",
        "A3= list (range(2,10,3)) # 인수 한 개\n",
        "\n",
        "\n",
        "print('A1=',A1)\n",
        "\n",
        "print('A2=',A2)\n",
        "\n",
        "print('A3=',A3)"
      ],
      "metadata": {
        "colab": {
          "base_uri": "https://localhost:8080/"
        },
        "id": "5nJvoM20pBLl",
        "outputId": "5b6a0f79-56f5-414a-9156-76bc2aa83bdd"
      },
      "execution_count": null,
      "outputs": [
        {
          "output_type": "stream",
          "name": "stdout",
          "text": [
            "A1= [0, 1, 2, 3, 4, 5, 6, 7, 8, 9]\n",
            "A2= [2, 3, 4, 5, 6, 7, 8, 9]\n",
            "A3= [2, 5, 8]\n"
          ]
        }
      ]
    },
    {
      "cell_type": "code",
      "source": [
        "def sign(x):\n",
        "    if x > 0:\n",
        "        return 'positive'\n",
        "    elif x < 0:\n",
        "        return 'negative'\n",
        "    else:\n",
        "        return 'zero'\n",
        "\n",
        "for x in [-1, 0, 1]:\n",
        "    print (sign(x))"
      ],
      "metadata": {
        "colab": {
          "base_uri": "https://localhost:8080/"
        },
        "id": "0uYHIKRWyS_J",
        "outputId": "53c5b48b-496b-4a9e-e307-25df0713581f"
      },
      "execution_count": null,
      "outputs": [
        {
          "output_type": "stream",
          "name": "stdout",
          "text": [
            "negative\n",
            "zero\n",
            "positive\n"
          ]
        }
      ]
    },
    {
      "cell_type": "code",
      "source": [
        "# 기본적인 함수 반사을 위한 기본(default) 값\n",
        "\n",
        "def BanSa2(word='침묵'):\n",
        "  return word\n",
        "\n",
        "print(BanSa2('펭수'))\n",
        "print(BanSa2())"
      ],
      "metadata": {
        "colab": {
          "base_uri": "https://localhost:8080/"
        },
        "id": "7gDeYNtepZK5",
        "outputId": "7bdad59b-da78-4263-bd5b-5a338a1fccc5"
      },
      "execution_count": null,
      "outputs": [
        {
          "output_type": "stream",
          "name": "stdout",
          "text": [
            "펭수\n",
            "침묵\n"
          ]
        }
      ]
    },
    {
      "cell_type": "code",
      "source": [
        "def hello(name, loud=False):\n",
        "    if loud:\n",
        "        print ('HELLO, %s' % name.upper())\n",
        "    else:\n",
        "        print ('Hello, %s!' % name)\n",
        "\n",
        "hello('Bob')\n",
        "hello('Fred', loud=True)"
      ],
      "metadata": {
        "colab": {
          "base_uri": "https://localhost:8080/"
        },
        "id": "8l3VuV-XzzQm",
        "outputId": "39924137-65e3-4eea-91b2-1a65d6d81380"
      },
      "execution_count": null,
      "outputs": [
        {
          "output_type": "stream",
          "name": "stdout",
          "text": [
            "Hello, Bob!\n",
            "HELLO, FRED\n"
          ]
        }
      ]
    },
    {
      "cell_type": "code",
      "source": [
        "## 전역변수\n",
        "\n",
        "def in_out():\n",
        "##  global word\n",
        "  word=\"A\"\n",
        "  print(word)\n",
        "\n",
        "word=\"B\"\n",
        "\n",
        "in_out()\n",
        "\n",
        "print(word)\n",
        "     "
      ],
      "metadata": {
        "colab": {
          "base_uri": "https://localhost:8080/"
        },
        "id": "F1AUWeohn2kz",
        "outputId": "8d9231e3-8405-4b20-9e01-ec1f19a2e34e"
      },
      "execution_count": null,
      "outputs": [
        {
          "output_type": "stream",
          "name": "stdout",
          "text": [
            "A\n",
            "B\n"
          ]
        }
      ]
    },
    {
      "cell_type": "code",
      "source": [
        "## 전역변수 2\n",
        "\n",
        "def in_out():\n",
        "  global word\n",
        "  word=\"A\"\n",
        "  print(word)\n",
        "\n",
        "word=\"B\"\n",
        "\n",
        "in_out()\n",
        "\n",
        "print(word)\n",
        "     "
      ],
      "metadata": {
        "colab": {
          "base_uri": "https://localhost:8080/"
        },
        "id": "xybew1qqoAS3",
        "outputId": "14c1241b-84d2-41e6-dd0f-a78df414be9c"
      },
      "execution_count": null,
      "outputs": [
        {
          "output_type": "stream",
          "name": "stdout",
          "text": [
            "A\n",
            "A\n"
          ]
        }
      ]
    },
    {
      "cell_type": "code",
      "source": [
        "\n",
        "# 위치인수 positional arguments와 가변인수 variable length arguments\n",
        "\n",
        "def print_movies(*movies):\n",
        "  for title in movies:\n",
        "    print(title)\n",
        "\n",
        "print_movies('당산대형','정무문','맹룡과강','용쟁호투','사망유희')"
      ],
      "metadata": {
        "colab": {
          "base_uri": "https://localhost:8080/"
        },
        "id": "6DTn_-6BpnUY",
        "outputId": "d355fc0f-e8b1-4329-93df-c8ec60d9c678"
      },
      "execution_count": null,
      "outputs": [
        {
          "output_type": "stream",
          "name": "stdout",
          "text": [
            "당산대형\n",
            "정무문\n",
            "맹룡과강\n",
            "용쟁호투\n",
            "사망유희\n"
          ]
        }
      ]
    },
    {
      "cell_type": "code",
      "source": [
        "### 새로운 함수다.\n",
        "\n",
        "def separation(*words, sep='*'):\n",
        "  return sep.join(words)\n",
        "\n",
        "separation('ahrada','dsgf','ujyhgtds')"
      ],
      "metadata": {
        "colab": {
          "base_uri": "https://localhost:8080/",
          "height": 36
        },
        "id": "i87YiNCPppc6",
        "outputId": "9c950eec-d702-4e65-e008-82d6d0748bf8"
      },
      "execution_count": null,
      "outputs": [
        {
          "output_type": "execute_result",
          "data": {
            "text/plain": [
              "'ahrada*dsgf*ujyhgtds'"
            ],
            "application/vnd.google.colaboratory.intrinsic+json": {
              "type": "string"
            }
          },
          "metadata": {},
          "execution_count": 36
        }
      ]
    },
    {
      "cell_type": "code",
      "source": [
        "separation('ahrada','dsgf','ujyhgtds',sep='%%%%%%%')"
      ],
      "metadata": {
        "colab": {
          "base_uri": "https://localhost:8080/",
          "height": 36
        },
        "id": "lu7j3G6xp_W9",
        "outputId": "41c68f9f-5c1e-48cd-f518-9cc1541ceb37"
      },
      "execution_count": null,
      "outputs": [
        {
          "output_type": "execute_result",
          "data": {
            "text/plain": [
              "'ahrada%%%%%%%dsgf%%%%%%%ujyhgtds'"
            ],
            "application/vnd.google.colaboratory.intrinsic+json": {
              "type": "string"
            }
          },
          "metadata": {},
          "execution_count": 37
        }
      ]
    },
    {
      "cell_type": "code",
      "source": [
        "separation(sep='%%%%%%%','ahrada','dsgf','ujyhgtds') ### 순서가 바뀌니 안된다."
      ],
      "metadata": {
        "colab": {
          "base_uri": "https://localhost:8080/",
          "height": 133
        },
        "id": "2UGJjhAtqCM-",
        "outputId": "abc0ecf8-778b-4d00-9b20-a4384dcc90db"
      },
      "execution_count": null,
      "outputs": [
        {
          "output_type": "error",
          "ename": "SyntaxError",
          "evalue": "ignored",
          "traceback": [
            "\u001b[0;36m  File \u001b[0;32m\"<ipython-input-38-231ef1b00c61>\"\u001b[0;36m, line \u001b[0;32m1\u001b[0m\n\u001b[0;31m    separation(sep='%%%%%%%','ahrada','dsgf','ujyhgtds') ### 순서가 바뀌니 안된다.\u001b[0m\n\u001b[0m                             ^\u001b[0m\n\u001b[0;31mSyntaxError\u001b[0m\u001b[0;31m:\u001b[0m positional argument follows keyword argument\n"
          ]
        }
      ]
    },
    {
      "cell_type": "code",
      "source": [
        "### 언패킹을 통해 튜플 대입하기\n",
        "\n",
        "numbers = 3, 15\n",
        "\n",
        "list(range(*numbers)) ## '*'를 사용하여 unpacking하여 넣었다."
      ],
      "metadata": {
        "colab": {
          "base_uri": "https://localhost:8080/"
        },
        "id": "VJpCHDZgqVdx",
        "outputId": "73cd725d-cc5f-4080-fc11-d7884d0a71cc"
      },
      "execution_count": null,
      "outputs": [
        {
          "output_type": "execute_result",
          "data": {
            "text/plain": [
              "[3, 4, 5, 6, 7, 8, 9, 10, 11, 12, 13, 14]"
            ]
          },
          "metadata": {},
          "execution_count": 39
        }
      ]
    },
    {
      "cell_type": "code",
      "source": [
        "def personal_info(name='홍길동',age=30,ctzshp='한국'):\n",
        "  print('이름:',name, '나이:', age,'국적:',ctzshp)\n",
        "\n",
        "## dictionary도 넣어 보기\n",
        "\n",
        "info={'name':'거북이와두루미','age':'100','ctzshp':'대자연' }\n",
        "\n",
        "personal_info(**info)"
      ],
      "metadata": {
        "colab": {
          "base_uri": "https://localhost:8080/"
        },
        "id": "yeeHHFG3q4jB",
        "outputId": "cd0fc286-a8a8-4e43-d838-71f888d99d6b"
      },
      "execution_count": null,
      "outputs": [
        {
          "output_type": "stream",
          "name": "stdout",
          "text": [
            "이름: 거북이와두루미 나이: 100 국적: 대자연\n"
          ]
        }
      ]
    },
    {
      "cell_type": "markdown",
      "source": [
        "# **Classes**\n",
        "\n",
        "The syntax for defining classes in Python is straightforward:"
      ],
      "metadata": {
        "id": "pFH6g2PS0ZPa"
      }
    },
    {
      "cell_type": "code",
      "source": [
        "\n",
        "## 이제 클래스 Class\n",
        "\n",
        "txt='클래스 사용하기'\n",
        "\n",
        "print(type(txt))\n",
        "\n",
        "print(id(txt))\n",
        "\n",
        "txt2='또 다른 객체'\n",
        "\n",
        "print(type(txt2))\n",
        "\n",
        "print(id(txt2))\n",
        "\n",
        "print(txt.__class__)    ##___class___ class 내 지역변수, 속성(Attribute: 클래스 내부에 포함돼 있는 메서드 나 변수)  \n",
        "\n",
        "txt.replace('클래스','객체') ## method\n"
      ],
      "metadata": {
        "colab": {
          "base_uri": "https://localhost:8080/",
          "height": 125
        },
        "id": "cTNSvcCorIp1",
        "outputId": "edad8b9b-a073-4b27-df1b-ee6bd9a30bce"
      },
      "execution_count": null,
      "outputs": [
        {
          "output_type": "stream",
          "name": "stdout",
          "text": [
            "<class 'str'>\n",
            "140336089031280\n",
            "<class 'str'>\n",
            "140336089465776\n",
            "<class 'str'>\n"
          ]
        },
        {
          "output_type": "execute_result",
          "data": {
            "text/plain": [
              "'객체 사용하기'"
            ],
            "application/vnd.google.colaboratory.intrinsic+json": {
              "type": "string"
            }
          },
          "metadata": {},
          "execution_count": 41
        }
      ]
    },
    {
      "cell_type": "code",
      "source": [
        "### 속성: name, 메소드: study_math()\n",
        "### self 사용하기\n",
        "\n",
        "class math_student:\n",
        "    name = str()\n",
        "    def study_math():                   ## self\n",
        "        print(name + \"studies math.\")   ## self.name\n",
        "\n",
        "student = math_student()\n",
        "print(type(student))\n",
        "\n",
        "student.name='홍길동'\n",
        "print(student.name)\n",
        "## student.study_math()      ### 파이썬 메서드의 첫 번째 인자로 항상 인스턴스가 전달"
      ],
      "metadata": {
        "colab": {
          "base_uri": "https://localhost:8080/"
        },
        "id": "NIjtyQ0NrZoW",
        "outputId": "74ad3551-268a-4206-99f6-86d770989c7f"
      },
      "execution_count": null,
      "outputs": [
        {
          "output_type": "stream",
          "name": "stdout",
          "text": [
            "<class '__main__.math_student'>\n",
            "홍길동\n"
          ]
        }
      ]
    },
    {
      "cell_type": "code",
      "source": [
        "##  __init__() 사용\n",
        "\n",
        "\n",
        "class math_student2:\n",
        "    def __init__(self, name): #생성자(Constructor): 객체가 생성될 때 '자동으로 호출'되는 메서드\n",
        "      self.name = name\n",
        "\n",
        "    def study_math2(self):                \n",
        "       print(self.name + \" studies math.\")  \n",
        "\n",
        "student = math_student2('전우치')\n",
        "\n",
        "\n",
        "student.study_math2()\n",
        "\n",
        "print(student.name)"
      ],
      "metadata": {
        "colab": {
          "base_uri": "https://localhost:8080/"
        },
        "id": "KvO0ABypre2i",
        "outputId": "8c4fc020-635d-4498-86f6-1a21baad6b37"
      },
      "execution_count": null,
      "outputs": [
        {
          "output_type": "stream",
          "name": "stdout",
          "text": [
            "전우치 studies math.\n",
            "전우치\n"
          ]
        }
      ]
    },
    {
      "cell_type": "code",
      "source": [
        "\n",
        "## 클래스 변수(class variable)와 인스턴스 변수(instance variable)\n",
        "\n",
        "class math_student3:\n",
        "   where = \"교실에서\"          ### 모든 객체에 같은 값을 가지는 클래스 변수\n",
        "\n",
        "   def __init__(self, name):\n",
        "       self.name1 = name      ### 인스턴트 변수, 객체간에 값을 공유하지 않는다.\n",
        "\n",
        "   def study_math3(self):                \n",
        "       print(self.name1 + \"studies math.\") \n",
        "\n",
        "student1= math_student3(\"주윤발\")\n",
        "\n",
        "student2= math_student3(\"장국영\")\n",
        "\n",
        "print(student1.where)\n",
        "\n",
        "print(student2.where)\n",
        "\n",
        "student1.study_math3()\n",
        "\n",
        "student2.study_math3()\n"
      ],
      "metadata": {
        "colab": {
          "base_uri": "https://localhost:8080/"
        },
        "id": "W9xcQPMIrrtc",
        "outputId": "8fa1b956-35c3-42db-f136-8d3677d0bc1f"
      },
      "execution_count": null,
      "outputs": [
        {
          "output_type": "stream",
          "name": "stdout",
          "text": [
            "교실에서\n",
            "교실에서\n",
            "주윤발studies math.\n",
            "장국영studies math.\n"
          ]
        }
      ]
    },
    {
      "cell_type": "code",
      "source": [
        "class kim_su_han_moo:\n",
        "    long_name = list()   ## 여기\n",
        "\n",
        "    def __init__(self,name):\n",
        "        self.name = name\n",
        "\n",
        "    def added_name(self,new_name):\n",
        "        self.long_name.append(new_name)\n",
        "\n",
        "kim = kim_su_han_moo('김수한무')\n",
        "\n",
        "geobooki= kim_su_han_moo('거북이와 두루미')\n",
        "\n",
        "kim.added_name('삼천갑자')\n",
        "geobooki.added_name('동방삭')\n",
        "\n",
        "\n",
        "print(kim.long_name)\n",
        "print(geobooki.long_name)"
      ],
      "metadata": {
        "colab": {
          "base_uri": "https://localhost:8080/"
        },
        "id": "Xtrf68zSr3S9",
        "outputId": "39859893-e9fc-48c3-bf04-27b5812bf52d"
      },
      "execution_count": null,
      "outputs": [
        {
          "output_type": "stream",
          "name": "stdout",
          "text": [
            "['삼천갑자', '동방삭']\n",
            "['삼천갑자', '동방삭']\n"
          ]
        }
      ]
    },
    {
      "cell_type": "code",
      "source": [
        "\n",
        "class kim_su_han_moo2:\n",
        "\n",
        "    def __init__(self,name):\n",
        "        self.name2 = name\n",
        "        self.long_name2 = list()   ## 여기\n",
        "    def added_name2(self,new_name):\n",
        "        self.long_name2.append(new_name)\n",
        "\n",
        "kim2 = kim_su_han_moo2('김수한무')\n",
        "\n",
        "geobooki2= kim_su_han_moo2('거북이와 두루미')\n",
        "\n",
        "kim2.added_name2('삼천갑자')\n",
        "geobooki2.added_name2('동방삭')\n",
        "\n",
        "\n",
        "print(kim2.long_name2)\n",
        "print(geobooki2.long_name2)\n"
      ],
      "metadata": {
        "colab": {
          "base_uri": "https://localhost:8080/"
        },
        "id": "ayyI0qzCvsqO",
        "outputId": "fcce961a-fc31-44c4-a0e6-db06f18cc546"
      },
      "execution_count": null,
      "outputs": [
        {
          "output_type": "stream",
          "name": "stdout",
          "text": [
            "['삼천갑자']\n",
            "['동방삭']\n"
          ]
        }
      ]
    },
    {
      "cell_type": "code",
      "source": [
        "class Greeter:\n",
        "\n",
        "    # Constructor\n",
        "    def __init__(self, name):\n",
        "        self.name = name  # Create an instance variable\n",
        "\n",
        "    # Instance method\n",
        "    def greet(self, loud=False):\n",
        "        if loud:\n",
        "            print ('HELLO, %s!' % self.name.upper())\n",
        "        else:\n",
        "            print ('Hello, %s' % self.name)\n",
        "\n",
        "g = Greeter('Fred')  # Construct an instance of the Greeter class\n",
        "g.greet()            # Call an instance method; prints \"Hello, Fred\"\n",
        "g.greet(loud=True)   # Call an instance method; prints \"HELLO, FRED!\"\n",
        "\n"
      ],
      "metadata": {
        "colab": {
          "base_uri": "https://localhost:8080/"
        },
        "id": "JVjWOVbR0VvR",
        "outputId": "12e46ea9-5545-44de-9e45-1d7842092b6a"
      },
      "execution_count": null,
      "outputs": [
        {
          "output_type": "stream",
          "name": "stdout",
          "text": [
            "Hello, Fred\n",
            "HELLO, FRED!\n"
          ]
        }
      ]
    },
    {
      "cell_type": "code",
      "source": [
        "## 모듈(module)이란 함수나 변수 또는 클래스를 모아 놓은 파일\n",
        "\n",
        "import random ## random 모듈\n",
        "\n",
        "random.randint(1,100)"
      ],
      "metadata": {
        "colab": {
          "base_uri": "https://localhost:8080/"
        },
        "id": "7JBZMb8dsUat",
        "outputId": "ba612d9f-41f7-4939-c4f3-9038e526046c"
      },
      "execution_count": null,
      "outputs": [
        {
          "output_type": "execute_result",
          "data": {
            "text/plain": [
              "68"
            ]
          },
          "metadata": {},
          "execution_count": 45
        }
      ]
    },
    {
      "cell_type": "code",
      "source": [
        "import numpy as np\n",
        "\n",
        "import matplotlib.pyplot as plt\n",
        "\n",
        "x = np.arange(0, 6, 0.1)\n",
        "print(x)\n",
        "y = np.sin(x)\n",
        "print(y)\n",
        "plt.plot(x,y,'or',label='red balls')\n",
        "plt.xlabel('x axis')\n",
        "plt.ylabel('y axis')\n",
        "plt.title('sample')\n",
        "plt.legend(loc='upper right')\n",
        "plt.show()"
      ],
      "metadata": {
        "colab": {
          "base_uri": "https://localhost:8080/",
          "height": 544
        },
        "id": "bn8qrU4_sZQs",
        "outputId": "87473c6b-a066-40de-90d8-f13f9439611c"
      },
      "execution_count": null,
      "outputs": [
        {
          "output_type": "stream",
          "name": "stdout",
          "text": [
            "[0.  0.1 0.2 0.3 0.4 0.5 0.6 0.7 0.8 0.9 1.  1.1 1.2 1.3 1.4 1.5 1.6 1.7\n",
            " 1.8 1.9 2.  2.1 2.2 2.3 2.4 2.5 2.6 2.7 2.8 2.9 3.  3.1 3.2 3.3 3.4 3.5\n",
            " 3.6 3.7 3.8 3.9 4.  4.1 4.2 4.3 4.4 4.5 4.6 4.7 4.8 4.9 5.  5.1 5.2 5.3\n",
            " 5.4 5.5 5.6 5.7 5.8 5.9]\n",
            "[ 0.          0.09983342  0.19866933  0.29552021  0.38941834  0.47942554\n",
            "  0.56464247  0.64421769  0.71735609  0.78332691  0.84147098  0.89120736\n",
            "  0.93203909  0.96355819  0.98544973  0.99749499  0.9995736   0.99166481\n",
            "  0.97384763  0.94630009  0.90929743  0.86320937  0.8084964   0.74570521\n",
            "  0.67546318  0.59847214  0.51550137  0.42737988  0.33498815  0.23924933\n",
            "  0.14112001  0.04158066 -0.05837414 -0.15774569 -0.2555411  -0.35078323\n",
            " -0.44252044 -0.52983614 -0.61185789 -0.68776616 -0.7568025  -0.81827711\n",
            " -0.87157577 -0.91616594 -0.95160207 -0.97753012 -0.993691   -0.99992326\n",
            " -0.99616461 -0.98245261 -0.95892427 -0.92581468 -0.88345466 -0.83226744\n",
            " -0.77276449 -0.70554033 -0.63126664 -0.55068554 -0.46460218 -0.37387666]\n"
          ]
        },
        {
          "output_type": "display_data",
          "data": {
            "text/plain": [
              "<Figure size 432x288 with 1 Axes>"
            ],
            "image/png": "[encoded data removed]"
          },
          "metadata": {
            "needs_background": "light"
          }
        }
      ]
    },
    {
      "cell_type": "markdown",
      "source": [
        "# **Numpy**\n",
        "\n",
        "Numpy is the core library for scientific computing in Python. It provides a high-performance multidimensional array object, and tools for working with these arrays. If you are already familiar with MATLAB, you might find this tutorial useful to get started with Numpy.\n",
        "\n",
        "To use Numpy, we first need to import the numpy package:"
      ],
      "metadata": {
        "id": "5eqmFvuh1rif"
      }
    },
    {
      "cell_type": "markdown",
      "source": [
        "\n",
        "# Arrays\n",
        "\n",
        "A numpy array is a grid of values, all of the same type, and is indexed by a tuple of nonnegative integers. The number of dimensions is the rank of the array; the shape of an array is a tuple of integers giving the size of the array along each dimension.\n",
        "\n",
        "We can initialize numpy arrays from nested Python lists, and access elements using square brackets:"
      ],
      "metadata": {
        "id": "aGGpDzsM10Pu"
      }
    },
    {
      "cell_type": "code",
      "source": [
        "import numpy as np\n",
        "\n",
        "\n",
        "a = np.array([1, 2, 3])  # Create a rank 1 array\n",
        "print (type(a), a.shape, a[0], a[1], a[2])\n",
        "a[0] = 5                 # Change an element of the array\n",
        "print (a)           "
      ],
      "metadata": {
        "colab": {
          "base_uri": "https://localhost:8080/"
        },
        "id": "wM4v5qQw15rb",
        "outputId": "8ab83a68-2100-4e3a-d613-5e9bf31a5d38"
      },
      "execution_count": null,
      "outputs": [
        {
          "output_type": "stream",
          "name": "stdout",
          "text": [
            "<class 'numpy.ndarray'> (3,) 1 2 3\n",
            "[5 2 3]\n"
          ]
        }
      ]
    },
    {
      "cell_type": "code",
      "source": [
        "b = np.array([[1,2,3],[4,5,6],[7,8,9]])   # Create a rank 3 array\n",
        "print (b)"
      ],
      "metadata": {
        "colab": {
          "base_uri": "https://localhost:8080/"
        },
        "id": "4q644onB2IQw",
        "outputId": "c302bb35-4cfb-42e8-9f72-84d0711d15f6"
      },
      "execution_count": null,
      "outputs": [
        {
          "output_type": "stream",
          "name": "stdout",
          "text": [
            "[[1 2 3]\n",
            " [4 5 6]\n",
            " [7 8 9]]\n"
          ]
        }
      ]
    },
    {
      "cell_type": "code",
      "source": [
        "\n",
        "print (b.shape)                   ## shape 중요함\n",
        "print (b[0, 0], b[0, 1], b[1, 2])\n",
        "     "
      ],
      "metadata": {
        "colab": {
          "base_uri": "https://localhost:8080/"
        },
        "id": "_U0Jqbcb2ORm",
        "outputId": "e9ed4b73-8758-4e98-aff8-27d147568c9d"
      },
      "execution_count": null,
      "outputs": [
        {
          "output_type": "stream",
          "name": "stdout",
          "text": [
            "(3, 3)\n",
            "1 2 6\n"
          ]
        }
      ]
    },
    {
      "cell_type": "code",
      "source": [
        "print(b[[1,2]])"
      ],
      "metadata": {
        "colab": {
          "base_uri": "https://localhost:8080/"
        },
        "id": "MNcXqYzSwSo3",
        "outputId": "797e39f4-63d6-4972-e1b8-27b4cee68cb0"
      },
      "execution_count": null,
      "outputs": [
        {
          "output_type": "stream",
          "name": "stdout",
          "text": [
            "[[4 5 6]\n",
            " [7 8 9]]\n"
          ]
        }
      ]
    },
    {
      "cell_type": "code",
      "source": [
        "print(b[[0,0,1],[0,1,2]]) ## 위에 위와 비교\n"
      ],
      "metadata": {
        "colab": {
          "base_uri": "https://localhost:8080/"
        },
        "id": "w3iVKSgQxge6",
        "outputId": "5ff625b2-4649-4644-c7a8-b09db47c964f"
      },
      "execution_count": null,
      "outputs": [
        {
          "output_type": "stream",
          "name": "stdout",
          "text": [
            "[1 2 6]\n"
          ]
        }
      ]
    },
    {
      "cell_type": "code",
      "source": [
        "\n",
        "a = np.zeros((2,2))  # Create an array of all zeros\n",
        "print (a)\n",
        "     "
      ],
      "metadata": {
        "colab": {
          "base_uri": "https://localhost:8080/"
        },
        "id": "YS5CLq_r2XFN",
        "outputId": "bf1a66ee-f3c1-431a-e2c0-45a25cb50716"
      },
      "execution_count": null,
      "outputs": [
        {
          "output_type": "stream",
          "name": "stdout",
          "text": [
            "[[0. 0.]\n",
            " [0. 0.]]\n"
          ]
        }
      ]
    },
    {
      "cell_type": "code",
      "source": [
        "\n",
        "b = np.ones((3,2))   # Create an array of all ones\n",
        "print (b)\n",
        "     "
      ],
      "metadata": {
        "colab": {
          "base_uri": "https://localhost:8080/"
        },
        "id": "HmkOQXOj2nO0",
        "outputId": "2cfd068c-64f3-4955-9096-8fb6bc97b745"
      },
      "execution_count": null,
      "outputs": [
        {
          "output_type": "stream",
          "name": "stdout",
          "text": [
            "[[1. 1.]\n",
            " [1. 1.]\n",
            " [1. 1.]]\n"
          ]
        }
      ]
    },
    {
      "cell_type": "code",
      "source": [
        "\n",
        "c = np.full((2,3), 7) # Create a constant array\n",
        "print (c) "
      ],
      "metadata": {
        "colab": {
          "base_uri": "https://localhost:8080/"
        },
        "id": "-fLlbJhw2rqs",
        "outputId": "91234ac7-b1e1-4477-f8df-5c1b2e4d7b51"
      },
      "execution_count": null,
      "outputs": [
        {
          "output_type": "stream",
          "name": "stdout",
          "text": [
            "[[7 7 7]\n",
            " [7 7 7]]\n"
          ]
        }
      ]
    },
    {
      "cell_type": "code",
      "source": [
        "\n",
        "d = np.eye(4)        # Create a 2x2 identity matrix\n",
        "print (d)\n",
        "     "
      ],
      "metadata": {
        "colab": {
          "base_uri": "https://localhost:8080/"
        },
        "id": "90w5BGUM2xlg",
        "outputId": "f1f358bb-0d26-4d6d-f04b-8066bfe7b8cb"
      },
      "execution_count": null,
      "outputs": [
        {
          "output_type": "stream",
          "name": "stdout",
          "text": [
            "[[1. 0. 0. 0.]\n",
            " [0. 1. 0. 0.]\n",
            " [0. 0. 1. 0.]\n",
            " [0. 0. 0. 1.]]\n"
          ]
        }
      ]
    },
    {
      "cell_type": "code",
      "source": [
        "\n",
        "e = np.random.random((3,4)) # Create an array filled with random values\n",
        "print (e)"
      ],
      "metadata": {
        "colab": {
          "base_uri": "https://localhost:8080/"
        },
        "id": "hdc50iOq26u8",
        "outputId": "43f1e387-7e87-41a6-9d9c-90b0303ff3e4"
      },
      "execution_count": null,
      "outputs": [
        {
          "output_type": "stream",
          "name": "stdout",
          "text": [
            "[[0.24143239 0.90558805 0.63756854 0.06354028]\n",
            " [0.65147214 0.03753288 0.9486089  0.16184418]\n",
            " [0.31146521 0.45019729 0.65964302 0.71615578]]\n"
          ]
        }
      ]
    },
    {
      "cell_type": "markdown",
      "source": [
        "# Array indexing\n",
        "\n",
        "Numpy offers several ways to index into arrays.\n",
        "\n",
        "**Slicing:** Similar to Python lists, numpy arrays can be sliced. Since arrays may be multidimensional, you must specify a slice for each dimension of the array:"
      ],
      "metadata": {
        "id": "08n7JE8D3DFW"
      }
    },
    {
      "cell_type": "code",
      "source": [
        "\n",
        "import numpy as np\n",
        "\n",
        "# Create the following rank 2 array with shape (3, 4)\n",
        "# [[ 1  2  3  4]\n",
        "#  [ 5  6  7  8]\n",
        "#  [ 9 10 11 12]]\n",
        "a = np.array([[1,2,3,4], [5,6,7,8], [9,10,11,12]])\n",
        "\n",
        "# Use slicing to pull out the subarray consisting of the first 2 rows\n",
        "# and columns 1 and 2; b is the following array of shape (2, 2):\n",
        "# [[2 3]\n",
        "#  [6 7]]\n",
        "\n",
        "print(a)\n",
        "\n",
        "b = a[:2, 1:3]\n",
        "print (b)"
      ],
      "metadata": {
        "colab": {
          "base_uri": "https://localhost:8080/"
        },
        "id": "R6EU9Uhr3Fwa",
        "outputId": "263afc7b-e0af-499d-9803-75b20bd7fdad"
      },
      "execution_count": null,
      "outputs": [
        {
          "output_type": "stream",
          "name": "stdout",
          "text": [
            "[[ 1  2  3  4]\n",
            " [ 5  6  7  8]\n",
            " [ 9 10 11 12]]\n",
            "[[2 3]\n",
            " [6 7]]\n"
          ]
        }
      ]
    },
    {
      "cell_type": "markdown",
      "source": [
        "A slice of an array is a view into the same data, so modifying it will modify the original array."
      ],
      "metadata": {
        "id": "0AGSk-jw4-nk"
      }
    },
    {
      "cell_type": "code",
      "source": [
        "\n",
        "print (a[0, 1])  \n",
        "b[0, 0] = 77    # b[0, 0] is the same piece of data as a[0, 1]\n",
        "print (a[0, 1])"
      ],
      "metadata": {
        "colab": {
          "base_uri": "https://localhost:8080/"
        },
        "id": "zoMVAcfm4vQE",
        "outputId": "c56939b1-242d-47a1-f8e3-dc1358100c9a"
      },
      "execution_count": null,
      "outputs": [
        {
          "output_type": "stream",
          "name": "stdout",
          "text": [
            "2\n",
            "77\n"
          ]
        }
      ]
    },
    {
      "cell_type": "code",
      "source": [
        "import numpy as np\n",
        "\n",
        "# Create the following rank 2 array with shape (3, 4)\n",
        "# [[ 1  2  3  4]\n",
        "#  [ 5  6  7  8]\n",
        "#  [ 9 10 11 12]]\n",
        "a = np.array([[1,2,3,4], [5,6,7,8], [9,10,11,12]])\n",
        "\n",
        "# Two ways of accessing the data in the middle row of the array.\n",
        "# Mixing integer indexing with slices yields an array of lower rank,\n",
        "# while using only slices yields an array of the same rank as the\n",
        "# original array:\n",
        "row_r1 = a[1, :]    # Rank 1 view of the second row of a\n",
        "row_r2 = a[1:2, :]  # Rank 2 view of the second row of a\n",
        "print(\"2번째행\",row_r1, row_r1.shape, sep ='\\n')  # Prints \"[5 6 7 8] (4,)\"\n",
        "print(\"2번째행\",row_r2, row_r2.shape, sep ='\\n') # Prints \"[[5 6 7 8]] (1, 4)\"\n",
        "\n",
        "\n",
        "# We can make the same distinction when accessing columns of an array:\n",
        "# 같은 열이지만 다른 표현 방식\n",
        "\n",
        "col_r1 = a[:, 1]\n",
        "col_r2 = a[:, 1:2]\n",
        "\n",
        "print(\"2번째 열(column) 표현 1\",col_r1, col_r1.shape, sep ='\\n')  # Prints \"[ 2  6 10] (3,)\"\n",
        "print(\"2번째 열(columns) 표현 2\",col_r2, col_r2.shape, sep ='\\n')  # Prints \"[[ 2]\n",
        "                             #          [ 6]\n",
        "                             #          [10]] (3, 1)\"\n"
      ],
      "metadata": {
        "colab": {
          "base_uri": "https://localhost:8080/"
        },
        "id": "MerUKFtX5AM1",
        "outputId": "96776178-8a74-46b8-a704-d972729d9cca"
      },
      "execution_count": null,
      "outputs": [
        {
          "output_type": "stream",
          "name": "stdout",
          "text": [
            "2번째행\n",
            "[5 6 7 8]\n",
            "(4,)\n",
            "2번째행\n",
            "[[5 6 7 8]]\n",
            "(1, 4)\n",
            "2번째 열(column) 표현 1\n",
            "[ 2  6 10]\n",
            "(3,)\n",
            "2번째 열(columns) 표현 2\n",
            "[[ 2]\n",
            " [ 6]\n",
            " [10]]\n",
            "(3, 1)\n"
          ]
        }
      ]
    },
    {
      "cell_type": "markdown",
      "source": [
        "# Integer array indexing:\n",
        "\n",
        "When you index into numpy arrays using slicing, the resulting array view will always be a subarray of the original array. In contrast, integer array indexing allows you to construct arbitrary arrays using the data from another array. Here is an example:"
      ],
      "metadata": {
        "id": "Wu7nXLi4CRea"
      }
    },
    {
      "cell_type": "code",
      "source": [
        "import numpy as np\n",
        "\n",
        "a = np.array([[1,2], [3, 4], [5, 6]])\n",
        "\n",
        "print(\"1번 행렬\", a , sep=\"\\n\")\n",
        "\n",
        "# An example of integer array indexing.\n",
        "# The returned array will have shape (3,) \n",
        "# and [0, 1, 2], [0, 1, 0] means [0, 0],[1, 1],[2, 0]\n",
        "\n",
        "print(\"2번 행렬\", a[[0, 1, 2], [0, 1, 0]], sep=\"\\n\")  # Prints \"[1 4 5]\"\n",
        "\n",
        "# The above example of integer array indexing is equivalent to this:\n",
        "\n",
        "print(\"3번 행렬\",np.array([a[0, 0], a[1, 1], a[2, 0]]), sep=\"\\n\")  # Prints \"[1 4 5]\"\n",
        "\n",
        "\n",
        "\n",
        "\n",
        "# When using integer array indexing, you can reuse the same\n",
        "# element from the source array:\n",
        "## a[[0, 0], [1, 0]] means [0,1], [0,0].\n",
        "\n",
        "print(\"4번 행렬\",a[[0, 0], [1, 0]], sep=\"\\n\")  # Prints \"[2 1]\"\n",
        "\n",
        "# Equivalent to the previous integer array indexing example\n",
        "print(\"5번 행렬\",np.array([a[0, 1], a[0, 0]]), sep=\"\\n\")  # Prints \"[2 1]\""
      ],
      "metadata": {
        "colab": {
          "base_uri": "https://localhost:8080/"
        },
        "id": "Akb-3A8A6OE6",
        "outputId": "6f95a40f-7f67-4f02-fc51-729189a0bb72"
      },
      "execution_count": null,
      "outputs": [
        {
          "output_type": "stream",
          "name": "stdout",
          "text": [
            "1번 행렬\n",
            "[[1 2]\n",
            " [3 4]\n",
            " [5 6]]\n",
            "2번 행렬\n",
            "[1 4 5]\n",
            "3번 행렬\n",
            "[1 4 5]\n",
            "4번 행렬\n",
            "[2 1]\n",
            "5번 행렬\n",
            "[2 1]\n"
          ]
        }
      ]
    },
    {
      "cell_type": "markdown",
      "source": [
        "One useful trick with integer array indexing is selecting or mutating one element from each row of a matrix:"
      ],
      "metadata": {
        "id": "h1gxiL24CgUa"
      }
    },
    {
      "cell_type": "code",
      "source": [
        "import numpy as np\n",
        "\n",
        "# Create a new array from which we will select elements\n",
        "a = np.array([[1,2,3], [4,5,6], [7,8,9], [10, 11, 12]])\n",
        "\n",
        "print(\"1번\", a , sep = \"\\n\")  # prints \"array([[ 1,  2,  3],\n",
        "          #                [ 4,  5,  6],\n",
        "          #                [ 7,  8,  9],\n",
        "          #                [10, 11, 12]])\"\n",
        "\n",
        "print(\"2번\", np.arange(4), sep = \"\\n\") ## test\n",
        "\n",
        "# Create an array of indices\n",
        "b = np.array([0, 2, 0, 1])\n",
        "\n",
        "# Select one element from each row of a using the indices in b\n",
        "print(\"3번\",a[np.arange(4), b], sep = \"\\n\" )  # Prints \"[ 1  6  7 11]\"\n",
        "\n",
        "# Mutate one element from each row of a using the indices in b\n",
        "a[np.arange(4), b] += 10\n",
        "\n",
        "print(\"4번\",a , sep = \"\\n\")  # prints \"array([[11,  2,  3],\n",
        "          #                [ 4,  5, 16],\n",
        "          #                [17,  8,  9],\n",
        "          #                [10, 21, 12]])"
      ],
      "metadata": {
        "colab": {
          "base_uri": "https://localhost:8080/"
        },
        "id": "7A5tZOdGChTv",
        "outputId": "5c6fd64d-38ea-4cb6-c721-be5f9890f420"
      },
      "execution_count": null,
      "outputs": [
        {
          "output_type": "stream",
          "name": "stdout",
          "text": [
            "1번\n",
            "[[ 1  2  3]\n",
            " [ 4  5  6]\n",
            " [ 7  8  9]\n",
            " [10 11 12]]\n",
            "2번\n",
            "[0 1 2 3]\n",
            "3번\n",
            "[ 1  6  7 11]\n",
            "4번\n",
            "[[11  2  3]\n",
            " [ 4  5 16]\n",
            " [17  8  9]\n",
            " [10 21 12]]\n"
          ]
        }
      ]
    },
    {
      "cell_type": "markdown",
      "source": [
        "# Boolean array indexing:\n",
        "\n",
        "Boolean array indexing lets you pick out arbitrary elements of an array. Frequently this type of indexing is used to select the elements of an array that satisfy some condition. Here is an example:"
      ],
      "metadata": {
        "id": "GW0mqUZiCmZc"
      }
    },
    {
      "cell_type": "code",
      "source": [
        "import numpy as np\n",
        "\n",
        "a = np.array([[1,2], [3, 4], [5, 6]])\n",
        "\n",
        "bool_idx = (a > 2)   # Find the elements of a that are bigger than 2;\n",
        "                     # this returns a numpy array of Booleans of the same\n",
        "                     # shape as a, where each slot of bool_idx tells\n",
        "                     # whether that element of a is > 2.\n",
        "\n",
        "print(bool_idx)      # Prints \"[[False False]\n",
        "                     #          [ True  True]\n",
        "                     #          [ True  True]]\"\n",
        "\n",
        "# We use boolean array indexing to construct a rank 1 array\n",
        "# consisting of the elements of a corresponding to the True values\n",
        "# of bool_idx\n",
        "print(a[bool_idx])  # Prints \"[3 4 5 6]\"\n",
        "\n",
        "# We can do all of the above in a single concise statement:\n",
        "print(a[a > 2])     # Prints \"[3 4 5 6]\""
      ],
      "metadata": {
        "colab": {
          "base_uri": "https://localhost:8080/"
        },
        "id": "kUHDdyZ3CsL-",
        "outputId": "33387427-887e-4033-d6c2-c56e7fc6b038"
      },
      "execution_count": null,
      "outputs": [
        {
          "output_type": "stream",
          "name": "stdout",
          "text": [
            "[[False False]\n",
            " [ True  True]\n",
            " [ True  True]]\n",
            "[3 4 5 6]\n",
            "[3 4 5 6]\n"
          ]
        }
      ]
    },
    {
      "cell_type": "markdown",
      "source": [
        "# Datatypes\n",
        "\n",
        "Every numpy array is a grid of elements of the same type. Numpy provides a large set of numeric datatypes that you can use to construct arrays. Numpy tries to guess a datatype when you create an array, but functions that construct arrays usually also include an optional argument to explicitly specify the datatype. Here is an example:\n",
        "\n"
      ],
      "metadata": {
        "id": "H45qMhSKCx_J"
      }
    },
    {
      "cell_type": "code",
      "source": [
        "import numpy as np\n",
        "\n",
        "x = np.array([1, 2])   # Let numpy choose the datatype\n",
        "print(x.dtype)         # Prints \"int64\"\n",
        "\n",
        "x = np.array([1.0, 2.0])   # Let numpy choose the datatype\n",
        "print(x.dtype)             # Prints \"float64\"\n",
        "\n",
        "x = np.array([1, 2], dtype=np.int64)   # Force a particular datatype\n",
        "print(x.dtype)                         # Prints \"int64\""
      ],
      "metadata": {
        "colab": {
          "base_uri": "https://localhost:8080/"
        },
        "id": "A-JdBOFNC2l9",
        "outputId": "73ab835f-107f-413c-de99-ff43c7d9a5a1"
      },
      "execution_count": null,
      "outputs": [
        {
          "output_type": "stream",
          "name": "stdout",
          "text": [
            "int64\n",
            "float64\n",
            "int64\n"
          ]
        }
      ]
    },
    {
      "cell_type": "markdown",
      "source": [
        "# Array math\n",
        "\n",
        "Basic mathematical functions operate elementwise on arrays, and are available both as operator overloads and as functions in the numpy module:"
      ],
      "metadata": {
        "id": "J1UwDB7KC9aR"
      }
    },
    {
      "cell_type": "code",
      "source": [
        "import numpy as np\n",
        "\n",
        "x = np.array([[1,2],[3,4]], dtype=np.float64)\n",
        "y = np.array([[5,6],[7,8]], dtype=np.float64)\n",
        "\n",
        "# Elementwise sum; both produce the array\n",
        "# [[ 6.0  8.0]\n",
        "#  [10.0 12.0]]\n",
        "print(x + y)\n",
        "print(np.add(x, y))\n",
        "\n",
        "# Elementwise difference; both produce the array\n",
        "# [[-4.0 -4.0]\n",
        "#  [-4.0 -4.0]]\n",
        "print(x - y)\n",
        "print(np.subtract(x, y))\n",
        "\n",
        "# Elementwise product; both produce the array\n",
        "# [[ 5.0 12.0]\n",
        "#  [21.0 32.0]]\n",
        "print(x * y)\n",
        "print(np.multiply(x, y))\n",
        "\n",
        "# Elementwise division; both produce the array\n",
        "# [[ 0.2         0.33333333]\n",
        "#  [ 0.42857143  0.5       ]]\n",
        "print(x / y)\n",
        "print(np.divide(x, y))\n",
        "\n",
        "# Elementwise square root; produces the array\n",
        "# [[ 1.          1.41421356]\n",
        "#  [ 1.73205081  2.        ]]\n",
        "print(np.sqrt(x))\n"
      ],
      "metadata": {
        "colab": {
          "base_uri": "https://localhost:8080/"
        },
        "id": "Abdw-aLmDLbu",
        "outputId": "9bd7d34f-c1bd-4fc3-d4bb-a192555943d1"
      },
      "execution_count": null,
      "outputs": [
        {
          "output_type": "stream",
          "name": "stdout",
          "text": [
            "[[ 6.  8.]\n",
            " [10. 12.]]\n",
            "[[ 6.  8.]\n",
            " [10. 12.]]\n",
            "[[-4. -4.]\n",
            " [-4. -4.]]\n",
            "[[-4. -4.]\n",
            " [-4. -4.]]\n",
            "[[ 5. 12.]\n",
            " [21. 32.]]\n",
            "[[ 5. 12.]\n",
            " [21. 32.]]\n",
            "[[0.2        0.33333333]\n",
            " [0.42857143 0.5       ]]\n",
            "[[0.2        0.33333333]\n",
            " [0.42857143 0.5       ]]\n",
            "[[1.         1.41421356]\n",
            " [1.73205081 2.        ]]\n"
          ]
        }
      ]
    },
    {
      "cell_type": "markdown",
      "source": [
        "Note that unlike MATLAB, * is elementwise multiplication, not matrix multiplication. We instead use the dot function to compute inner products of vectors, to multiply a vector by a matrix, and to multiply matrices. dot is available both as a function in the numpy module and as an instance method of array objects:"
      ],
      "metadata": {
        "id": "zvbmCTj-DRol"
      }
    },
    {
      "cell_type": "code",
      "source": [
        "import numpy as np\n",
        "\n",
        "x = np.array([[1,2],[3,4]])\n",
        "y = np.array([[5,6],[7,8]])\n",
        "\n",
        "v = np.array([9,10])\n",
        "w = np.array([11, 12])\n",
        "\n",
        "# Inner product of vectors; both produce 219\n",
        "print(v.dot(w))\n",
        "print(np.dot(v, w))\n",
        "\n",
        "# Matrix / vector product; both produce the rank 1 array [29 67]\n",
        "print(x.dot(v))\n",
        "print(np.dot(x, v))\n",
        "\n",
        "# Matrix / matrix product; both produce the rank 2 array\n",
        "# [[19 22]\n",
        "#  [43 50]]\n",
        "print(x.dot(y))\n",
        "print(np.dot(x, y))"
      ],
      "metadata": {
        "colab": {
          "base_uri": "https://localhost:8080/"
        },
        "id": "eb6SGtyYDTjp",
        "outputId": "7c09b272-94ab-4025-ef0e-1c4c8bef5b88"
      },
      "execution_count": null,
      "outputs": [
        {
          "output_type": "stream",
          "name": "stdout",
          "text": [
            "219\n",
            "219\n",
            "[29 67]\n",
            "[29 67]\n",
            "[[19 22]\n",
            " [43 50]]\n",
            "[[19 22]\n",
            " [43 50]]\n"
          ]
        }
      ]
    },
    {
      "cell_type": "markdown",
      "source": [
        "Numpy provides many useful functions for performing computations on arrays; one of the most useful is **sum:**"
      ],
      "metadata": {
        "id": "iT046D4ZDjnO"
      }
    },
    {
      "cell_type": "code",
      "source": [
        "import numpy as np\n",
        "\n",
        "x = np.array([[1,2],[3,4]])\n",
        "print(x)\n",
        "\n",
        "print(\" \")\n",
        "\n",
        "print(np.sum(x))  # Compute sum of all elements; prints \"10\"\n",
        "print(\" \")\n",
        "\n",
        "print(np.sum(x, axis=0))  # Compute sum of each column; prints \"[4 6]\"\n",
        "print(\" \")\n",
        "\n",
        "print(np.sum(x, axis=1))  # Compute sum of each row; prints \"[3 7]\""
      ],
      "metadata": {
        "colab": {
          "base_uri": "https://localhost:8080/"
        },
        "id": "1Z2ajcf9De2H",
        "outputId": "0d2fee0f-6bf0-46c6-b193-0dc1fb272959"
      },
      "execution_count": null,
      "outputs": [
        {
          "output_type": "stream",
          "name": "stdout",
          "text": [
            "[[1 2]\n",
            " [3 4]]\n",
            " \n",
            "10\n",
            " \n",
            "[4 6]\n",
            " \n",
            "[3 7]\n"
          ]
        }
      ]
    },
    {
      "cell_type": "markdown",
      "source": [
        "You can find the full list of mathematical functions provided by numpy in the documentation.\n",
        "\n",
        "Apart from computing mathematical functions using arrays, we frequently need to reshape or otherwise manipulate data in arrays. The simplest example of this type of operation is transposing a matrix; to transpose a matrix, simply use the T attribute of an array object:"
      ],
      "metadata": {
        "id": "uGGvUQRbDzH4"
      }
    },
    {
      "cell_type": "code",
      "source": [
        "import numpy as np\n",
        "\n",
        "x = np.array([[1,2], [3,4]])\n",
        "print(x)    # Prints \"[[1 2]\n",
        "            #          [3 4]]\"\n",
        "print(\" \")\n",
        "\n",
        "\n",
        "print(x.T)  # Prints \"[[1 3]\n",
        "            #          [2 4]]\"\n",
        "print(\" \")\n",
        "\n",
        "\n",
        "# Note that taking the transpose of a rank 1 array does nothing:\n",
        "v = np.array([1,2,3])\n",
        "print(v)    # Prints \"[1 2 3]\"\n",
        "print(\" \")\n",
        "\n",
        "\n",
        "\n",
        "print(v.T)  # Prints \"[1 2 3]\"\n"
      ],
      "metadata": {
        "colab": {
          "base_uri": "https://localhost:8080/"
        },
        "id": "3pSKBLmlD0aQ",
        "outputId": "cac1cacc-22ac-4376-c7cb-c2032904a72b"
      },
      "execution_count": null,
      "outputs": [
        {
          "output_type": "stream",
          "name": "stdout",
          "text": [
            "[[1 2]\n",
            " [3 4]]\n",
            " \n",
            "[[1 3]\n",
            " [2 4]]\n",
            " \n",
            "[1 2 3]\n",
            " \n",
            "[1 2 3]\n"
          ]
        }
      ]
    },
    {
      "cell_type": "markdown",
      "source": [
        "## Broadcasting\n",
        "\n",
        "Broadcasting is a powerful mechanism that allows numpy to work with arrays of different shapes when performing arithmetic operations. Frequently we have a smaller array and a larger array, and we want to use the smaller array multiple times to perform some operation on the larger array.\n",
        "\n",
        "For example, suppose that we want to add a constant vector to each row of a matrix. We could do it like this:"
      ],
      "metadata": {
        "id": "zM1dr_4NEB9C"
      }
    },
    {
      "cell_type": "code",
      "source": [
        "import numpy as np\n",
        "\n",
        "# We will add the vector v to each row of the matrix x,\n",
        "# storing the result in the matrix y\n",
        "x = np.array([[1,2,3], [4,5,6], [7,8,9], [10, 11, 12]])\n",
        "v = np.array([1, 0, 1])\n",
        "y = np.empty_like(x)   # Create an empty matrix with the same shape as x\n",
        "\n",
        "# Add the vector v to each row of the matrix x with an explicit loop\n",
        "for i in range(4):\n",
        "    y[i, :] = x[i, :] + v\n",
        "\n",
        "# Now y is the following\n",
        "# [[ 2  2  4]\n",
        "#  [ 5  5  7]\n",
        "#  [ 8  8 10]\n",
        "#  [11 11 13]]\n",
        "print(y)"
      ],
      "metadata": {
        "colab": {
          "base_uri": "https://localhost:8080/"
        },
        "id": "1wLQ7_23EBc5",
        "outputId": "e56af2ba-c0b8-40a5-a851-c120be0edc52"
      },
      "execution_count": null,
      "outputs": [
        {
          "output_type": "stream",
          "name": "stdout",
          "text": [
            "[[ 2  2  4]\n",
            " [ 5  5  7]\n",
            " [ 8  8 10]\n",
            " [11 11 13]]\n"
          ]
        }
      ]
    },
    {
      "cell_type": "code",
      "source": [
        "import numpy as np\n",
        "\n",
        "# We will add the vector v to each row of the matrix x,\n",
        "# storing the result in the matrix y\n",
        "x = np.array([[1,2,3], [4,5,6], [7,8,9], [10, 11, 12]])\n",
        "v = np.array([1, 0, 1])\n",
        "vv = np.tile(v, (4, 1))   # Stack 4 copies of v on top of each other\n",
        "print(vv)                 # Prints \"[[1 0 1]\n",
        "                          #          [1 0 1]\n",
        "                          #          [1 0 1]\n",
        "                          #          [1 0 1]]\"\n",
        "y = x + vv  # Add x and vv elementwise\n",
        "print(y)  # Prints \"[[ 2  2  4\n",
        "          #          [ 5  5  7]\n",
        "          #          [ 8  8 10]\n",
        "          #          [11 11 13]]\""
      ],
      "metadata": {
        "colab": {
          "base_uri": "https://localhost:8080/"
        },
        "id": "b39ENqynEQV7",
        "outputId": "075ce4e9-6c24-4aae-caa8-c5d9d7c0b7bf"
      },
      "execution_count": null,
      "outputs": [
        {
          "output_type": "stream",
          "name": "stdout",
          "text": [
            "[[1 0 1]\n",
            " [1 0 1]\n",
            " [1 0 1]\n",
            " [1 0 1]]\n",
            "[[ 2  2  4]\n",
            " [ 5  5  7]\n",
            " [ 8  8 10]\n",
            " [11 11 13]]\n"
          ]
        }
      ]
    },
    {
      "cell_type": "markdown",
      "source": [
        "Broadcasting two arrays together follows these rules:\n",
        "\n",
        "If the arrays do not have the same rank, prepend the shape of the lower rank array with 1s until both shapes have the same length.\n",
        "The two arrays are said to be compatible in a dimension if they have the same size in the dimension, or if one of the arrays has size 1 in that dimension.\n",
        "The arrays can be broadcast together if they are compatible in all dimensions.\n",
        "After broadcasting, each array behaves as if it had shape equal to the elementwise maximum of shapes of the two input arrays.\n",
        "In any dimension where one array had size 1 and the other array had size greater than 1, the first array behaves as if it were copied along that dimension\n"
      ],
      "metadata": {
        "id": "AlOpKZfzEklK"
      }
    },
    {
      "cell_type": "code",
      "source": [
        "import numpy as np\n",
        "\n",
        "# Compute outer product of vectors\n",
        "v = np.array([1,2,3])  # v has shape (3,)\n",
        "w = np.array([4,5])    # w has shape (2,)\n",
        "# To compute an outer product, we first reshape v to be a column\n",
        "# vector of shape (3, 1); we can then broadcast it against w to yield\n",
        "# an output of shape (3, 2), which is the outer product of v and w:\n",
        "# [[ 4  5]\n",
        "#  [ 8 10]\n",
        "#  [12 15]]\n",
        "print(np.reshape(v, (3, 1)) * w)\n",
        "\n",
        "# Add a vector to each row of a matrix\n",
        "x = np.array([[1,2,3], [4,5,6]])\n",
        "# x has shape (2, 3) and v has shape (3,) so they broadcast to (2, 3),\n",
        "# giving the following matrix:\n",
        "# [[2 4 6]\n",
        "#  [5 7 9]]\n",
        "print(x + v)\n",
        "\n",
        "# Add a vector to each column of a matrix\n",
        "# x has shape (2, 3) and w has shape (2,).\n",
        "# If we transpose x then it has shape (3, 2) and can be broadcast\n",
        "# against w to yield a result of shape (3, 2); transposing this result\n",
        "# yields the final result of shape (2, 3) which is the matrix x with\n",
        "# the vector w added to each column. Gives the following matrix:\n",
        "# [[ 5  6  7]\n",
        "#  [ 9 10 11]]\n",
        "print((x.T + w).T)\n",
        "# Another solution is to reshape w to be a column vector of shape (2, 1);\n",
        "# we can then broadcast it directly against x to produce the same\n",
        "# output.\n",
        "print(x + np.reshape(w, (2, 1)))\n",
        "\n",
        "# Multiply a matrix by a constant:\n",
        "# x has shape (2, 3). Numpy treats scalars as arrays of shape ();\n",
        "# these can be broadcast together to shape (2, 3), producing the\n",
        "# following array:\n",
        "# [[ 2  4  6]\n",
        "#  [ 8 10 12]]\n",
        "print(x * 2)"
      ],
      "metadata": {
        "colab": {
          "base_uri": "https://localhost:8080/"
        },
        "id": "GW9G1GWAEl-j",
        "outputId": "9e23794f-f703-45c1-e93c-d03cd78f959d"
      },
      "execution_count": null,
      "outputs": [
        {
          "output_type": "stream",
          "name": "stdout",
          "text": [
            "[[ 4  5]\n",
            " [ 8 10]\n",
            " [12 15]]\n",
            "[[2 4 6]\n",
            " [5 7 9]]\n",
            "[[ 5  6  7]\n",
            " [ 9 10 11]]\n",
            "[[ 5  6  7]\n",
            " [ 9 10 11]]\n",
            "[[ 2  4  6]\n",
            " [ 8 10 12]]\n"
          ]
        }
      ]
    },
    {
      "cell_type": "code",
      "source": [
        "## 전처리에 요긴한 방법\n",
        "\n",
        "fish_length = [25.4, 26.3, 26.5, 29.0, 29.0, 29.7, 29.7, 30.0, 30.0, 30.7, 31.0, 31.0, \n",
        "                31.5, 32.0, 32.0, 32.0, 33.0, 33.0, 33.5, 33.5, 34.0, 34.0, 34.5, 35.0, \n",
        "                35.0, 35.0, 35.0, 36.0, 36.0, 37.0, 38.5, 38.5, 39.5, 41.0, 41.0, 9.8, \n",
        "                10.5, 10.6, 11.0, 11.2, 11.3, 11.8, 11.8, 12.0, 12.2, 12.4, 13.0, 14.3, 15.0]\n",
        "fish_weight = [242.0, 290.0, 340.0, 363.0, 430.0, 450.0, 500.0, 390.0, 450.0, 500.0, 475.0, 500.0, \n",
        "                500.0, 340.0, 600.0, 600.0, 700.0, 700.0, 610.0, 650.0, 575.0, 685.0, 620.0, 680.0, \n",
        "                700.0, 725.0, 720.0, 714.0, 850.0, 1000.0, 920.0, 955.0, 925.0, 975.0, 950.0, 6.7, \n",
        "                7.5, 7.0, 9.7, 9.8, 8.7, 10.0, 9.9, 9.8, 12.2, 13.4, 12.2, 19.7, 19.9]\n",
        "\n",
        "fish_data =np.column_stack((fish_length,fish_weight)) ## 괄호가 2개에 유의, 연결할 리스트의 tuple로 넣는다. 그래서 괄호가 2개\n",
        "print(fish_data[0:5])\n",
        "\n",
        "type(fish_data)"
      ],
      "metadata": {
        "colab": {
          "base_uri": "https://localhost:8080/"
        },
        "id": "RWezvV7_0RWc",
        "outputId": "168df6f8-e835-407c-eb50-3ef5deb7d625"
      },
      "execution_count": null,
      "outputs": [
        {
          "output_type": "stream",
          "name": "stdout",
          "text": [
            "[[ 25.4 242. ]\n",
            " [ 26.3 290. ]\n",
            " [ 26.5 340. ]\n",
            " [ 29.  363. ]\n",
            " [ 29.  430. ]]\n"
          ]
        },
        {
          "output_type": "execute_result",
          "data": {
            "text/plain": [
              "numpy.ndarray"
            ]
          },
          "metadata": {},
          "execution_count": 115
        }
      ]
    },
    {
      "cell_type": "markdown",
      "source": [
        "# Numpy Documentation\n",
        "\n",
        "This brief overview has touched on many of the important things that you need to know about numpy, but is far from complete. Check out the numpy reference to find out much more about numpy. https://numpy.org/doc/stable/reference/"
      ],
      "metadata": {
        "id": "YWSmzNXIE2YK"
      }
    },
    {
      "cell_type": "markdown",
      "source": [
        "# **SciPy**\n",
        "\n",
        "Numpy provides a high-performance multidimensional array and basic tools to compute with and manipulate these arrays. SciPy builds on this, and provides a large number of functions that operate on numpy arrays and are useful for different types of scientific and engineering applications.\n",
        "\n",
        "The best way to get familiar with SciPy is to browse the documentation. We will highlight some parts of SciPy that you might find useful for this class.\n",
        "\n",
        "# Image operations\n",
        "SciPy provides some basic functions to work with images. For example, it has functions to read images from disk into numpy arrays, to write numpy arrays to disk as images, and to resize images. Here is a simple example that showcases these functions:"
      ],
      "metadata": {
        "id": "5ih4K1Fc4BGR"
      }
    },
    {
      "cell_type": "code",
      "source": [
        "## Image manipulation: scipy.ndimage\n",
        "\n",
        "import numpy as np\n",
        "from scipy import misc\n",
        "\n",
        "face = misc.face(gray=True) # Load an image\n",
        "\n",
        "from scipy import ndimage # Shift, roate and zoom it\n",
        "\n",
        "\n",
        "shifted_face = ndimage.shift(face, (50, 50))\n",
        "shifted_face2 = ndimage.shift(face, (50, 50), mode='nearest')\n",
        "rotated_face = ndimage.rotate(face, 30)\n",
        "cropped_face = face[50:-50, 50:-50]\n",
        "zoomed_face = ndimage.zoom(face, 2)\n",
        "zoomed_face.shape\n",
        "\n",
        "plt.subplot(151)    \n",
        "plt.imshow(shifted_face2, cmap=plt.cm.gray) \n",
        "plt.axis('off')"
      ],
      "metadata": {
        "colab": {
          "base_uri": "https://localhost:8080/",
          "height": 92
        },
        "id": "R7JgUxVZE0gG",
        "outputId": "5e65358e-f5c2-4bf3-fb50-aae953dbe2e8"
      },
      "execution_count": null,
      "outputs": [
        {
          "output_type": "execute_result",
          "data": {
            "text/plain": [
              "(-0.5, 2047.5, 1535.5, -0.5)"
            ]
          },
          "metadata": {},
          "execution_count": 145
        },
        {
          "output_type": "display_data",
          "data": {
            "text/plain": [
              "<Figure size 432x288 with 1 Axes>"
            ],
            "image/png": "[encoded data removed]"
          },
          "metadata": {
            "needs_background": "light"
          }
        }
      ]
    },
    {
      "cell_type": "code",
      "source": [
        "from google.colab import drive \n",
        "drive.mount('/content/drive/')"
      ],
      "metadata": {
        "colab": {
          "base_uri": "https://localhost:8080/"
        },
        "id": "290X4IeGJRN0",
        "outputId": "74df5066-2338-49d5-e923-c641f6988bbc"
      },
      "execution_count": null,
      "outputs": [
        {
          "output_type": "stream",
          "name": "stdout",
          "text": [
            "Mounted at /content/drive/\n"
          ]
        }
      ]
    },
    {
      "cell_type": "code",
      "source": [
        "pwd"
      ],
      "metadata": {
        "colab": {
          "base_uri": "https://localhost:8080/",
          "height": 36
        },
        "id": "WW8XL-9jJoec",
        "outputId": "670cab79-964d-4dc2-b3a3-26b351065bec"
      },
      "execution_count": 147,
      "outputs": [
        {
          "output_type": "execute_result",
          "data": {
            "text/plain": [
              "'/content'"
            ],
            "application/vnd.google.colaboratory.intrinsic+json": {
              "type": "string"
            }
          },
          "metadata": {},
          "execution_count": 147
        }
      ]
    },
    {
      "cell_type": "code",
      "source": [
        "cd content"
      ],
      "metadata": {
        "colab": {
          "base_uri": "https://localhost:8080/"
        },
        "id": "dp_9FENwJ40v",
        "outputId": "17287292-7c40-4c54-a639-a6c02718f5fe"
      },
      "execution_count": 158,
      "outputs": [
        {
          "output_type": "stream",
          "name": "stdout",
          "text": [
            "/content\n"
          ]
        }
      ]
    },
    {
      "cell_type": "code",
      "source": [
        "cd drive/MyDrive/"
      ],
      "metadata": {
        "colab": {
          "base_uri": "https://localhost:8080/"
        },
        "id": "EdRqav_4LBdG",
        "outputId": "379b60e3-b410-4dc7-ee13-4a4c8e748cd7"
      },
      "execution_count": 160,
      "outputs": [
        {
          "output_type": "stream",
          "name": "stdout",
          "text": [
            "/content/drive/MyDrive\n"
          ]
        }
      ]
    },
    {
      "cell_type": "code",
      "source": [
        "import numpy as np\n",
        "\n",
        "from skimage.color import rgb2lab, rgb2gray, lab2rgb\n",
        "\n",
        "from skimage.io import imread, imshow\n",
        "\n",
        "import matplotlib.pyplot as plt\n",
        "\n",
        "image_sample= imread('data/train/children/101.jpg')\n",
        "fig, ax = plt.subplots(figsize=(50, 50))\n",
        "imshow(image_sample, ax=ax)\n",
        "\n",
        "\n"
      ],
      "metadata": {
        "id": "R0l8YIjtIiyx",
        "colab": {
          "base_uri": "https://localhost:8080/",
          "height": 744
        },
        "outputId": "5aa12601-f336-4310-b121-bc3ad6513465"
      },
      "execution_count": 164,
      "outputs": [
        {
          "output_type": "execute_result",
          "data": {
            "text/plain": [
              "<matplotlib.image.AxesImage at 0x7fa261b14820>"
            ]
          },
          "metadata": {},
          "execution_count": 164
        },
        {
          "output_type": "display_data",
          "data": {
            "text/plain": [
              "<Figure size 3600x3600 with 1 Axes>"
            ],
            "image/png": "[encoded data removed]"
          },
          "metadata": {
            "needs_background": "light"
          }
        }
      ]
    }
  ]
}