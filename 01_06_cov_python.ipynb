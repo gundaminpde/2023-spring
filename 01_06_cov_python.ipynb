{
  "nbformat": 4,
  "nbformat_minor": 0,
  "metadata": {
    "colab": {
      "provenance": [],
      "authorship_tag": "ABX9TyO5HzC5jChOb7ZeNq53a8Pn",
      "include_colab_link": true
    },
    "kernelspec": {
      "name": "python3",
      "display_name": "Python 3"
    },
    "language_info": {
      "name": "python"
    }
  },
  "cells": [
    {
      "cell_type": "markdown",
      "metadata": {
        "id": "view-in-github",
        "colab_type": "text"
      },
      "source": [
        "<a href=\"https://colab.research.google.com/github/gundaminpde/2023-spring/blob/main/01_06_cov_python.ipynb\" target=\"_parent\"><img src=\"https://colab.research.google.com/assets/colab-badge.svg\" alt=\"Open In Colab\"/></a>"
      ]
    },
    {
      "cell_type": "code",
      "execution_count": 4,
      "metadata": {
        "colab": {
          "base_uri": "https://localhost:8080/"
        },
        "id": "K0fsnaamimsm",
        "outputId": "460b9af9-d378-4376-f4b7-be62c0d4988d"
      },
      "outputs": [
        {
          "output_type": "stream",
          "name": "stdout",
          "text": [
            "mean adjust of data\n",
            "[[ -2.06       -10.06666667]\n",
            " [ -1.06        -6.06666667]\n",
            " [  1.94         5.93333333]\n",
            " [  3.94        16.93333333]\n",
            " [ -1.46        -8.06666667]\n",
            " [  0.74         1.93333333]\n",
            " [  2.94        16.93333333]\n",
            " [ -0.06        11.93333333]\n",
            " [ -2.06        -9.06666667]\n",
            " [ -1.86        -9.06666667]\n",
            " [ -0.26        -0.06666667]\n",
            " [ -1.66        -5.06666667]\n",
            " [ -1.46       -12.06666667]\n",
            " [  1.34         7.93333333]\n",
            " [  1.04        -2.06666667]]\n",
            "\n",
            "\n",
            "covariance matrix(from definition) using division by n-1:\n",
            "[[ 3.67971429 16.98142857]\n",
            " [16.98142857 97.20952381]]\n",
            "\n",
            "\n",
            "covariance matrix(python function):\n",
            "[[ 3.4344     15.84933333]\n",
            " [15.84933333 90.72888889]]\n"
          ]
        }
      ],
      "source": [
        "import numpy as np\n",
        "\n",
        "def calculate_cov_matrix():\n",
        "    data = [[2, 20],\n",
        "            [3, 24],\n",
        "            [6, 36],\n",
        "            [8, 47],\n",
        "            [2.6, 22],\n",
        "            [4.8, 32],\n",
        "            [7, 47],\n",
        "            [4, 42],\n",
        "            [2, 21],\n",
        "            [2.2, 21],\n",
        "            [3.8, 30],\n",
        "            [2.4, 25],\n",
        "            [2.6, 18],\n",
        "            [5.4, 38],\n",
        "            [5.1, 28]\n",
        "            ]\n",
        "    nData = len(data)\n",
        "\n",
        "    x = np.array(data)\n",
        "    x_mean = x\n",
        "    x_mean[:, 0] = x[:, 0] - np.mean(x[:, 0])\n",
        "    x_mean[:, 1] = x[:, 1] - np.mean(x[:, 1])\n",
        "\n",
        "    print('mean adjust of data')\n",
        "    print(x_mean)\n",
        "\n",
        "    res = x_mean.T @ x_mean / (nData-1)\n",
        "\n",
        "    print('\\n')\n",
        "    print('covariance matrix(from definition) using division by n-1:')\n",
        "    print(res)\n",
        "\n",
        "    c = np.cov(x.T, bias=True)\n",
        "    print('\\n')\n",
        "    print('covariance matrix(python function):')\n",
        "    print(c)\n",
        "\n",
        "if __name__ == '__main__':\n",
        "    calculate_cov_matrix()"
      ]
    }
  ]
}