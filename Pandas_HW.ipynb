{
  "nbformat": 4,
  "nbformat_minor": 0,
  "metadata": {
    "colab": {
      "provenance": [],
      "authorship_tag": "ABX9TyOnOYTxKtSllwlyFQx2KPiy",
      "include_colab_link": true
    },
    "kernelspec": {
      "name": "python3",
      "display_name": "Python 3"
    },
    "language_info": {
      "name": "python"
    }
  },
  "cells": [
    {
      "cell_type": "markdown",
      "metadata": {
        "id": "view-in-github",
        "colab_type": "text"
      },
      "source": [
        "<a href=\"https://colab.research.google.com/github/gundaminpde/2023-spring/blob/main/Pandas_HW.ipynb\" target=\"_parent\"><img src=\"https://colab.research.google.com/assets/colab-badge.svg\" alt=\"Open In Colab\"/></a>"
      ]
    },
    {
      "cell_type": "markdown",
      "source": [
        "# 모두 실행해 보시고, 다음 물음에 답하시길 바랍니다."
      ],
      "metadata": {
        "id": "xVgmFf8u17Mg"
      }
    },
    {
      "cell_type": "markdown",
      "source": [
        "**[숙제]** 다음 코드는 무슨 뜻인가요?"
      ],
      "metadata": {
        "id": "Jym5zfHtyyH0"
      }
    },
    {
      "cell_type": "code",
      "source": [
        "import os\n",
        "\n",
        "os.chdir('/content/')\n",
        "\n",
        "print(os.getcwd()) \n",
        "\n",
        "print(os.listdir()) \n",
        "\n",
        "os.chdir('/content/sample_data/')\n",
        "\n",
        "print(os.listdir()) \n"
      ],
      "metadata": {
        "id": "FfuaxG025SsF"
      },
      "execution_count": null,
      "outputs": []
    },
    {
      "cell_type": "markdown",
      "source": [
        "**[숙제]** 다음 코드는 무슨 뜻인가요?"
      ],
      "metadata": {
        "id": "hTJ5QByyy8vP"
      }
    },
    {
      "cell_type": "code",
      "source": [
        "### 와~ pandas\n",
        "\n",
        "import pandas as pd\n",
        "\n",
        "\n",
        "targetUrl = \"https://raw.githubusercontent.com/gundaminpde/2022/main/gapminder_sample.tsv\"\n",
        "\n",
        "df2 = pd.read_csv(targetUrl, sep='\\t')\n"
      ],
      "metadata": {
        "id": "jwT3_cPO7uVk"
      },
      "execution_count": 16,
      "outputs": []
    },
    {
      "cell_type": "markdown",
      "source": [
        "**[숙제]** 다음 코드는 무슨 뜻인가요?"
      ],
      "metadata": {
        "id": "-XhkmFZky_-_"
      }
    },
    {
      "cell_type": "code",
      "source": [
        "print(df2.head( ))"
      ],
      "metadata": {
        "id": "0Wsf74zeumzj"
      },
      "execution_count": null,
      "outputs": []
    },
    {
      "cell_type": "markdown",
      "source": [],
      "metadata": {
        "id": "Y6AMJujYuuQT"
      }
    },
    {
      "cell_type": "markdown",
      "source": [
        "**[숙제]** 다음 코드는 무슨 뜻인가요?"
      ],
      "metadata": {
        "id": "0NFSclpYzCax"
      }
    },
    {
      "cell_type": "code",
      "source": [
        "print(type(df2))"
      ],
      "metadata": {
        "id": "sb-7ICDmuu7O"
      },
      "execution_count": null,
      "outputs": []
    },
    {
      "cell_type": "markdown",
      "source": [
        "**[숙제]** 다음 코드는 무슨 뜻인가요?"
      ],
      "metadata": {
        "id": "DTcv1pzbzEVI"
      }
    },
    {
      "cell_type": "code",
      "source": [
        "print(df2.shape)"
      ],
      "metadata": {
        "id": "krXTJpk8uzJW",
        "outputId": "cc066f20-ca05-4ab0-b428-320a8ff24d4c",
        "colab": {
          "base_uri": "https://localhost:8080/"
        }
      },
      "execution_count": 19,
      "outputs": [
        {
          "output_type": "stream",
          "name": "stdout",
          "text": [
            "(1704, 6)\n"
          ]
        }
      ]
    },
    {
      "cell_type": "markdown",
      "source": [
        "**[숙제]** 다음 코드는 무슨 뜻인가요?"
      ],
      "metadata": {
        "id": "wvEWjXEgzGT8"
      }
    },
    {
      "cell_type": "code",
      "source": [
        "print( df2.columns)\n"
      ],
      "metadata": {
        "id": "eInuiq4lu1Dt"
      },
      "execution_count": null,
      "outputs": []
    },
    {
      "cell_type": "markdown",
      "source": [
        "**[숙제]** 다음 코드는 무슨 뜻인가요?"
      ],
      "metadata": {
        "id": "d3b03rMtzJZi"
      }
    },
    {
      "cell_type": "code",
      "source": [
        "print(df2.dtypes)\n"
      ],
      "metadata": {
        "id": "bKNgDqYwu2xS"
      },
      "execution_count": null,
      "outputs": []
    },
    {
      "cell_type": "markdown",
      "source": [
        "**[숙제]** 다음 코드는 무슨 뜻인가요?"
      ],
      "metadata": {
        "id": "CfnaBnYPzLat"
      }
    },
    {
      "cell_type": "code",
      "source": [
        "print(df2.info())"
      ],
      "metadata": {
        "id": "XR5JICfFu4Y9"
      },
      "execution_count": null,
      "outputs": []
    },
    {
      "cell_type": "markdown",
      "source": [
        "**[숙제]** 다음 코드는 무슨 뜻인가요?"
      ],
      "metadata": {
        "id": "HHTxfxiSzNlb"
      }
    },
    {
      "cell_type": "code",
      "source": [
        "\n",
        "!git clone https://github.com/gundaminpde/chow.git\n",
        "\n",
        "df3 = pd.read_csv(\"./chow/ThoraricSurgery.csv\", sep=',') \n",
        "\n",
        "print(df3.head())\n",
        "\n",
        "\n"
      ],
      "metadata": {
        "id": "MuZ4ODY5rb2G"
      },
      "execution_count": null,
      "outputs": []
    },
    {
      "cell_type": "code",
      "source": [
        "## csv 화일의 기본 형태\n",
        "\n",
        "## [[1행 리스트],[2행 리스트 ],[3행 리스트] ... ] "
      ],
      "metadata": {
        "id": "CUbfsyif_OnX"
      },
      "execution_count": null,
      "outputs": []
    },
    {
      "cell_type": "code",
      "source": [
        "# 판다스 자료형 : 파이썬 자료형 : 설명\n",
        "#  object    : string    : 문자열\n",
        "#  int64     : int       : 정수\n",
        "#   float64  : float     : 소숫점 가진 숫자\n",
        "# datetime64 : datetime  : 파이썬 라이브러리 datetime 반환하는 자료형 (시계열할 때)\n"
      ],
      "metadata": {
        "id": "K1uapEkcf6FF"
      },
      "execution_count": null,
      "outputs": []
    },
    {
      "cell_type": "markdown",
      "source": [
        "**[숙제]** 다음 코드는 무슨 뜻인가요?"
      ],
      "metadata": {
        "id": "tGhTsUDqzPZ5"
      }
    },
    {
      "cell_type": "code",
      "source": [
        "\n",
        "print(df2.head())\n",
        "\n",
        "print(\" \")\n",
        "\n",
        "countary_df=df2[\"country\"]\n",
        "\n",
        "print(type(countary_df)) \n",
        "\n",
        "print(countary_df.head())\n",
        "\n",
        "print(countary_df.tail())\n"
      ],
      "metadata": {
        "id": "FXSn4_JNh0On"
      },
      "execution_count": null,
      "outputs": []
    },
    {
      "cell_type": "markdown",
      "source": [
        "**[숙제]** 다음 코드는 무슨 뜻인가요?"
      ],
      "metadata": {
        "id": "sEOcwx_yzRxp"
      }
    },
    {
      "cell_type": "code",
      "source": [
        "\n",
        "subset_df=df2[[\"country\", 'continent', 'year']]\n",
        "\n",
        "print(type(subset_df)) \n",
        "\n",
        "print(subset_df.head())\n",
        "\n",
        "print(subset_df.tail())\n"
      ],
      "metadata": {
        "id": "vx3YfeBzjy-E"
      },
      "execution_count": null,
      "outputs": []
    },
    {
      "cell_type": "code",
      "source": [
        "\n",
        "print(df2.head())"
      ],
      "metadata": {
        "id": "9h0gsYqvICr7"
      },
      "execution_count": null,
      "outputs": []
    },
    {
      "cell_type": "markdown",
      "source": [
        "**[숙제]** 다음 코드는 무슨 뜻인가요?"
      ],
      "metadata": {
        "id": "2KDGnUZczV48"
      }
    },
    {
      "cell_type": "code",
      "source": [
        "print(df2.loc[0])    "
      ],
      "metadata": {
        "id": "vnLqJt7Lkwr4"
      },
      "execution_count": null,
      "outputs": []
    },
    {
      "cell_type": "markdown",
      "source": [
        "**[숙제]** 다음 코드는 무슨 뜻인가요?"
      ],
      "metadata": {
        "id": "CFXz_lawzbKs"
      }
    },
    {
      "cell_type": "code",
      "source": [
        "print(df2.iloc[0])"
      ],
      "metadata": {
        "id": "qBbvTS9aIzpT"
      },
      "execution_count": null,
      "outputs": []
    },
    {
      "cell_type": "markdown",
      "source": [
        "**[숙제]** 다음 코드는 무슨 뜻인가요?"
      ],
      "metadata": {
        "id": "nNKNnqKdzh7u"
      }
    },
    {
      "cell_type": "code",
      "source": [
        "number_rows = df2.shape[0]\n",
        "\n",
        "print(df2.shape)\n",
        "\n",
        "last_row_index = number_rows - 1\n",
        "\n",
        "print(df2.loc[last_row_index])\n",
        "\n",
        "\n",
        "print(\" \")\n",
        "\n",
        "## 또 다른 방법, tail(n=1)\n",
        "\n",
        "print(\"또 다른 방법, tail(n=1)\")\n",
        "\n",
        "print(df2.tail(n=1))"
      ],
      "metadata": {
        "id": "theI1UaYMpaN"
      },
      "execution_count": null,
      "outputs": []
    },
    {
      "cell_type": "markdown",
      "source": [
        "**[숙제]** 다음 코드는 무슨 뜻인가요?"
      ],
      "metadata": {
        "id": "JhWyMSKzzjqi"
      }
    },
    {
      "cell_type": "code",
      "source": [
        "print(df2.loc[[0,20,30]]) \n",
        "\n"
      ],
      "metadata": {
        "id": "uQ0eM6AfNf4Y"
      },
      "execution_count": null,
      "outputs": []
    },
    {
      "cell_type": "markdown",
      "source": [
        "**[숙제]** 다음 코드는 무슨 뜻인가요?"
      ],
      "metadata": {
        "id": "2sp9sg5jzljL"
      }
    },
    {
      "cell_type": "code",
      "source": [
        "print(df2.loc[0:4])"
      ],
      "metadata": {
        "id": "VFLyF2gtwoVj"
      },
      "execution_count": null,
      "outputs": []
    },
    {
      "cell_type": "markdown",
      "source": [
        "**[숙제]** iloc[-1]는 실행이 가능, loc[-1]는 실생이 불가능한 이유가 뭔가요?"
      ],
      "metadata": {
        "id": "pYPQO6v2znRc"
      }
    },
    {
      "cell_type": "code",
      "source": [
        "## iloc[-1]는 가능, loc[-1]는 불가능\n",
        "\n",
        "\n",
        "print(df2.iloc[-1])\n",
        "\n",
        "print(df2.loc[-1])"
      ],
      "metadata": {
        "id": "2ChPHgtOW1FG"
      },
      "execution_count": null,
      "outputs": []
    },
    {
      "cell_type": "markdown",
      "source": [
        "**[숙제]** 아래의 코드의 뜻을 말해 주세요."
      ],
      "metadata": {
        "id": "CwYuzZ4lzwqj"
      }
    },
    {
      "cell_type": "code",
      "source": [
        "subset1 = df2.loc[:,['year' ,'pop']]\n",
        "\n",
        "print(subset1.head() )\n",
        "\n",
        "\n",
        "subset2 = df2.iloc[:,[2,4,-1]]\n",
        "\n",
        "print(subset2.head() )"
      ],
      "metadata": {
        "id": "IfE75fAGY_w-"
      },
      "execution_count": null,
      "outputs": []
    },
    {
      "cell_type": "markdown",
      "source": [
        "**[숙제]** 아래의 코드의 뜻을 말해 주세요."
      ],
      "metadata": {
        "id": "rHGOvnWKz7SU"
      }
    },
    {
      "cell_type": "code",
      "source": [
        "subset3 = df2.iloc[:,range(0,6,2)]\n",
        "\n",
        "print(subset3.head() )\n",
        "\n",
        "subset4 = df2.iloc[:, 0:6:2]\n",
        "\n",
        "print(subset4.head() )\n"
      ],
      "metadata": {
        "id": "U0V-OkztbTjd"
      },
      "execution_count": null,
      "outputs": []
    },
    {
      "cell_type": "markdown",
      "source": [
        "**[숙제]** 아래의 코드의 뜻을 말해 주세요."
      ],
      "metadata": {
        "id": "bmXPajiu0BPs"
      }
    },
    {
      "cell_type": "code",
      "source": [
        "print(df2.iloc[[0,99,999],[0,3,5]])  \n",
        "\n",
        "print(df2.loc[10:13,['country','lifeExp','gdpPercap']])"
      ],
      "metadata": {
        "id": "ANamAXiXEsfv"
      },
      "execution_count": null,
      "outputs": []
    },
    {
      "cell_type": "markdown",
      "source": [
        "**[숙제]** 아래의 코드의 뜻을 말해 주세요. "
      ],
      "metadata": {
        "id": "WDn6RW4H0CcP"
      }
    },
    {
      "cell_type": "code",
      "source": [
        "### groupby()\n",
        "\n",
        "print(df2.head(n=10))\n",
        "\n",
        "\n",
        "print(df2.groupby('year')['lifeExp'].mean())"
      ],
      "metadata": {
        "id": "uotyvwnRF8gC"
      },
      "execution_count": null,
      "outputs": []
    },
    {
      "cell_type": "markdown",
      "source": [
        "**[숙제]** 아래의 코드의 뜻을 말해 주세요."
      ],
      "metadata": {
        "id": "MPKXEUvt0Fkz"
      }
    },
    {
      "cell_type": "code",
      "source": [
        "### 위의 코드를 풀어서 설명하면...\n",
        "\n",
        "df2_groupby_year = df2.groupby('year')\n",
        "print(df2_groupby_year)\n",
        "##print(df2_groupby_year.head())\n",
        "\n",
        "too_long = df2_groupby_year['lifeExp']\n",
        "\n",
        "too_long.mean()\n",
        "\n"
      ],
      "metadata": {
        "id": "3Jl_OS9lLT1K"
      },
      "execution_count": null,
      "outputs": []
    },
    {
      "cell_type": "markdown",
      "source": [
        "**[숙제]** 아래의 코드의 뜻을 말해 주세요.\n",
        "\n",
        "이것은 매우 중요합니다."
      ],
      "metadata": {
        "id": "nuIx4RVvw3pn"
      }
    },
    {
      "cell_type": "code",
      "source": [
        "print(df2.groupby('continent')['country'].nunique())"
      ],
      "metadata": {
        "id": "tJX-we2yM9q9"
      },
      "execution_count": null,
      "outputs": []
    },
    {
      "cell_type": "markdown",
      "source": [
        "**[숙제]** 아래의 코드의 뜻을 말해 주세요."
      ],
      "metadata": {
        "id": "23S7_LaD0Q9y"
      }
    },
    {
      "cell_type": "code",
      "source": [
        "### matplotlib inline <==jupyter notebook용 그래프그리기 __매직함수magic method__\n",
        "\n",
        "\n",
        "import matplotlib.pyplot as plt\n",
        "\n",
        "year_lifeExpectancy = df2.groupby('year')['lifeExp'].mean()\n",
        "\n",
        "print(year_lifeExpectancy)\n",
        "\n",
        "year_lifeExpectancy.plot()\n",
        "\n",
        "plt.show()\n",
        "\n",
        "plt.plot(year_lifeExpectancy,'or')"
      ],
      "metadata": {
        "id": "n69mE3DRNZqC"
      },
      "execution_count": null,
      "outputs": []
    },
    {
      "cell_type": "markdown",
      "source": [
        "**[숙제]** 아래의 코드의 뜻을 말해 주세요."
      ],
      "metadata": {
        "id": "GMmF9JPm0Tvw"
      }
    },
    {
      "cell_type": "code",
      "source": [
        "import pandas as pd\n",
        "\n",
        "A_series = pd.Series(['와','어이',123 ])\n",
        "\n",
        "print(A_series)\n",
        "\n",
        "print('')\n",
        "\n",
        "B_series = pd.Series(['우와','자동차',123 ], index = [\"감탄사\",\"명사\", '숫자'])\n",
        "\n",
        "print(B_series)"
      ],
      "metadata": {
        "id": "r-VoXa-Jn0bT"
      },
      "execution_count": null,
      "outputs": []
    },
    {
      "cell_type": "markdown",
      "source": [
        "**[숙제]** 아래의 코드의 뜻을 말해 주세요."
      ],
      "metadata": {
        "id": "fMdgWHOu0Vca"
      }
    },
    {
      "cell_type": "code",
      "source": [
        "\n",
        "A_D_frame = pd.DataFrame({ \n",
        "    '이름':['뽀로로', '포비', '에디' ],\n",
        "    '키(m)':[1.2 , 2.1, 1.4],\n",
        "    '몸무게': ['가벼움', '무거움', '보통'],\n",
        "    '인기': ['많음', '보통', '보통']}\n",
        ")\n",
        "\n",
        "print(A_D_frame)\n"
      ],
      "metadata": {
        "id": "YeTPCJJJpPGs"
      },
      "execution_count": null,
      "outputs": []
    },
    {
      "cell_type": "markdown",
      "source": [
        "**[숙제]** 아래의 코드의 뜻을 말해 주세요."
      ],
      "metadata": {
        "id": "3S8kV1w80YUG"
      }
    },
    {
      "cell_type": "code",
      "source": [
        "\n",
        "\n",
        "B_D_frame = pd.DataFrame(\n",
        "    data={ '키(m)':[1.2 , 2.1, 1.4],\n",
        "          '몸무게': ['가벼움', '무거움', '보통'],\n",
        "          '인기': ['많음', '보통', '보통']},\n",
        "    index= ['뽀로로', '포비', '에디'],\n",
        "    columns=[\"키(m)\",\"몸무게\",\"인기\"]\n",
        ")\n",
        "\n",
        "print(B_D_frame)\n"
      ],
      "metadata": {
        "id": "Tt1FZQiIrDvo"
      },
      "execution_count": null,
      "outputs": []
    },
    {
      "cell_type": "markdown",
      "source": [
        "**[숙제]** 아래의 코드의 뜻을 말해 주세요."
      ],
      "metadata": {
        "id": "xSBjuGDL0a7X"
      }
    },
    {
      "cell_type": "code",
      "source": [
        "\n",
        "\n",
        "from collections import OrderedDict\n",
        "\n",
        "C_D_frame = pd.DataFrame(OrderedDict([\n",
        "    ('이름',['뽀로로', '포비', '에디' ]),\n",
        "    ('키(m)',[1.2 , 2.1, 1.4]),\n",
        "    ('몸무게', ['가벼움', '무거움', '보통']),\n",
        "    ('인기', ['많음', '보통', '보통'])\n",
        "])\n",
        ")\n",
        "\n",
        "print(C_D_frame)"
      ],
      "metadata": {
        "id": "kwgBvdrosFMk"
      },
      "execution_count": null,
      "outputs": []
    },
    {
      "cell_type": "markdown",
      "source": [
        "**[숙제]** 아래의 코드의 뜻을 말해 주세요."
      ],
      "metadata": {
        "id": "HZa28ire0dLQ"
      }
    },
    {
      "cell_type": "code",
      "source": [
        "D_D_frame = pd.DataFrame(\n",
        "    data={ '키(m)':[1.2 , 2.1, 1.4],\n",
        "          '몸무게': ['가벼움', '무거움', '보통'],\n",
        "          '인기': ['많음', '보통', '보통']},\n",
        "    index= ['뽀로로', '포비', '에디'],\n",
        "    columns=[\"키(m)\",\"몸무게\",\"인기\"]\n",
        ")\n",
        "\n",
        "first_row = D_D_frame.loc['뽀로로']\n",
        "\n",
        "print(first_row)"
      ],
      "metadata": {
        "id": "yXZREp1ii5lE"
      },
      "execution_count": null,
      "outputs": []
    },
    {
      "cell_type": "markdown",
      "source": [
        "**[숙제]** 아래의 코드의 뜻을 말해 주세요."
      ],
      "metadata": {
        "id": "ZU1Vc4xO0gH3"
      }
    },
    {
      "cell_type": "code",
      "source": [
        "\n",
        "\n",
        "print(first_row.index)"
      ],
      "metadata": {
        "id": "5O3VN-F9m4tm"
      },
      "execution_count": null,
      "outputs": []
    },
    {
      "cell_type": "markdown",
      "source": [
        "**[숙제]** 아래의 코드의 뜻을 말해 주세요."
      ],
      "metadata": {
        "id": "inzM6TGl0jJ2"
      }
    },
    {
      "cell_type": "code",
      "source": [
        "print(first_row.values)\n",
        "\n"
      ],
      "metadata": {
        "id": "M2rZVb-lxTl2"
      },
      "execution_count": null,
      "outputs": []
    },
    {
      "cell_type": "markdown",
      "source": [
        "**[숙제]** 아래의 코드의 뜻을 말해 주세요."
      ],
      "metadata": {
        "id": "vZEkxUoX0k7Y"
      }
    },
    {
      "cell_type": "code",
      "source": [
        "print(first_row.keys())\n",
        "\n"
      ],
      "metadata": {
        "id": "rJNowyQWxVoA"
      },
      "execution_count": null,
      "outputs": []
    },
    {
      "cell_type": "markdown",
      "source": [
        "**[숙제]** 아래의 코드의 뜻을 말해 주세요."
      ],
      "metadata": {
        "id": "qLMaWsq90nCU"
      }
    },
    {
      "cell_type": "code",
      "source": [
        "print(first_row.index[0])\n",
        "\n",
        "print(first_row.keys()[1])\n",
        "\n",
        "print(first_row.values[1])"
      ],
      "metadata": {
        "id": "UWHNoCvDxdP5"
      },
      "execution_count": null,
      "outputs": []
    },
    {
      "cell_type": "markdown",
      "source": [
        "**[숙제]** 아래의 코드의 뜻을 말해 주세요."
      ],
      "metadata": {
        "id": "g8-ju8LT0oCb"
      }
    },
    {
      "cell_type": "code",
      "source": [
        "height=D_D_frame['키(m)']\n",
        "\n",
        "print(height)\n",
        "\n",
        "print(height.max())\n",
        "\n",
        "print(height.min())\n",
        "\n",
        "print(height.mean())\n",
        "\n",
        "print(height.std())  # standard deviation = std"
      ],
      "metadata": {
        "id": "gG1cZ4FEoADG"
      },
      "execution_count": null,
      "outputs": []
    },
    {
      "cell_type": "markdown",
      "source": [
        "**[숙제]** 아래의 코드의 뜻을 말해 주세요."
      ],
      "metadata": {
        "id": "fPtTFvWP0qOc"
      }
    },
    {
      "cell_type": "code",
      "source": [
        "import pandas as pd\n",
        "\n",
        "targetUrl_sci= \"https://raw.githubusercontent.com/gundaminpde/2022/main/scientists.csv\"\n",
        "\n",
        "scientists = pd.read_csv(targetUrl_sci)\n",
        "\n",
        "scientists.head(n=10)\n"
      ],
      "metadata": {
        "id": "gnbJBvBTtZvg"
      },
      "execution_count": null,
      "outputs": []
    },
    {
      "cell_type": "markdown",
      "source": [
        "**[숙제]** 아래의 코드의 뜻을 말해 주세요."
      ],
      "metadata": {
        "id": "FZpp0GOX0rtq"
      }
    },
    {
      "cell_type": "code",
      "source": [
        "ages = scientists['Age']\n",
        "\n",
        "print(ages.max())\n",
        "print(ages.mean())\n",
        "\n"
      ],
      "metadata": {
        "id": "4jA4EnjNwmor"
      },
      "execution_count": null,
      "outputs": []
    },
    {
      "cell_type": "markdown",
      "source": [
        "**[숙제]** 아래의 코드의 뜻을 말해 주세요.\n",
        "\n",
        "아주 중요해요."
      ],
      "metadata": {
        "id": "F_l7vPwz0tRz"
      }
    },
    {
      "cell_type": "code",
      "source": [
        "print(ages[ages > ages.mean()])\n",
        "\n",
        "print(ages > ages.mean())"
      ],
      "metadata": {
        "id": "-XwpKfZ9xlwz"
      },
      "execution_count": null,
      "outputs": []
    },
    {
      "cell_type": "markdown",
      "source": [
        "**[숙제]** 아래의 코드의 뜻을 말해 주세요.\n",
        "\n",
        "아주 중요해요."
      ],
      "metadata": {
        "id": "pd0v-N110vRr"
      }
    },
    {
      "cell_type": "code",
      "source": [
        "print(scientists[ scientists['Age'] > scientists['Age'].mean() ]) ## 불린 추출"
      ],
      "metadata": {
        "id": "iBhbzCOXzH_F"
      },
      "execution_count": null,
      "outputs": []
    },
    {
      "cell_type": "markdown",
      "source": [
        "**[숙제]** 아래의 코드의 뜻을 말해 주세요."
      ],
      "metadata": {
        "id": "NG1QcpBO036Z"
      }
    },
    {
      "cell_type": "code",
      "source": [
        "print(scientists['Age'])\n",
        "\n",
        "print(scientists['Born'].dtype) \n",
        "\n",
        "print(scientists['Died'].dtype)"
      ],
      "metadata": {
        "id": "4C1GttV7E0wI"
      },
      "execution_count": null,
      "outputs": []
    },
    {
      "cell_type": "markdown",
      "source": [
        "**[숙제]** 아래의 코드의 뜻을 말해 주세요.\n",
        "\n",
        "날짜에 관한 것입니다. 유의하세요."
      ],
      "metadata": {
        "id": "ZC-KZEsZ0_L_"
      }
    },
    {
      "cell_type": "code",
      "source": [
        "\n",
        "\n",
        "born_datetime = pd.to_datetime(scientists['Born'],format='%Y-%m-%d')\n",
        "\n",
        "print(born_datetime)\n",
        "\n",
        "changed_one=born_datetime.dt.strftime('%m/%d/%Y')\n",
        "\n",
        "print(changed_one)\n",
        "\n"
      ],
      "metadata": {
        "id": "mYtDG30VGIo3"
      },
      "execution_count": null,
      "outputs": []
    },
    {
      "cell_type": "markdown",
      "source": [
        "**[숙제]** 아래의 코드의 뜻을 말해 주세요."
      ],
      "metadata": {
        "id": "1O_GYKHh1EuJ"
      }
    },
    {
      "cell_type": "code",
      "source": [
        "\n",
        "died_datatime = pd.to_datetime(scientists['Died'],format='%Y-%m-%d')\n",
        "\n",
        "print(died_datatime)\n",
        "\n",
        "scientists['Born_dt'], scientists['Died_dt'] = (born_datetime, died_datatime)\n",
        "\n",
        "\n",
        "print(scientists.head())\n",
        "\n"
      ],
      "metadata": {
        "id": "LXTrLNcH0hKk"
      },
      "execution_count": null,
      "outputs": []
    },
    {
      "cell_type": "markdown",
      "source": [
        "**[숙제]** 아래의 코드의 뜻을 말해 주세요."
      ],
      "metadata": {
        "id": "qgEz_JwR1Gqz"
      }
    },
    {
      "cell_type": "code",
      "source": [
        "scientists['life_days'] =  scientists['Died_dt'] - scientists['Born_dt']\n",
        "\n",
        "print(scientists)"
      ],
      "metadata": {
        "id": "brJk0PdKHNVp"
      },
      "execution_count": null,
      "outputs": []
    },
    {
      "cell_type": "markdown",
      "source": [
        "**[숙제]** 아래의 코드의 뜻을 말해 주세요."
      ],
      "metadata": {
        "id": "LzLp9zbb1Hde"
      }
    },
    {
      "cell_type": "code",
      "source": [
        "print(scientists['Age'])\n",
        "\n",
        "import random\n",
        "\n",
        "random.seed(2)\n",
        "\n",
        "random.shuffle(scientists['Age'])\n",
        "\n",
        "print(scientists['Age'])\n",
        "\n",
        "print(scientists.iloc[:,0:4])\n"
      ],
      "metadata": {
        "id": "IPc_d5tfH4rL"
      },
      "execution_count": null,
      "outputs": []
    },
    {
      "cell_type": "markdown",
      "source": [
        "**[숙제]** 아래의 코드의 뜻을 말해 주세요."
      ],
      "metadata": {
        "id": "8mbswdv-1k4B"
      }
    },
    {
      "cell_type": "code",
      "source": [
        "## 피클로 만들어 저장하고 꺼내오기.\n",
        "\n",
        "import os\n",
        "\n",
        "print(os.getcwd())\n",
        "\n",
        "os.chdir('/content/')\n",
        "\n",
        "names = scientists['Name']\n",
        "\n",
        "names.to_pickle('../content/scientists_names.pickle')\n",
        "\n",
        "return_names = pd.read_pickle('../content//scientists_names.pickle')\n",
        "\n",
        "print(return_names)"
      ],
      "metadata": {
        "id": "ZNEu9PUNIngb"
      },
      "execution_count": null,
      "outputs": []
    },
    {
      "cell_type": "markdown",
      "source": [
        "**[숙제]** 아래의 코드의 뜻을 말해 주세요."
      ],
      "metadata": {
        "id": "b1Vd9H3f1sH2"
      }
    },
    {
      "cell_type": "code",
      "source": [
        "\n",
        "\n",
        "import seaborn as sns\n",
        "\n",
        "targetUrl_iris=\"https://raw.githubusercontent.com/gundaminpde/2022/main/iris.csv\"\n",
        "\n",
        "irisData = pd.read_csv(targetUrl_iris)\n",
        "\n",
        "print(irisData.shape)\n",
        "\n",
        "print(irisData.head())\n",
        "\n",
        "irisData.tail()"
      ],
      "metadata": {
        "id": "iop1fh39My9q"
      },
      "execution_count": null,
      "outputs": []
    },
    {
      "cell_type": "markdown",
      "source": [
        "**[숙제]** 아래의 코드의 뜻을 말해 주세요."
      ],
      "metadata": {
        "id": "q49qumhk1uCa"
      }
    },
    {
      "cell_type": "code",
      "source": [
        "sns.set_theme()\n",
        "sns.set(rc={\"figure.dpi\":300}) #이미지 품질 설정\n",
        "sns.set(rc={\"figure.figsize\":(6,3)}) ## 크기설정\n",
        "\n",
        "\n",
        "## Scatter plot 산점도\n",
        "\n",
        "sns.scatterplot(x=\"Sepal_Length\", y =\"Sepal_Width\", data=irisData, hue ='Species')"
      ],
      "metadata": {
        "id": "BAK30n_8X8ak"
      },
      "execution_count": null,
      "outputs": []
    },
    {
      "cell_type": "markdown",
      "source": [
        "**[숙제]** 아래의 코드의 뜻을 말해 주세요."
      ],
      "metadata": {
        "id": "z--Uolco1vwF"
      }
    },
    {
      "cell_type": "code",
      "source": [
        "## 히스토그램 histogram\n",
        "\n",
        "sns.histplot( y= \"Petal_Length\", data = irisData)\n"
      ],
      "metadata": {
        "id": "FxivfMEoaekB"
      },
      "execution_count": null,
      "outputs": []
    },
    {
      "cell_type": "markdown",
      "source": [
        "**[숙제]** 아래의 코드의 뜻을 말해 주세요."
      ],
      "metadata": {
        "id": "ZfxxbyF01xDr"
      }
    },
    {
      "cell_type": "code",
      "source": [
        "sns.histplot( x= \"Petal_Length\", data = irisData)"
      ],
      "metadata": {
        "id": "VxyIcQ0dbORD"
      },
      "execution_count": null,
      "outputs": []
    },
    {
      "cell_type": "markdown",
      "source": [
        "**[숙제]** 아래의 코드의 뜻을 말해 주세요."
      ],
      "metadata": {
        "id": "6hL7B1HA1yo3"
      }
    },
    {
      "cell_type": "code",
      "source": [
        "sns.histplot( x= \"Petal_Length\", data = irisData, kde = \"True\")"
      ],
      "metadata": {
        "id": "6FCUgFE4bpB9"
      },
      "execution_count": null,
      "outputs": []
    },
    {
      "cell_type": "markdown",
      "source": [
        "**[숙제]** 아래의 코드의 뜻을 말해 주세요."
      ],
      "metadata": {
        "id": "3TgGyvW111YB"
      }
    },
    {
      "cell_type": "code",
      "source": [
        "sns.histplot( x= \"Petal_Length\", data = irisData, hue = \"Species\")"
      ],
      "metadata": {
        "id": "yCyw1lmYbzFT"
      },
      "execution_count": null,
      "outputs": []
    },
    {
      "cell_type": "markdown",
      "source": [
        "**[숙제]** 아래의 코드의 뜻을 말해 주세요."
      ],
      "metadata": {
        "id": "bynenrwQ13Qp"
      }
    },
    {
      "cell_type": "code",
      "source": [
        "## Barplot : 숫자 변수의 경향 추청치를 보여준다.\n",
        "\n",
        "sns.barplot(x=\"Species\", y=\"Petal_Width\", data =irisData)\n",
        "\n"
      ],
      "metadata": {
        "id": "GzPTo_z4cHSG"
      },
      "execution_count": null,
      "outputs": []
    },
    {
      "cell_type": "markdown",
      "source": [
        "**[숙제]** 아래의 코드의 뜻을 말해 주세요."
      ],
      "metadata": {
        "id": "nHXli0CL14SP"
      }
    },
    {
      "cell_type": "code",
      "source": [
        "## Box plot\n",
        "\n",
        "sns.boxplot(x=\"Species\", y=\"Sepal_Length\", data=irisData)"
      ],
      "metadata": {
        "id": "ErjPh8qddkCN"
      },
      "execution_count": null,
      "outputs": []
    },
    {
      "cell_type": "code",
      "source": [
        " ## sns.boxplot(x=\"Species\", y=\"Sepal_Length\", data=irisData, hue=\"group\") data에 group이 없다."
      ],
      "metadata": {
        "id": "iuphvhnceFnn"
      },
      "execution_count": null,
      "outputs": []
    }
  ]
}