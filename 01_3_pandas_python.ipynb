{
  "nbformat": 4,
  "nbformat_minor": 0,
  "metadata": {
    "colab": {
      "provenance": [],
      "authorship_tag": "ABX9TyPrfBOYChQ41+WD+KgB11Ms",
      "include_colab_link": true
    },
    "kernelspec": {
      "name": "python3",
      "display_name": "Python 3"
    },
    "language_info": {
      "name": "python"
    }
  },
  "cells": [
    {
      "cell_type": "markdown",
      "metadata": {
        "id": "view-in-github",
        "colab_type": "text"
      },
      "source": [
        "<a href=\"https://colab.research.google.com/github/gundaminpde/2023-spring/blob/main/01_3_pandas_python.ipynb\" target=\"_parent\"><img src=\"https://colab.research.google.com/assets/colab-badge.svg\" alt=\"Open In Colab\"/></a>"
      ]
    },
    {
      "cell_type": "markdown",
      "source": [
        "This is an almost dupulicate of a tutorial by Dr. Tirthajyoti Sarkar, Fremont, CA, 94536. You can find the original one at https://github.com/tirthajyoti/Machine-Learning-with-Python/blob/master/Pandas%20and%20Numpy/Pandas_Operations.ipynb"
      ],
      "metadata": {
        "id": "5NWPkw8KtgQy"
      }
    },
    {
      "cell_type": "markdown",
      "source": [
        "# **Series**\n",
        "\n",
        "# Loading packages and initializations"
      ],
      "metadata": {
        "id": "5eVT6KwUt5ju"
      }
    },
    {
      "cell_type": "code",
      "execution_count": 1,
      "metadata": {
        "id": "1LI8iAH2tfk_",
        "colab": {
          "base_uri": "https://localhost:8080/"
        },
        "outputId": "71d39356-4cb5-469f-e0e9-6874fc27d043"
      },
      "outputs": [
        {
          "output_type": "stream",
          "name": "stdout",
          "text": [
            "Labels: ['a', 'b', 'c']\n",
            "My data: [10, 20, 30]\n",
            "Dictionary: {'a': 10, 'b': 20, 'c': 30}\n"
          ]
        }
      ],
      "source": [
        "import numpy as np\n",
        "import pandas as pd\n",
        "\n",
        "labels = ['a','b','c']\n",
        "my_data = [10,20,30]\n",
        "\n",
        "arr = np.array(my_data)\n",
        "\n",
        "d = {'a':10,'b':20,'c':30}\n",
        "\n",
        "print (\"Labels:\", labels)\n",
        "print(\"My data:\", my_data)\n",
        "print(\"Dictionary:\", d)"
      ]
    },
    {
      "cell_type": "markdown",
      "source": [
        "# Creating a Series (Pandas class)"
      ],
      "metadata": {
        "id": "_cyRpN4NQXNI"
      }
    },
    {
      "cell_type": "code",
      "source": [
        "pd.Series(data=my_data) # Output looks very similar to a NumPy array"
      ],
      "metadata": {
        "colab": {
          "base_uri": "https://localhost:8080/"
        },
        "id": "TChLmmSFQexF",
        "outputId": "b7ceeede-b5a5-4b4c-d9d5-d081fd1ad359"
      },
      "execution_count": 2,
      "outputs": [
        {
          "output_type": "execute_result",
          "data": {
            "text/plain": [
              "0    10\n",
              "1    20\n",
              "2    30\n",
              "dtype: int64"
            ]
          },
          "metadata": {},
          "execution_count": 2
        }
      ]
    },
    {
      "cell_type": "code",
      "source": [
        "pd.Series(data=my_data, index=labels) # Note the extra information about index"
      ],
      "metadata": {
        "colab": {
          "base_uri": "https://localhost:8080/"
        },
        "id": "192aH1_QQp_c",
        "outputId": "023818a4-121a-4dbf-ad90-bbde7d2b7e45"
      },
      "execution_count": 3,
      "outputs": [
        {
          "output_type": "execute_result",
          "data": {
            "text/plain": [
              "a    10\n",
              "b    20\n",
              "c    30\n",
              "dtype: int64"
            ]
          },
          "metadata": {},
          "execution_count": 3
        }
      ]
    },
    {
      "cell_type": "code",
      "source": [
        "# Inputs are in order of the expected parameters (not explicitly named), NumPy array is used for data\n",
        "pd.Series(arr, labels)"
      ],
      "metadata": {
        "colab": {
          "base_uri": "https://localhost:8080/"
        },
        "id": "dy-jHFu5Qu2i",
        "outputId": "5d9d465e-9edb-4b62-cdaf-3bb2ffee8675"
      },
      "execution_count": 4,
      "outputs": [
        {
          "output_type": "execute_result",
          "data": {
            "text/plain": [
              "a    10\n",
              "b    20\n",
              "c    30\n",
              "dtype: int64"
            ]
          },
          "metadata": {},
          "execution_count": 4
        }
      ]
    },
    {
      "cell_type": "code",
      "source": [
        "pd.Series(d) # Using a pre-defined Dictionary object\n"
      ],
      "metadata": {
        "colab": {
          "base_uri": "https://localhost:8080/"
        },
        "id": "4iaOWU3UQ2Jp",
        "outputId": "8bed59b3-abad-48be-d833-bff2c211bb7c"
      },
      "execution_count": 5,
      "outputs": [
        {
          "output_type": "execute_result",
          "data": {
            "text/plain": [
              "a    10\n",
              "b    20\n",
              "c    30\n",
              "dtype: int64"
            ]
          },
          "metadata": {},
          "execution_count": 5
        }
      ]
    },
    {
      "cell_type": "markdown",
      "source": [
        "# What type of values can a Pandas Series hold?"
      ],
      "metadata": {
        "id": "Rff6yG6EQ_iv"
      }
    },
    {
      "cell_type": "code",
      "source": [
        "print (\"\\nHolding numerical data\\n\",'-'*25, sep='')\n",
        "print(pd.Series(arr))\n",
        "\n",
        "print (\"\\nHolding text labels\\n\",'-'*20, sep='')\n",
        "print(pd.Series(labels))\n",
        "\n",
        "print (\"\\nHolding functions\\n\",'-'*20, sep='')\n",
        "print(pd.Series(data=[sum,print,len]))\n",
        "\n",
        "print (\"\\nHolding objects from a dictionary\\n\",'-'*40, sep='')\n",
        "print(pd.Series(data=[d.keys, d.items, d.values]))"
      ],
      "metadata": {
        "colab": {
          "base_uri": "https://localhost:8080/"
        },
        "id": "sf18eZliQ--z",
        "outputId": "83fc8a44-393d-4bda-f824-28fceefb6997"
      },
      "execution_count": 6,
      "outputs": [
        {
          "output_type": "stream",
          "name": "stdout",
          "text": [
            "\n",
            "Holding numerical data\n",
            "-------------------------\n",
            "0    10\n",
            "1    20\n",
            "2    30\n",
            "dtype: int64\n",
            "\n",
            "Holding text labels\n",
            "--------------------\n",
            "0    a\n",
            "1    b\n",
            "2    c\n",
            "dtype: object\n",
            "\n",
            "Holding functions\n",
            "--------------------\n",
            "0      <built-in function sum>\n",
            "1    <built-in function print>\n",
            "2      <built-in function len>\n",
            "dtype: object\n",
            "\n",
            "Holding objects from a dictionary\n",
            "----------------------------------------\n",
            "0    <built-in method keys of dict object at 0x7f1d...\n",
            "1    <built-in method items of dict object at 0x7f1...\n",
            "2    <built-in method values of dict object at 0x7f...\n",
            "dtype: object\n"
          ]
        }
      ]
    },
    {
      "cell_type": "markdown",
      "source": [
        "# Indexing and slicing"
      ],
      "metadata": {
        "id": "mMO_qI5ZRph1"
      }
    },
    {
      "cell_type": "code",
      "source": [
        "\n",
        "ser1 = pd.Series([1,2,3,4],['CA', 'OR', 'CO', 'AZ'])\n",
        "ser2 = pd.Series([1,2,5,4],['CA', 'OR', 'NV', 'AZ'])\n",
        "\n",
        "print (\"\\nIndexing by name of the item/object (string identifier)\\n\",'-'*56, sep='')\n",
        "print(\"Value for CA in ser1:\", ser1['CA'])\n",
        "print(\"Value for AZ in ser1:\", ser1['AZ'])\n",
        "print(\"Value for NV in ser2:\", ser2['NV'])\n",
        "\n",
        "print (\"\\nIndexing by number (positional value in the series)\\n\",'-'*52, sep='')\n",
        "print(\"Value for CA in ser1:\", ser1[0])\n",
        "print(\"Value for AZ in ser1:\", ser1[3])\n",
        "print(\"Value for NV in ser2:\", ser2[2])\n",
        "\n",
        "print (\"\\nIndexing by a range\\n\",'-'*25, sep='')\n",
        "print (\"Value for OR, CO, and AZ in ser1:\\n\", ser1[1:4], sep='')\n",
        "\n",
        "\n",
        "print (\"\\nHead of ser1\\n\",'-'*25, sep='')\n",
        "print (\"Head of ser1:\\n\", ser1.head(), sep='')"
      ],
      "metadata": {
        "colab": {
          "base_uri": "https://localhost:8080/"
        },
        "id": "OblRigPHRlR3",
        "outputId": "2768f35f-ce8e-4793-c04b-35b3757f7191"
      },
      "execution_count": 9,
      "outputs": [
        {
          "output_type": "stream",
          "name": "stdout",
          "text": [
            "\n",
            "Indexing by name of the item/object (string identifier)\n",
            "--------------------------------------------------------\n",
            "Value for CA in ser1: 1\n",
            "Value for AZ in ser1: 4\n",
            "Value for NV in ser2: 5\n",
            "\n",
            "Indexing by number (positional value in the series)\n",
            "----------------------------------------------------\n",
            "Value for CA in ser1: 1\n",
            "Value for AZ in ser1: 4\n",
            "Value for NV in ser2: 5\n",
            "\n",
            "Indexing by a range\n",
            "-------------------------\n",
            "Value for OR, CO, and AZ in ser1:\n",
            "OR    2\n",
            "CO    3\n",
            "AZ    4\n",
            "dtype: int64\n",
            "\n",
            "Head of ser1\n",
            "-------------------------\n",
            "Head of ser1:\n",
            "CA    1\n",
            "OR    2\n",
            "CO    3\n",
            "AZ    4\n",
            "dtype: int64\n"
          ]
        }
      ]
    },
    {
      "cell_type": "markdown",
      "source": [
        "# Adding/Merging two series with common indices"
      ],
      "metadata": {
        "id": "FeIOIAZ3Sm1P"
      }
    },
    {
      "cell_type": "code",
      "source": [
        "ser1 = pd.Series([1,2,3,4],['CA', 'OR', 'CO', 'AZ'])\n",
        "ser2 = pd.Series([1,2,5,4],['CA', 'OR', 'NV', 'AZ'])\n",
        "ser3 = ser1+ser2\n",
        "\n",
        "print (\"\\nAfter adding the two series, the result looks like this...\\n\",'-'*59, sep='')\n",
        "print(ser3)\n",
        "\n",
        "print(\"\\nPython tries to add values where it finds common index name, and puts NaN where indices are missing\\n\")\n",
        "\n",
        "print (\"\\nThe idea works even for multiplication...\\n\",'-'*43, sep='')\n",
        "print (ser1*ser2)\n",
        "\n",
        "print (\"\\nOr even for combination of mathematical operations!\\n\",'-'*53, sep='')\n",
        "print (np.exp(ser1)+np.log10(ser2))"
      ],
      "metadata": {
        "colab": {
          "base_uri": "https://localhost:8080/"
        },
        "id": "F1GUfEuXSo_4",
        "outputId": "0596a7d5-0ffb-4a67-8c75-ceebc7d5fa3b"
      },
      "execution_count": 10,
      "outputs": [
        {
          "output_type": "stream",
          "name": "stdout",
          "text": [
            "\n",
            "After adding the two series, the result looks like this...\n",
            "-----------------------------------------------------------\n",
            "AZ    8.0\n",
            "CA    2.0\n",
            "CO    NaN\n",
            "NV    NaN\n",
            "OR    4.0\n",
            "dtype: float64\n",
            "\n",
            "Python tries to add values where it finds common index name, and puts NaN where indices are missing\n",
            "\n",
            "\n",
            "The idea works even for multiplication...\n",
            "-------------------------------------------\n",
            "AZ    16.0\n",
            "CA     1.0\n",
            "CO     NaN\n",
            "NV     NaN\n",
            "OR     4.0\n",
            "dtype: float64\n",
            "\n",
            "Or even for combination of mathematical operations!\n",
            "-----------------------------------------------------\n",
            "AZ    55.200210\n",
            "CA     2.718282\n",
            "CO          NaN\n",
            "NV          NaN\n",
            "OR     7.690086\n",
            "dtype: float64\n"
          ]
        }
      ]
    },
    {
      "cell_type": "markdown",
      "source": [
        "# **DataFrame** "
      ],
      "metadata": {
        "id": "cNFutIhETHrY"
      }
    },
    {
      "cell_type": "code",
      "source": [
        "from numpy.random import randn as rn\n"
      ],
      "metadata": {
        "id": "eVEa-ZhWTPxV"
      },
      "execution_count": 12,
      "outputs": []
    },
    {
      "cell_type": "markdown",
      "source": [
        "# Creating and accessing DataFrame\n",
        "\n",
        "*   Indexing\n",
        "*   Adding and deleting rows and columns\n",
        "*   Subsetting DataFrame\n",
        "\n"
      ],
      "metadata": {
        "id": "FnbACHlxTUL9"
      }
    },
    {
      "cell_type": "code",
      "source": [
        "np.random.seed(101)\n",
        "\n",
        "matrix_data = rn(5,4)\n",
        "row_labels = ['A','B','C','D','E']\n",
        "column_headings = ['W','X','Y','Z']\n",
        "\n",
        "df = pd.DataFrame(data=matrix_data, index=row_labels, columns=column_headings)\n",
        "print(\"\\nThe data frame looks like\\n\",'-'*45, sep='')\n",
        "print(df)"
      ],
      "metadata": {
        "colab": {
          "base_uri": "https://localhost:8080/"
        },
        "id": "_8wpo3rBTlhC",
        "outputId": "28d13999-28d8-464f-abbf-5407f0054519"
      },
      "execution_count": 13,
      "outputs": [
        {
          "output_type": "stream",
          "name": "stdout",
          "text": [
            "\n",
            "The data frame looks like\n",
            "---------------------------------------------\n",
            "          W         X         Y         Z\n",
            "A  2.706850  0.628133  0.907969  0.503826\n",
            "B  0.651118 -0.319318 -0.848077  0.605965\n",
            "C -2.018168  0.740122  0.528813 -0.589001\n",
            "D  0.188695 -0.758872 -0.933237  0.955057\n",
            "E  0.190794  1.978757  2.605967  0.683509\n"
          ]
        }
      ]
    },
    {
      "cell_type": "code",
      "source": [
        "df.head(n=3)"
      ],
      "metadata": {
        "colab": {
          "base_uri": "https://localhost:8080/",
          "height": 143
        },
        "id": "fZ4gvvfOUglP",
        "outputId": "3fa9d08b-518b-45e9-96ab-34343f6ea88d"
      },
      "execution_count": 19,
      "outputs": [
        {
          "output_type": "execute_result",
          "data": {
            "text/plain": [
              "          W         X         Y         Z\n",
              "A  2.706850  0.628133  0.907969  0.503826\n",
              "B  0.651118 -0.319318 -0.848077  0.605965\n",
              "C -2.018168  0.740122  0.528813 -0.589001"
            ],
            "text/html": [
              "\n",
              "  <div id=\"df-2a630953-93e4-4dcb-bd1c-5f24111ad1bb\">\n",
              "    <div class=\"colab-df-container\">\n",
              "      <div>\n",
              "<style scoped>\n",
              "    .dataframe tbody tr th:only-of-type {\n",
              "        vertical-align: middle;\n",
              "    }\n",
              "\n",
              "    .dataframe tbody tr th {\n",
              "        vertical-align: top;\n",
              "    }\n",
              "\n",
              "    .dataframe thead th {\n",
              "        text-align: right;\n",
              "    }\n",
              "</style>\n",
              "<table border=\"1\" class=\"dataframe\">\n",
              "  <thead>\n",
              "    <tr style=\"text-align: right;\">\n",
              "      <th></th>\n",
              "      <th>W</th>\n",
              "      <th>X</th>\n",
              "      <th>Y</th>\n",
              "      <th>Z</th>\n",
              "    </tr>\n",
              "  </thead>\n",
              "  <tbody>\n",
              "    <tr>\n",
              "      <th>A</th>\n",
              "      <td>2.706850</td>\n",
              "      <td>0.628133</td>\n",
              "      <td>0.907969</td>\n",
              "      <td>0.503826</td>\n",
              "    </tr>\n",
              "    <tr>\n",
              "      <th>B</th>\n",
              "      <td>0.651118</td>\n",
              "      <td>-0.319318</td>\n",
              "      <td>-0.848077</td>\n",
              "      <td>0.605965</td>\n",
              "    </tr>\n",
              "    <tr>\n",
              "      <th>C</th>\n",
              "      <td>-2.018168</td>\n",
              "      <td>0.740122</td>\n",
              "      <td>0.528813</td>\n",
              "      <td>-0.589001</td>\n",
              "    </tr>\n",
              "  </tbody>\n",
              "</table>\n",
              "</div>\n",
              "      <button class=\"colab-df-convert\" onclick=\"convertToInteractive('df-2a630953-93e4-4dcb-bd1c-5f24111ad1bb')\"\n",
              "              title=\"Convert this dataframe to an interactive table.\"\n",
              "              style=\"display:none;\">\n",
              "        \n",
              "  <svg xmlns=\"http://www.w3.org/2000/svg\" height=\"24px\"viewBox=\"0 0 24 24\"\n",
              "       width=\"24px\">\n",
              "    <path d=\"M0 0h24v24H0V0z\" fill=\"none\"/>\n",
              "    <path d=\"M18.56 5.44l.94 2.06.94-2.06 2.06-.94-2.06-.94-.94-2.06-.94 2.06-2.06.94zm-11 1L8.5 8.5l.94-2.06 2.06-.94-2.06-.94L8.5 2.5l-.94 2.06-2.06.94zm10 10l.94 2.06.94-2.06 2.06-.94-2.06-.94-.94-2.06-.94 2.06-2.06.94z\"/><path d=\"M17.41 7.96l-1.37-1.37c-.4-.4-.92-.59-1.43-.59-.52 0-1.04.2-1.43.59L10.3 9.45l-7.72 7.72c-.78.78-.78 2.05 0 2.83L4 21.41c.39.39.9.59 1.41.59.51 0 1.02-.2 1.41-.59l7.78-7.78 2.81-2.81c.8-.78.8-2.07 0-2.86zM5.41 20L4 18.59l7.72-7.72 1.47 1.35L5.41 20z\"/>\n",
              "  </svg>\n",
              "      </button>\n",
              "      \n",
              "  <style>\n",
              "    .colab-df-container {\n",
              "      display:flex;\n",
              "      flex-wrap:wrap;\n",
              "      gap: 12px;\n",
              "    }\n",
              "\n",
              "    .colab-df-convert {\n",
              "      background-color: #E8F0FE;\n",
              "      border: none;\n",
              "      border-radius: 50%;\n",
              "      cursor: pointer;\n",
              "      display: none;\n",
              "      fill: #1967D2;\n",
              "      height: 32px;\n",
              "      padding: 0 0 0 0;\n",
              "      width: 32px;\n",
              "    }\n",
              "\n",
              "    .colab-df-convert:hover {\n",
              "      background-color: #E2EBFA;\n",
              "      box-shadow: 0px 1px 2px rgba(60, 64, 67, 0.3), 0px 1px 3px 1px rgba(60, 64, 67, 0.15);\n",
              "      fill: #174EA6;\n",
              "    }\n",
              "\n",
              "    [theme=dark] .colab-df-convert {\n",
              "      background-color: #3B4455;\n",
              "      fill: #D2E3FC;\n",
              "    }\n",
              "\n",
              "    [theme=dark] .colab-df-convert:hover {\n",
              "      background-color: #434B5C;\n",
              "      box-shadow: 0px 1px 3px 1px rgba(0, 0, 0, 0.15);\n",
              "      filter: drop-shadow(0px 1px 2px rgba(0, 0, 0, 0.3));\n",
              "      fill: #FFFFFF;\n",
              "    }\n",
              "  </style>\n",
              "\n",
              "      <script>\n",
              "        const buttonEl =\n",
              "          document.querySelector('#df-2a630953-93e4-4dcb-bd1c-5f24111ad1bb button.colab-df-convert');\n",
              "        buttonEl.style.display =\n",
              "          google.colab.kernel.accessAllowed ? 'block' : 'none';\n",
              "\n",
              "        async function convertToInteractive(key) {\n",
              "          const element = document.querySelector('#df-2a630953-93e4-4dcb-bd1c-5f24111ad1bb');\n",
              "          const dataTable =\n",
              "            await google.colab.kernel.invokeFunction('convertToInteractive',\n",
              "                                                     [key], {});\n",
              "          if (!dataTable) return;\n",
              "\n",
              "          const docLinkHtml = 'Like what you see? Visit the ' +\n",
              "            '<a target=\"_blank\" href=https://colab.research.google.com/notebooks/data_table.ipynb>data table notebook</a>'\n",
              "            + ' to learn more about interactive tables.';\n",
              "          element.innerHTML = '';\n",
              "          dataTable['output_type'] = 'display_data';\n",
              "          await google.colab.output.renderOutput(dataTable, element);\n",
              "          const docLink = document.createElement('div');\n",
              "          docLink.innerHTML = docLinkHtml;\n",
              "          element.appendChild(docLink);\n",
              "        }\n",
              "      </script>\n",
              "    </div>\n",
              "  </div>\n",
              "  "
            ]
          },
          "metadata": {},
          "execution_count": 19
        }
      ]
    },
    {
      "cell_type": "code",
      "source": [
        "df.tail(n=3)"
      ],
      "metadata": {
        "colab": {
          "base_uri": "https://localhost:8080/",
          "height": 143
        },
        "id": "3U3wqqRlUjrg",
        "outputId": "7181a486-10d7-4c93-e75c-242bf9fc41da"
      },
      "execution_count": 20,
      "outputs": [
        {
          "output_type": "execute_result",
          "data": {
            "text/plain": [
              "          W         X         Y         Z\n",
              "C -2.018168  0.740122  0.528813 -0.589001\n",
              "D  0.188695 -0.758872 -0.933237  0.955057\n",
              "E  0.190794  1.978757  2.605967  0.683509"
            ],
            "text/html": [
              "\n",
              "  <div id=\"df-5197a5e2-2a8a-4c24-97f3-5d060494663d\">\n",
              "    <div class=\"colab-df-container\">\n",
              "      <div>\n",
              "<style scoped>\n",
              "    .dataframe tbody tr th:only-of-type {\n",
              "        vertical-align: middle;\n",
              "    }\n",
              "\n",
              "    .dataframe tbody tr th {\n",
              "        vertical-align: top;\n",
              "    }\n",
              "\n",
              "    .dataframe thead th {\n",
              "        text-align: right;\n",
              "    }\n",
              "</style>\n",
              "<table border=\"1\" class=\"dataframe\">\n",
              "  <thead>\n",
              "    <tr style=\"text-align: right;\">\n",
              "      <th></th>\n",
              "      <th>W</th>\n",
              "      <th>X</th>\n",
              "      <th>Y</th>\n",
              "      <th>Z</th>\n",
              "    </tr>\n",
              "  </thead>\n",
              "  <tbody>\n",
              "    <tr>\n",
              "      <th>C</th>\n",
              "      <td>-2.018168</td>\n",
              "      <td>0.740122</td>\n",
              "      <td>0.528813</td>\n",
              "      <td>-0.589001</td>\n",
              "    </tr>\n",
              "    <tr>\n",
              "      <th>D</th>\n",
              "      <td>0.188695</td>\n",
              "      <td>-0.758872</td>\n",
              "      <td>-0.933237</td>\n",
              "      <td>0.955057</td>\n",
              "    </tr>\n",
              "    <tr>\n",
              "      <th>E</th>\n",
              "      <td>0.190794</td>\n",
              "      <td>1.978757</td>\n",
              "      <td>2.605967</td>\n",
              "      <td>0.683509</td>\n",
              "    </tr>\n",
              "  </tbody>\n",
              "</table>\n",
              "</div>\n",
              "      <button class=\"colab-df-convert\" onclick=\"convertToInteractive('df-5197a5e2-2a8a-4c24-97f3-5d060494663d')\"\n",
              "              title=\"Convert this dataframe to an interactive table.\"\n",
              "              style=\"display:none;\">\n",
              "        \n",
              "  <svg xmlns=\"http://www.w3.org/2000/svg\" height=\"24px\"viewBox=\"0 0 24 24\"\n",
              "       width=\"24px\">\n",
              "    <path d=\"M0 0h24v24H0V0z\" fill=\"none\"/>\n",
              "    <path d=\"M18.56 5.44l.94 2.06.94-2.06 2.06-.94-2.06-.94-.94-2.06-.94 2.06-2.06.94zm-11 1L8.5 8.5l.94-2.06 2.06-.94-2.06-.94L8.5 2.5l-.94 2.06-2.06.94zm10 10l.94 2.06.94-2.06 2.06-.94-2.06-.94-.94-2.06-.94 2.06-2.06.94z\"/><path d=\"M17.41 7.96l-1.37-1.37c-.4-.4-.92-.59-1.43-.59-.52 0-1.04.2-1.43.59L10.3 9.45l-7.72 7.72c-.78.78-.78 2.05 0 2.83L4 21.41c.39.39.9.59 1.41.59.51 0 1.02-.2 1.41-.59l7.78-7.78 2.81-2.81c.8-.78.8-2.07 0-2.86zM5.41 20L4 18.59l7.72-7.72 1.47 1.35L5.41 20z\"/>\n",
              "  </svg>\n",
              "      </button>\n",
              "      \n",
              "  <style>\n",
              "    .colab-df-container {\n",
              "      display:flex;\n",
              "      flex-wrap:wrap;\n",
              "      gap: 12px;\n",
              "    }\n",
              "\n",
              "    .colab-df-convert {\n",
              "      background-color: #E8F0FE;\n",
              "      border: none;\n",
              "      border-radius: 50%;\n",
              "      cursor: pointer;\n",
              "      display: none;\n",
              "      fill: #1967D2;\n",
              "      height: 32px;\n",
              "      padding: 0 0 0 0;\n",
              "      width: 32px;\n",
              "    }\n",
              "\n",
              "    .colab-df-convert:hover {\n",
              "      background-color: #E2EBFA;\n",
              "      box-shadow: 0px 1px 2px rgba(60, 64, 67, 0.3), 0px 1px 3px 1px rgba(60, 64, 67, 0.15);\n",
              "      fill: #174EA6;\n",
              "    }\n",
              "\n",
              "    [theme=dark] .colab-df-convert {\n",
              "      background-color: #3B4455;\n",
              "      fill: #D2E3FC;\n",
              "    }\n",
              "\n",
              "    [theme=dark] .colab-df-convert:hover {\n",
              "      background-color: #434B5C;\n",
              "      box-shadow: 0px 1px 3px 1px rgba(0, 0, 0, 0.15);\n",
              "      filter: drop-shadow(0px 1px 2px rgba(0, 0, 0, 0.3));\n",
              "      fill: #FFFFFF;\n",
              "    }\n",
              "  </style>\n",
              "\n",
              "      <script>\n",
              "        const buttonEl =\n",
              "          document.querySelector('#df-5197a5e2-2a8a-4c24-97f3-5d060494663d button.colab-df-convert');\n",
              "        buttonEl.style.display =\n",
              "          google.colab.kernel.accessAllowed ? 'block' : 'none';\n",
              "\n",
              "        async function convertToInteractive(key) {\n",
              "          const element = document.querySelector('#df-5197a5e2-2a8a-4c24-97f3-5d060494663d');\n",
              "          const dataTable =\n",
              "            await google.colab.kernel.invokeFunction('convertToInteractive',\n",
              "                                                     [key], {});\n",
              "          if (!dataTable) return;\n",
              "\n",
              "          const docLinkHtml = 'Like what you see? Visit the ' +\n",
              "            '<a target=\"_blank\" href=https://colab.research.google.com/notebooks/data_table.ipynb>data table notebook</a>'\n",
              "            + ' to learn more about interactive tables.';\n",
              "          element.innerHTML = '';\n",
              "          dataTable['output_type'] = 'display_data';\n",
              "          await google.colab.output.renderOutput(dataTable, element);\n",
              "          const docLink = document.createElement('div');\n",
              "          docLink.innerHTML = docLinkHtml;\n",
              "          element.appendChild(docLink);\n",
              "        }\n",
              "      </script>\n",
              "    </div>\n",
              "  </div>\n",
              "  "
            ]
          },
          "metadata": {},
          "execution_count": 20
        }
      ]
    },
    {
      "cell_type": "markdown",
      "source": [
        "# Indexing and slicing (columns)"
      ],
      "metadata": {
        "id": "LskH4dd4TwmZ"
      }
    },
    {
      "cell_type": "code",
      "source": [
        "print(\"\\nThe 'X' column\\n\",'-'*25, sep='')\n",
        "print(df['X'])\n",
        "print(\"\\nType of the column: \", type(df['X']), sep='')\n",
        "print(\"\\nThe 'X' and 'Z' columns indexed by passing a list\\n\",'-'*55, sep='')\n",
        "print(df[['X','Z']])\n",
        "print(\"\\nType of the pair of columns: \", type(df[['X','Z']]), sep='')\n",
        "print (\"\\nSo, for more than one column, the object turns into a DataFrame\")\n"
      ],
      "metadata": {
        "colab": {
          "base_uri": "https://localhost:8080/"
        },
        "id": "0MuE2Xi3Tzoa",
        "outputId": "698c8204-85fe-44e1-f856-d9f805efbb8f"
      },
      "execution_count": 14,
      "outputs": [
        {
          "output_type": "stream",
          "name": "stdout",
          "text": [
            "\n",
            "The 'X' column\n",
            "-------------------------\n",
            "A    0.628133\n",
            "B   -0.319318\n",
            "C    0.740122\n",
            "D   -0.758872\n",
            "E    1.978757\n",
            "Name: X, dtype: float64\n",
            "\n",
            "Type of the column: <class 'pandas.core.series.Series'>\n",
            "\n",
            "The 'X' and 'Z' columns indexed by passing a list\n",
            "-------------------------------------------------------\n",
            "          X         Z\n",
            "A  0.628133  0.503826\n",
            "B -0.319318  0.605965\n",
            "C  0.740122 -0.589001\n",
            "D -0.758872  0.955057\n",
            "E  1.978757  0.683509\n",
            "\n",
            "Type of the pair of columns: <class 'pandas.core.frame.DataFrame'>\n",
            "\n",
            "So, for more than one column, the object turns into a DataFrame\n"
          ]
        }
      ]
    },
    {
      "cell_type": "code",
      "source": [
        "print(\"\\nThe 'X' column accessed by DOT method (NOT recommended)\\n\",'-'*55, sep='')\n",
        "print(df.X)"
      ],
      "metadata": {
        "colab": {
          "base_uri": "https://localhost:8080/"
        },
        "id": "ATIlTfq3T9K7",
        "outputId": "8147615d-a434-4850-8f43-6c4bdf1b9415"
      },
      "execution_count": 15,
      "outputs": [
        {
          "output_type": "stream",
          "name": "stdout",
          "text": [
            "\n",
            "The 'X' column accessed by DOT method (NOT recommended)\n",
            "-------------------------------------------------------\n",
            "A    0.628133\n",
            "B   -0.319318\n",
            "C    0.740122\n",
            "D   -0.758872\n",
            "E    1.978757\n",
            "Name: X, dtype: float64\n"
          ]
        }
      ]
    },
    {
      "cell_type": "markdown",
      "source": [
        "## Creating and deleting a (new) column (or row)"
      ],
      "metadata": {
        "id": "RUDomiWDUPIJ"
      }
    },
    {
      "cell_type": "code",
      "source": [
        "print(\"\\nA column is created by assigning it in relation to an existing column\\n\",'-'*75, sep='')\n",
        "\n",
        "df['New'] = df['X']+df['Z']\n",
        "df['New (Sum of X and Z)'] = df['X']+df['Z']\n",
        "\n",
        "print(df)\n",
        "\n",
        "\n",
        "print(\"\\nA column is dropped by using df.drop() method\\n\",'-'*55, sep='')\n",
        "df = df.drop('New', axis=1) # Notice the axis=1 option, axis = 0 is default, so one has to change it to 1\n",
        "print(df)\n",
        "df1=df.drop('A')\n",
        "print(\"\\nA row (index) is dropped by using df.drop() method and axis=0\\n\",'-'*65, sep='')\n",
        "print(df1)\n",
        "print(\"\\nAn in-place change can be done by making inplace=True in the drop method\\n\",'-'*75, sep='')\n",
        "df.drop('New (Sum of X and Z)', axis=1, inplace=True)\n",
        "print(df)"
      ],
      "metadata": {
        "colab": {
          "base_uri": "https://localhost:8080/"
        },
        "id": "C_C53yS8UOro",
        "outputId": "6a859828-9316-4d5d-b751-fa6aa49c9ea9"
      },
      "execution_count": 16,
      "outputs": [
        {
          "output_type": "stream",
          "name": "stdout",
          "text": [
            "\n",
            "A column is created by assigning it in relation to an existing column\n",
            "---------------------------------------------------------------------------\n",
            "          W         X         Y         Z       New  New (Sum of X and Z)\n",
            "A  2.706850  0.628133  0.907969  0.503826  1.131958              1.131958\n",
            "B  0.651118 -0.319318 -0.848077  0.605965  0.286647              0.286647\n",
            "C -2.018168  0.740122  0.528813 -0.589001  0.151122              0.151122\n",
            "D  0.188695 -0.758872 -0.933237  0.955057  0.196184              0.196184\n",
            "E  0.190794  1.978757  2.605967  0.683509  2.662266              2.662266\n",
            "\n",
            "A column is dropped by using df.drop() method\n",
            "-------------------------------------------------------\n",
            "          W         X         Y         Z  New (Sum of X and Z)\n",
            "A  2.706850  0.628133  0.907969  0.503826              1.131958\n",
            "B  0.651118 -0.319318 -0.848077  0.605965              0.286647\n",
            "C -2.018168  0.740122  0.528813 -0.589001              0.151122\n",
            "D  0.188695 -0.758872 -0.933237  0.955057              0.196184\n",
            "E  0.190794  1.978757  2.605967  0.683509              2.662266\n",
            "\n",
            "A row (index) is dropped by using df.drop() method and axis=0\n",
            "-----------------------------------------------------------------\n",
            "          W         X         Y         Z  New (Sum of X and Z)\n",
            "B  0.651118 -0.319318 -0.848077  0.605965              0.286647\n",
            "C -2.018168  0.740122  0.528813 -0.589001              0.151122\n",
            "D  0.188695 -0.758872 -0.933237  0.955057              0.196184\n",
            "E  0.190794  1.978757  2.605967  0.683509              2.662266\n",
            "\n",
            "An in-place change can be done by making inplace=True in the drop method\n",
            "---------------------------------------------------------------------------\n",
            "          W         X         Y         Z\n",
            "A  2.706850  0.628133  0.907969  0.503826\n",
            "B  0.651118 -0.319318 -0.848077  0.605965\n",
            "C -2.018168  0.740122  0.528813 -0.589001\n",
            "D  0.188695 -0.758872 -0.933237  0.955057\n",
            "E  0.190794  1.978757  2.605967  0.683509\n"
          ]
        }
      ]
    },
    {
      "cell_type": "markdown",
      "source": [
        "# Selecting/indexing Rows\n",
        "\n",
        "* Label-based 'loc' method\n",
        "* Index (numeric) 'iloc' method"
      ],
      "metadata": {
        "id": "8-YxpYziVAzg"
      }
    },
    {
      "cell_type": "code",
      "source": [
        "print(\"\\nLabel-based 'loc' method can be used for selecting row(s)\\n\",'-'*60, sep='')\n",
        "print(\"\\nSingle row\\n\")\n",
        "print(df.loc['C'])\n",
        "print(\"\\nMultiple rows\\n\")\n",
        "print(df.loc[['B','C']])\n",
        "print(\"\\nIndex position based 'iloc' method can be used for selecting row(s)\\n\",'-'*70, sep='')\n",
        "print(\"\\nSingle row\\n\")\n",
        "print(df.iloc[2])\n",
        "print(\"\\nMultiple rows\\n\")\n",
        "print(df.iloc[[1,2]])"
      ],
      "metadata": {
        "colab": {
          "base_uri": "https://localhost:8080/"
        },
        "id": "iKsD9wyCVIw0",
        "outputId": "41191cf9-78a1-4560-d4e8-6708d8ca9615"
      },
      "execution_count": 21,
      "outputs": [
        {
          "output_type": "stream",
          "name": "stdout",
          "text": [
            "\n",
            "Label-based 'loc' method can be used for selecting row(s)\n",
            "------------------------------------------------------------\n",
            "\n",
            "Single row\n",
            "\n",
            "W   -2.018168\n",
            "X    0.740122\n",
            "Y    0.528813\n",
            "Z   -0.589001\n",
            "Name: C, dtype: float64\n",
            "\n",
            "Multiple rows\n",
            "\n",
            "          W         X         Y         Z\n",
            "B  0.651118 -0.319318 -0.848077  0.605965\n",
            "C -2.018168  0.740122  0.528813 -0.589001\n",
            "\n",
            "Index position based 'iloc' method can be used for selecting row(s)\n",
            "----------------------------------------------------------------------\n",
            "\n",
            "Single row\n",
            "\n",
            "W   -2.018168\n",
            "X    0.740122\n",
            "Y    0.528813\n",
            "Z   -0.589001\n",
            "Name: C, dtype: float64\n",
            "\n",
            "Multiple rows\n",
            "\n",
            "          W         X         Y         Z\n",
            "B  0.651118 -0.319318 -0.848077  0.605965\n",
            "C -2.018168  0.740122  0.528813 -0.589001\n"
          ]
        }
      ]
    },
    {
      "cell_type": "markdown",
      "source": [
        "# Subsetting DataFrame"
      ],
      "metadata": {
        "id": "9AAjJqEyVYlZ"
      }
    },
    {
      "cell_type": "code",
      "source": [
        "np.random.seed(101)\n",
        "matrix_data = rn(5,4)\n",
        "row_labels = ['A','B','C','D','E']\n",
        "column_headings = ['W','X','Y','Z']\n",
        "df = pd.DataFrame(data=matrix_data, index=row_labels, columns=column_headings)\n",
        "\n",
        "print(\"\\nThe DatFrame\\n\",'-'*45, sep='')\n",
        "print(df)\n",
        "print(\"\\nElement at row 'B' and column 'Y' is\\n\") \n",
        "print(df.loc['B','Y'])\n",
        "print(\"\\nSubset comprising of rows B and D, and columns W and Y, is\\n\")\n",
        "df.loc[['B','D'],['W','Y']]"
      ],
      "metadata": {
        "colab": {
          "base_uri": "https://localhost:8080/",
          "height": 397
        },
        "id": "c87qSX6IVYPK",
        "outputId": "c9d70233-06db-4d0c-d207-7556feb6dd81"
      },
      "execution_count": 22,
      "outputs": [
        {
          "output_type": "stream",
          "name": "stdout",
          "text": [
            "\n",
            "The DatFrame\n",
            "---------------------------------------------\n",
            "          W         X         Y         Z\n",
            "A  2.706850  0.628133  0.907969  0.503826\n",
            "B  0.651118 -0.319318 -0.848077  0.605965\n",
            "C -2.018168  0.740122  0.528813 -0.589001\n",
            "D  0.188695 -0.758872 -0.933237  0.955057\n",
            "E  0.190794  1.978757  2.605967  0.683509\n",
            "\n",
            "Element at row 'B' and column 'Y' is\n",
            "\n",
            "-0.8480769834036315\n",
            "\n",
            "Subset comprising of rows B and D, and columns W and Y, is\n",
            "\n"
          ]
        },
        {
          "output_type": "execute_result",
          "data": {
            "text/plain": [
              "          W         Y\n",
              "B  0.651118 -0.848077\n",
              "D  0.188695 -0.933237"
            ],
            "text/html": [
              "\n",
              "  <div id=\"df-5dc3e85b-91ee-44aa-8ab0-60a1c7488c2a\">\n",
              "    <div class=\"colab-df-container\">\n",
              "      <div>\n",
              "<style scoped>\n",
              "    .dataframe tbody tr th:only-of-type {\n",
              "        vertical-align: middle;\n",
              "    }\n",
              "\n",
              "    .dataframe tbody tr th {\n",
              "        vertical-align: top;\n",
              "    }\n",
              "\n",
              "    .dataframe thead th {\n",
              "        text-align: right;\n",
              "    }\n",
              "</style>\n",
              "<table border=\"1\" class=\"dataframe\">\n",
              "  <thead>\n",
              "    <tr style=\"text-align: right;\">\n",
              "      <th></th>\n",
              "      <th>W</th>\n",
              "      <th>Y</th>\n",
              "    </tr>\n",
              "  </thead>\n",
              "  <tbody>\n",
              "    <tr>\n",
              "      <th>B</th>\n",
              "      <td>0.651118</td>\n",
              "      <td>-0.848077</td>\n",
              "    </tr>\n",
              "    <tr>\n",
              "      <th>D</th>\n",
              "      <td>0.188695</td>\n",
              "      <td>-0.933237</td>\n",
              "    </tr>\n",
              "  </tbody>\n",
              "</table>\n",
              "</div>\n",
              "      <button class=\"colab-df-convert\" onclick=\"convertToInteractive('df-5dc3e85b-91ee-44aa-8ab0-60a1c7488c2a')\"\n",
              "              title=\"Convert this dataframe to an interactive table.\"\n",
              "              style=\"display:none;\">\n",
              "        \n",
              "  <svg xmlns=\"http://www.w3.org/2000/svg\" height=\"24px\"viewBox=\"0 0 24 24\"\n",
              "       width=\"24px\">\n",
              "    <path d=\"M0 0h24v24H0V0z\" fill=\"none\"/>\n",
              "    <path d=\"M18.56 5.44l.94 2.06.94-2.06 2.06-.94-2.06-.94-.94-2.06-.94 2.06-2.06.94zm-11 1L8.5 8.5l.94-2.06 2.06-.94-2.06-.94L8.5 2.5l-.94 2.06-2.06.94zm10 10l.94 2.06.94-2.06 2.06-.94-2.06-.94-.94-2.06-.94 2.06-2.06.94z\"/><path d=\"M17.41 7.96l-1.37-1.37c-.4-.4-.92-.59-1.43-.59-.52 0-1.04.2-1.43.59L10.3 9.45l-7.72 7.72c-.78.78-.78 2.05 0 2.83L4 21.41c.39.39.9.59 1.41.59.51 0 1.02-.2 1.41-.59l7.78-7.78 2.81-2.81c.8-.78.8-2.07 0-2.86zM5.41 20L4 18.59l7.72-7.72 1.47 1.35L5.41 20z\"/>\n",
              "  </svg>\n",
              "      </button>\n",
              "      \n",
              "  <style>\n",
              "    .colab-df-container {\n",
              "      display:flex;\n",
              "      flex-wrap:wrap;\n",
              "      gap: 12px;\n",
              "    }\n",
              "\n",
              "    .colab-df-convert {\n",
              "      background-color: #E8F0FE;\n",
              "      border: none;\n",
              "      border-radius: 50%;\n",
              "      cursor: pointer;\n",
              "      display: none;\n",
              "      fill: #1967D2;\n",
              "      height: 32px;\n",
              "      padding: 0 0 0 0;\n",
              "      width: 32px;\n",
              "    }\n",
              "\n",
              "    .colab-df-convert:hover {\n",
              "      background-color: #E2EBFA;\n",
              "      box-shadow: 0px 1px 2px rgba(60, 64, 67, 0.3), 0px 1px 3px 1px rgba(60, 64, 67, 0.15);\n",
              "      fill: #174EA6;\n",
              "    }\n",
              "\n",
              "    [theme=dark] .colab-df-convert {\n",
              "      background-color: #3B4455;\n",
              "      fill: #D2E3FC;\n",
              "    }\n",
              "\n",
              "    [theme=dark] .colab-df-convert:hover {\n",
              "      background-color: #434B5C;\n",
              "      box-shadow: 0px 1px 3px 1px rgba(0, 0, 0, 0.15);\n",
              "      filter: drop-shadow(0px 1px 2px rgba(0, 0, 0, 0.3));\n",
              "      fill: #FFFFFF;\n",
              "    }\n",
              "  </style>\n",
              "\n",
              "      <script>\n",
              "        const buttonEl =\n",
              "          document.querySelector('#df-5dc3e85b-91ee-44aa-8ab0-60a1c7488c2a button.colab-df-convert');\n",
              "        buttonEl.style.display =\n",
              "          google.colab.kernel.accessAllowed ? 'block' : 'none';\n",
              "\n",
              "        async function convertToInteractive(key) {\n",
              "          const element = document.querySelector('#df-5dc3e85b-91ee-44aa-8ab0-60a1c7488c2a');\n",
              "          const dataTable =\n",
              "            await google.colab.kernel.invokeFunction('convertToInteractive',\n",
              "                                                     [key], {});\n",
              "          if (!dataTable) return;\n",
              "\n",
              "          const docLinkHtml = 'Like what you see? Visit the ' +\n",
              "            '<a target=\"_blank\" href=https://colab.research.google.com/notebooks/data_table.ipynb>data table notebook</a>'\n",
              "            + ' to learn more about interactive tables.';\n",
              "          element.innerHTML = '';\n",
              "          dataTable['output_type'] = 'display_data';\n",
              "          await google.colab.output.renderOutput(dataTable, element);\n",
              "          const docLink = document.createElement('div');\n",
              "          docLink.innerHTML = docLinkHtml;\n",
              "          element.appendChild(docLink);\n",
              "        }\n",
              "      </script>\n",
              "    </div>\n",
              "  </div>\n",
              "  "
            ]
          },
          "metadata": {},
          "execution_count": 22
        }
      ]
    }
  ]
}